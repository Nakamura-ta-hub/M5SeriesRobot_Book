{
  "nbformat": 4,
  "nbformat_minor": 0,
  "metadata": {
    "colab": {
      "name": "3_4_resnet.ipynb のコピー",
      "provenance": [],
      "collapsed_sections": [],
      "include_colab_link": true
    },
    "kernelspec": {
      "name": "python3",
      "display_name": "Python 3"
    },
    "accelerator": "GPU"
  },
  "cells": [
    {
      "cell_type": "markdown",
      "metadata": {
        "id": "view-in-github",
        "colab_type": "text"
      },
      "source": [
        "<a href=\"https://colab.research.google.com/github/Nakamura-ta-hub/M5SeriesRobot_Book/blob/main/3_4_resnet_ipynb_%E3%81%AE%E3%82%B3%E3%83%94%E3%83%BC0203.ipynb\" target=\"_parent\"><img src=\"https://colab.research.google.com/assets/colab-badge.svg\" alt=\"Open In Colab\"/></a>"
      ]
    },
    {
      "cell_type": "code",
      "metadata": {
        "id": "D85SplBZMXAq"
      },
      "source": [
        "import os\r\n",
        "from PIL import Image\r\n",
        "from google.colab import drive,files\r\n",
        "Train_dir_name = \"/content/drive/My Drive/TsukubaRoomba/0203_Train_241by5/4\"\r\n",
        "#Test_dir_name = \"/content/drive/My Drive/ue4Test\"\r\n",
        "Train_files = os.listdir(Train_dir_name)\r\n",
        "#Test_files = os.listdir(Test_dir_name)\r\n",
        "i = 0\r\n",
        "\r\n",
        "for Train_file in Train_files:\r\n",
        "    photo = Image.open(os.path.join(Train_dir_name, Train_file))\r\n",
        "    photo_resize = photo.resize((200,100))\r\n",
        "    photo_resize.convert('RGB').save(\"train0-{}.jpg\".format(i))\r\n",
        "    i = i+1\r\n",
        "\r\n",
        "#for Test_file in Test_files:\r\n",
        "#    photo = Image.open(os.path.join(Test_dir_name, Test_file))\r\n",
        "#    photo.convert('RGB').save(\"test{}.jpg\".format(Test_file))\r\n",
        "\r\n",
        "Train_dir_name = \"/content/drive/My Drive/TsukubaRoomba/0203_Train_241by5/6\"\r\n",
        "Train_files = os.listdir(Train_dir_name)\r\n",
        "i = 0\r\n",
        "\r\n",
        "for Train_file in Train_files:\r\n",
        "    photo = Image.open(os.path.join(Train_dir_name, Train_file))\r\n",
        "    photo_resize = photo.resize((200,100))\r\n",
        "    photo_resize.convert('RGB').save(\"train4-{}.jpg\".format(i))\r\n",
        "    i = i+1\r\n",
        "\r\n",
        "Train_dir_name = \"/content/drive/My Drive/TsukubaRoomba/0203_Train_241by5/7\"\r\n",
        "Train_files = os.listdir(Train_dir_name)\r\n",
        "i = 0\r\n",
        "\r\n",
        "for Train_file in Train_files:\r\n",
        "    photo = Image.open(os.path.join(Train_dir_name, Train_file))\r\n",
        "    photo_resize = photo.resize((200,100))\r\n",
        "    photo_resize.convert('RGB').save(\"train1-{}.jpg\".format(i))\r\n",
        "    i = i+1\r\n",
        "\r\n",
        "Train_dir_name = \"/content/drive/My Drive/TsukubaRoomba/0203_Train_241by5/8\"\r\n",
        "Train_files = os.listdir(Train_dir_name)\r\n",
        "i = 0\r\n",
        "\r\n",
        "for Train_file in Train_files:\r\n",
        "    photo = Image.open(os.path.join(Train_dir_name, Train_file))\r\n",
        "    photo_resize = photo.resize((200,100))\r\n",
        "    photo_resize.convert('RGB').save(\"train2-{}.jpg\".format(i))\r\n",
        "    i = i+1\r\n",
        "\r\n",
        "Train_dir_name = \"/content/drive/My Drive/TsukubaRoomba/0203_Train_241by5/9\"\r\n",
        "Train_files = os.listdir(Train_dir_name)\r\n",
        "i = 0\r\n",
        "\r\n",
        "for Train_file in Train_files:\r\n",
        "    photo = Image.open(os.path.join(Train_dir_name, Train_file))\r\n",
        "    photo_resize = photo.resize((200,100))\r\n",
        "    photo_resize.convert('RGB').save(\"train3-{}.jpg\".format(i))\r\n",
        "    i = i+1\r\n"
      ],
      "execution_count": null,
      "outputs": []
    },
    {
      "cell_type": "code",
      "metadata": {
        "id": "5XpYKd7oOUJv"
      },
      "source": [
        "import os\r\n",
        "from PIL import Image\r\n",
        "from google.colab import drive,files\r\n",
        "#dir_name1 = \"/content/drive/My Drive/TsukubaRoomba/newtrain\"\r\n",
        "#new_dir_name1 = \"/content/drive/My Drive/TsukubaRoomba/reshaped_train/\"\r\n",
        "#files = os.listdir(dir_name)\r\n",
        "#for file in files:\r\n",
        "#    photo = Image.open(os.path.join(dir_name, file))\r\n",
        "#    photo_resize = photo.resize((200,100))\r\n",
        "#    photo_resize.save(os.path.join(new_dir_name, file))\r\n",
        "\r\n",
        "dir_name2 = \"/content/drive/My Drive/TsukubaRoomba/0203_Train_241by5\"\r\n",
        "new_dir_name2 = \"/content/drive/My Drive/train\"\r\n",
        "files = os.listdir(dir_name2)\r\n",
        "for file in files:\r\n",
        "    photo = Image.open(os.path.join(dir_name2, file))\r\n",
        "    photo_resize = photo.resize((120,60))\r\n",
        "    photo_resize.save(os.path.join(new_dir_name2, file))"
      ],
      "execution_count": 49,
      "outputs": []
    },
    {
      "cell_type": "code",
      "metadata": {
        "colab": {
          "base_uri": "https://localhost:8080/"
        },
        "id": "q8NrXCuVNels",
        "outputId": "745e6f87-ca1d-43ad-b870-01021ef4b3d6"
      },
      "source": [
        "%cd /content/drive/My Drive/TsukubaRoomba/0203_Train_241by5"
      ],
      "execution_count": null,
      "outputs": [
        {
          "output_type": "stream",
          "text": [
            "/content/drive/My Drive/TsukubaRoomba/0203_Train_241by5\n"
          ],
          "name": "stdout"
        }
      ]
    },
    {
      "cell_type": "code",
      "metadata": {
        "colab": {
          "base_uri": "https://localhost:8080/"
        },
        "id": "t21TbYqWQPJY",
        "outputId": "ef45c822-ba34-4fa3-e7db-18d5c7464186"
      },
      "source": [
        "from google.colab import drive\r\n",
        "drive.mount('/content/drive')"
      ],
      "execution_count": 31,
      "outputs": [
        {
          "output_type": "stream",
          "text": [
            "Drive already mounted at /content/drive; to attempt to forcibly remount, call drive.mount(\"/content/drive\", force_remount=True).\n"
          ],
          "name": "stdout"
        }
      ]
    },
    {
      "cell_type": "code",
      "metadata": {
        "id": "bGy0k_hBjTsf"
      },
      "source": [
        "# パッケージのインポート\n",
        "from tensorflow.keras.datasets import cifar10\n",
        "from tensorflow.keras.callbacks import LearningRateScheduler\n",
        "from tensorflow.keras.layers import Activation, Add, BatchNormalization, Conv2D, Dense, GlobalAveragePooling2D, Input\n",
        "from tensorflow.keras.models import Model\n",
        "from tensorflow.keras.optimizers import SGD\n",
        "from tensorflow.keras.preprocessing.image import ImageDataGenerator\n",
        "from tensorflow.keras.regularizers import l2\n",
        "from tensorflow.keras.utils import to_categorical\n",
        "\n",
        "from sklearn import svm, datasets\n",
        "from sklearn.model_selection import train_test_split\n",
        "from sklearn.metrics import plot_confusion_matrix\n",
        "import numpy as np\n",
        "import os\n",
        "from PIL import Image\n",
        "import matplotlib.pyplot as plt\n",
        "%matplotlib inline"
      ],
      "execution_count": 32,
      "outputs": []
    },
    {
      "cell_type": "code",
      "metadata": {
        "colab": {
          "base_uri": "https://localhost:8080/"
        },
        "id": "dHbxn-69Q04K",
        "outputId": "499fe9b6-34f1-40a9-ab9d-6aa835d63c3c"
      },
      "source": [
        "%cd /content/drive/MyDrive"
      ],
      "execution_count": 33,
      "outputs": [
        {
          "output_type": "stream",
          "text": [
            "/content/drive/MyDrive\n"
          ],
          "name": "stdout"
        }
      ]
    },
    {
      "cell_type": "code",
      "metadata": {
        "id": "32T_8TgsQ5wF"
      },
      "source": [
        "#入力データの整理\r\n",
        "Train_images = []\r\n",
        "#Train_labels = [0,0,0,1,1,2,2,2,2,2,2,2,2,4,4,3,2,2,2,0,0,1,2,2,2,2,1,1,2,2,1,2,2,2,2,2,2,2,2,3,2,2,2,2,2,0,0,1,1,2,2,2,4,4,4,3,2,2,2,1,2,2,2,2,2,2,4,4,2,2,0,0,2,2,2,2,4,3,3,2,2,2,0,1,2,2,2,1,2,2,2,2,2,0,0,0,2,2,2,2,2,2,4,4,3,2,2,2,2,2,2,2,2,2,4,4,2,2,4,2,2,2,2,2,2,2,3,2,2,2,2,2,2,2,2,4,4,4,3,2,2,2,2,2,2,2,2,0,0,1,2,2,2,2,2,4,4,4,2,2,2,2,0,0,0,1,1,2,2,2,1,2,2,2,2,2,2,2,2,2,2,2,2,0,0,1,2,2,2,2,2,2,4,4,4,4,4,2,2,2,2,2,2,2,2,2,2,2,3,3,2,2,2,1,1,2,1,2,2,2,2,2,2,2,2,2,4,4,4,4,4,4,3,2,2,2,2,2,2,2,0,0,1,1,2,2,2,2,2,2,2,2,2,2,2,3,2,2,2,0,0,2,2,1,2,2,2,2,0,0,0,1,2,2,2,2,1,2,2,2,1,2,2,2,2,2,4,3,3,2,2,2,2,4,4,3,2,2,2,0,0,1,2,2,1,2,2,1,2,2,2,2,2,2,2,4,4,4,3,3,3,2,2,2,2,2,2,2,1,2,2,2,2,2,3,2,2,2,0,0,1,2,2,2,2,2,2,2,2,2,2,4,4,4,3,2,2,0,0,0,0,1,2,2,2,2,2,2,1,2,2,2,2,4,4,4,3,2,2,2,2,3,2,2,2,2,2,2,2,2,2,0,1,2,2,2,2,2,2,2,2,1,2,2,2,2,2,2,2,2,4,4,4,2,2,2,2,0,0,0,0,1,2,2,2,2,2,2,1,2,2,2,2,2,2,2,2,2,2,2,2,2,3,2,2,2,1,1,1,2,2,2,2,2,0,1,1,2,2,2,2,2,4,4,4,3,2,2,2,2,2,1,1,2,1,1,2,2,2,2,2,2,2,4,4,3,2,2,2,2,1,2,2,2,2,2,2,2,2,2,4,4,3,2,2,2,2,2,2,2,2,0,0,0,0,1,2,2,2,2,2,2,2,2,2,1,2,2,2,2,2,2,2,4,4,4,3,3,2,2,2,2,2,2,2,2,2,0,0,0,1,2,2,2,2,2,4,4,4,2,2,2,2,2,2,2,3,3,2,2,2,2,2,1,1,2,2,2,1,2,2,2,2,2,2,4,4,3,3,2,2,2,2,2,2,4,4,4,4,3,3,2,2,2,2,2,0,0,0,0,1,2,2,2,2,2,2,2,3,2,2,2,2,2,0,0,1,2,2,2,2,1,2,2,1,2,2,2,2,2,2,2,0,0,0,1,2,2,2,2,1,2,2,2,1,2,2,2,2,2,2,2,2,4,4,4,4,2,2,2,2,2,2,2,2,2,2,2,2,2,4,4,4,2,2,2,2,0,0,0,2,2,2,1,2,2,2,2,4,2,2,2,1,2,2,2,2,2,2,2,2,2,2,2,0,0,0,1,2,2,1,2,2,1,2,2,2,2,2,2,3,2,2,2,2,2,1,2,2,2,2,2,3,2,2,2,2,1,2,2,2,2,3,2,2,2,2,2,4,4,4,3,2,2,2,2,2,2,2,0,0,0,1,2,2,2,2,2,2,2,4,2,2,2,2,2,3,2,2,2,2,2,1,2,2,2,2,2,0,0,0,0,1,2,2,2,1,2,2,2,1,2,2,2,2,2,3,2,2,2,1,2,2,2,2,3,2,2,2,2,4,4,3,3,2,2,0,1,1,2,2,2,2,2,0,0,0,0,1,2,2,2,1,2,2,4,3,3,2,2,2,0,1,1,1,2,2,2,2,2,1,2,2,2,3,2,2,2,2,2,2,4,4,3,3,2,2,2,2,2,2,0,0,0,0,1,2,2,2,1,2,2,2,2,3,2,2,2,2,1,2,2,2,1,1,1,2,2,2,2,1,2,3,2,0,0,0,0,0,1,2,2,2,2,2,2,2,4,4,4,3,3,2,2,2,2,2,2,0,0,1,2,2,2,2,4,4,2,2,2,2,0,1,1,2,2,2,2,2,2,2,2,2,0,0,0,0,2,2,2,1,2,2,2,2,2,2,2,3,3,3,3,3,2,2,2,1,2,2,2,2,2,3,2,2,2,2,0,0,0,1,2,2,2,2,2,4,4,4,3,3,2,2,2,2,2,1,2,2,2,4,4,2,2,3,2,2,2,2,2,0,2,2,2,2,2,2,2,2,2,2,2,0,0,0,1,1,2,2,2,1,2,2,2,4,4,4,3,2,2,2,2,2,2,2,2,1,1,2,2,2,2,2,2,2,2,4,4,4,2,2,4,4,2,2,2,2,2,0,0,0,2,2,2,2,1,2,2,2,3,3,2,2,2,1,2,2,2,2,3,2,2,2,2,2,2,1,1,2,2,2,3,3,3,2,2,2,2,2,2,2,2,1,2,2,2,2,2,2,0,0,0,1,1,2,2,2,2,2,1,2,2,2,1,2,2,2,2,2,3,2,2,2,0,0,2,2,2,2,4,4,3,2,2,2,2,2,1,2,2,1,2,2,3,2,2,2,3,2,2,2,2,0,0,0,0,0,2,2,2,2,4,2,2,3,2,2,2,2,2,0,1,2,2,2,2,2,1,2,2,2,3,2,2,1,2,2,2,2,2,2,3,2,2,2,2,2,2,4,4,3,2,2,3,2,2,2,2,0,1,2,2,2,2,1,2,2,1,2,2,2,2,2,3,2,2,2,2,4,4,3,2,2,2,0,0,1,1,2,2,2,1,2,2,2,2,2,2,2,2,2,4,4,4,4,1,2,2,2,2,2,1,2,2,2,3,2,2,2,2,2,2,2,2,0,0,2,2,4,3,3,2,2,2,2,1,2,2,2,2,2,2,2,2,2,2,2,2,0,0,1,1,2,2,2,2,1,2,2,2,1,2,2,2,3,2,2,2,2,2,2,2,1,2,2,2,3,2,2,2,2,2,2,2,2,2,2]\r\n",
        "Train_labels =[]\r\n",
        "i = 0\r\n",
        "j = 0\r\n",
        "while j < 241:\r\n",
        "    Train_labels.append(0)\r\n",
        "    j = j+1\r\n",
        "\r\n",
        "j = 0\r\n",
        "while j < 241:\r\n",
        "    Train_labels.append(1)\r\n",
        "    j = j+1\r\n",
        "\r\n",
        "j = 0\r\n",
        "while j < 241:\r\n",
        "    Train_labels.append(2)\r\n",
        "    j = j+1\r\n",
        "\r\n",
        "j = 0\r\n",
        "while j < 241:\r\n",
        "    Train_labels.append(3)\r\n",
        "    j = j+1\r\n",
        "\r\n",
        "j = 0\r\n",
        "while j < 241:\r\n",
        "    Train_labels.append(4)\r\n",
        "    j = j+1\r\n",
        "\r\n",
        "Test_images = []\r\n",
        "#Test_labels = [2,2,2,0,1,2,2,2,2,2,4,3,4,2,2,1,2,2,2,4,1,1,2,2,2,2,2,0,0,0,2,2,1,2,2,2,4,4,3,2,2,2,3,2,2,2,1,2,2,2,0,2,2,2,4,3,3,2,2,3,2,2,2,1,2,2,2,2,2,2,0,0,1,2,1,2,2,2,1,2,2,2,2,2,3,2,2,2,0,0,2,2,4,4,3,2,2,2,2,4,4,4,3,3,3,2,2,1,2,2,2,0,0,0,2,2,1,2,2,3,2,2,4,4,2,2,2,0,0,0,1,1,2,2,2,2,2,4,4,4,3,2,2,2,3,2,2,2,2,1,2,2,3,2,2,2,1,2,2,2,2,2,2,4,4,4,3,2,2,2,1,2,2,2,3,2,2,2,1,1,1,2,2,2,0,1,1,2,2,1,2,2,2,0,0,0,0,2,2,1,2,2,2,4,4,3,3,2,2,2,2,1,2,2,2,3,2,2,2,2,2,2,2,4,4,4,4,4,3,3,2,2,1,2,2,2,2,2,4,4,4,4,2,2,0,1,1,2,1,2,2,2,2,1,2,2,2,2,0,1,1,2,1,2,2,2,1,2,2,2,3,2,2,2,2,4,4,3,2,2,2,0,0,1,1,2,1,2,2,2,2,2,2,4,4,4,4,3,2,2,2,2,2,1,1,2,2,2,3,2,2,2,2,2,0,0,0,0,1,2,2,2,1,2,2,2,3,2,2,2,1,2,2,4,4,4,3,3,2,2,2,2,0,0,1,1,2,2,2,2,2,4,3,3,3,2,2,2,0,0,1,1,1,2,2,2,2,0,0,0,1,2,2,2,4,4,4,3,2,2,2,1,2,2,3,2,2,2,2,2,4,4,4,4,2,2,2,2,4,4,4,4,2,1,2,1,2,2,3,2,2,2,1,1,3,2,2,2,1,2,2,2,0,0,0,1,2,1,2,2,1,2,2,3,2,2,2,2,0,1,1,2,2,1,2,2,1,2,2,2,3,2,2,2,2,2]\r\n",
        "Test_labels =[2,0,4,3,4,1,4,1,1,0,0,0,2,2,1,\r\n",
        "              4,4,3,3,1,0,4,3,3,3,1,2,0,0,1,\r\n",
        "              1,1,3,0,0,4,4,3,4,4,4,3,3,3,2,\r\n",
        "              2,1,0,0,0,1,3,4,4,0,0,0,1,1,2,\r\n",
        "              4,4,4,3,3,1,3,1,4,4,4,3,1,3,2,\r\n",
        "              2,2,1,1,1,2,2,2,0,1,1,2,2,1,2,\r\n",
        "              2,2,0,0,0,0,2,2,1,2,2,2,4,4,3,\r\n",
        "              3,1,3,4,4,4,3,3,0,0,3,3,0,0,2]\r\n",
        "\r\n",
        "#Train_dir_name = \"/content/drive/My Drive/train\"\r\n",
        "#Test_dir_name = \"/content/drive/My Drive/test\"\r\n",
        "Train_dir_name = \"/content/drive/My Drive/train\"\r\n",
        "Test_dir_name = \"/content/drive/My Drive/test\"\r\n",
        "Train_files = os.listdir(Train_dir_name) \r\n",
        "Test_files = os.listdir(Test_dir_name)\r\n",
        "for Train_file in Train_files:\r\n",
        "    photo = np.array(Image.open(os.path.join(Train_dir_name, Train_file)))\r\n",
        "    Train_images.append(photo)\r\n",
        "for Test_file in Test_files:\r\n",
        "    photo = np.array(Image.open(os.path.join(Test_dir_name, Test_file)))\r\n",
        "    Test_images.append(photo)"
      ],
      "execution_count": 52,
      "outputs": []
    },
    {
      "cell_type": "code",
      "metadata": {
        "id": "zdp6F7pMt_X6"
      },
      "source": [
        "Train_labels =[]\r\n",
        "i = 0\r\n",
        "j = 0\r\n",
        "while j < 242:\r\n",
        "    Train_labels.append(0)\r\n",
        "    j = j+1\r\n",
        "\r\n",
        "j = 0\r\n",
        "while j < 242:\r\n",
        "    Train_labels.append(1)\r\n",
        "    j = j+1\r\n",
        "\r\n",
        "j = 0\r\n",
        "while j < 242:\r\n",
        "    Train_labels.append(2)\r\n",
        "    j = j+1\r\n",
        "\r\n",
        "j = 0\r\n",
        "while j < 242:\r\n",
        "    Train_labels.append(3)\r\n",
        "    j = j+1\r\n",
        "\r\n",
        "j = 0\r\n",
        "while j < 242:\r\n",
        "    Train_labels.append(4)\r\n",
        "    j = j+1"
      ],
      "execution_count": 41,
      "outputs": []
    },
    {
      "cell_type": "code",
      "metadata": {
        "colab": {
          "base_uri": "https://localhost:8080/"
        },
        "id": "2NOYjEl6ujRR",
        "outputId": "971fc266-cc7d-4fa5-e865-d7444ddeb630"
      },
      "source": [
        "print(Train_labels)"
      ],
      "execution_count": 44,
      "outputs": [
        {
          "output_type": "stream",
          "text": [
            "[0, 0, 0, 0, 0, 0, 0, 0, 0, 0, 0, 0, 0, 0, 0, 0, 0, 0, 0, 0, 0, 0, 0, 0, 0, 0, 0, 0, 0, 0, 0, 0, 0, 0, 0, 0, 0, 0, 0, 0, 0, 0, 0, 0, 0, 0, 0, 0, 0, 0, 0, 0, 0, 0, 0, 0, 0, 0, 0, 0, 0, 0, 0, 0, 0, 0, 0, 0, 0, 0, 0, 0, 0, 0, 0, 0, 0, 0, 0, 0, 0, 0, 0, 0, 0, 0, 0, 0, 0, 0, 0, 0, 0, 0, 0, 0, 0, 0, 0, 0, 0, 0, 0, 0, 0, 0, 0, 0, 0, 0, 0, 0, 0, 0, 0, 0, 0, 0, 0, 0, 0, 0, 0, 0, 0, 0, 0, 0, 0, 0, 0, 0, 0, 0, 0, 0, 0, 0, 0, 0, 0, 0, 0, 0, 0, 0, 0, 0, 0, 0, 0, 0, 0, 0, 0, 0, 0, 0, 0, 0, 0, 0, 0, 0, 0, 0, 0, 0, 0, 0, 0, 0, 0, 0, 0, 0, 0, 0, 0, 0, 0, 0, 0, 0, 0, 0, 0, 0, 0, 0, 0, 0, 0, 0, 0, 0, 0, 0, 0, 0, 0, 0, 0, 0, 0, 0, 0, 0, 0, 0, 0, 0, 0, 0, 0, 0, 0, 0, 0, 0, 0, 0, 0, 0, 0, 0, 0, 0, 0, 0, 0, 0, 0, 0, 0, 0, 0, 0, 0, 0, 0, 0, 1, 1, 1, 1, 1, 1, 1, 1, 1, 1, 1, 1, 1, 1, 1, 1, 1, 1, 1, 1, 1, 1, 1, 1, 1, 1, 1, 1, 1, 1, 1, 1, 1, 1, 1, 1, 1, 1, 1, 1, 1, 1, 1, 1, 1, 1, 1, 1, 1, 1, 1, 1, 1, 1, 1, 1, 1, 1, 1, 1, 1, 1, 1, 1, 1, 1, 1, 1, 1, 1, 1, 1, 1, 1, 1, 1, 1, 1, 1, 1, 1, 1, 1, 1, 1, 1, 1, 1, 1, 1, 1, 1, 1, 1, 1, 1, 1, 1, 1, 1, 1, 1, 1, 1, 1, 1, 1, 1, 1, 1, 1, 1, 1, 1, 1, 1, 1, 1, 1, 1, 1, 1, 1, 1, 1, 1, 1, 1, 1, 1, 1, 1, 1, 1, 1, 1, 1, 1, 1, 1, 1, 1, 1, 1, 1, 1, 1, 1, 1, 1, 1, 1, 1, 1, 1, 1, 1, 1, 1, 1, 1, 1, 1, 1, 1, 1, 1, 1, 1, 1, 1, 1, 1, 1, 1, 1, 1, 1, 1, 1, 1, 1, 1, 1, 1, 1, 1, 1, 1, 1, 1, 1, 1, 1, 1, 1, 1, 1, 1, 1, 1, 1, 1, 1, 1, 1, 1, 1, 1, 1, 1, 1, 1, 1, 1, 1, 1, 1, 1, 1, 1, 1, 1, 1, 1, 1, 1, 1, 1, 1, 1, 1, 1, 1, 1, 1, 1, 1, 1, 1, 1, 1, 2, 2, 2, 2, 2, 2, 2, 2, 2, 2, 2, 2, 2, 2, 2, 2, 2, 2, 2, 2, 2, 2, 2, 2, 2, 2, 2, 2, 2, 2, 2, 2, 2, 2, 2, 2, 2, 2, 2, 2, 2, 2, 2, 2, 2, 2, 2, 2, 2, 2, 2, 2, 2, 2, 2, 2, 2, 2, 2, 2, 2, 2, 2, 2, 2, 2, 2, 2, 2, 2, 2, 2, 2, 2, 2, 2, 2, 2, 2, 2, 2, 2, 2, 2, 2, 2, 2, 2, 2, 2, 2, 2, 2, 2, 2, 2, 2, 2, 2, 2, 2, 2, 2, 2, 2, 2, 2, 2, 2, 2, 2, 2, 2, 2, 2, 2, 2, 2, 2, 2, 2, 2, 2, 2, 2, 2, 2, 2, 2, 2, 2, 2, 2, 2, 2, 2, 2, 2, 2, 2, 2, 2, 2, 2, 2, 2, 2, 2, 2, 2, 2, 2, 2, 2, 2, 2, 2, 2, 2, 2, 2, 2, 2, 2, 2, 2, 2, 2, 2, 2, 2, 2, 2, 2, 2, 2, 2, 2, 2, 2, 2, 2, 2, 2, 2, 2, 2, 2, 2, 2, 2, 2, 2, 2, 2, 2, 2, 2, 2, 2, 2, 2, 2, 2, 2, 2, 2, 2, 2, 2, 2, 2, 2, 2, 2, 2, 2, 2, 2, 2, 2, 2, 2, 2, 2, 2, 2, 2, 2, 2, 2, 2, 2, 2, 2, 2, 2, 2, 2, 2, 2, 2, 3, 3, 3, 3, 3, 3, 3, 3, 3, 3, 3, 3, 3, 3, 3, 3, 3, 3, 3, 3, 3, 3, 3, 3, 3, 3, 3, 3, 3, 3, 3, 3, 3, 3, 3, 3, 3, 3, 3, 3, 3, 3, 3, 3, 3, 3, 3, 3, 3, 3, 3, 3, 3, 3, 3, 3, 3, 3, 3, 3, 3, 3, 3, 3, 3, 3, 3, 3, 3, 3, 3, 3, 3, 3, 3, 3, 3, 3, 3, 3, 3, 3, 3, 3, 3, 3, 3, 3, 3, 3, 3, 3, 3, 3, 3, 3, 3, 3, 3, 3, 3, 3, 3, 3, 3, 3, 3, 3, 3, 3, 3, 3, 3, 3, 3, 3, 3, 3, 3, 3, 3, 3, 3, 3, 3, 3, 3, 3, 3, 3, 3, 3, 3, 3, 3, 3, 3, 3, 3, 3, 3, 3, 3, 3, 3, 3, 3, 3, 3, 3, 3, 3, 3, 3, 3, 3, 3, 3, 3, 3, 3, 3, 3, 3, 3, 3, 3, 3, 3, 3, 3, 3, 3, 3, 3, 3, 3, 3, 3, 3, 3, 3, 3, 3, 3, 3, 3, 3, 3, 3, 3, 3, 3, 3, 3, 3, 3, 3, 3, 3, 3, 3, 3, 3, 3, 3, 3, 3, 3, 3, 3, 3, 3, 3, 3, 3, 3, 3, 3, 3, 3, 3, 3, 3, 3, 3, 3, 3, 3, 3, 3, 3, 3, 3, 3, 3, 3, 3, 3, 3, 3, 3, 4, 4, 4, 4, 4, 4, 4, 4, 4, 4, 4, 4, 4, 4, 4, 4, 4, 4, 4, 4, 4, 4, 4, 4, 4, 4, 4, 4, 4, 4, 4, 4, 4, 4, 4, 4, 4, 4, 4, 4, 4, 4, 4, 4, 4, 4, 4, 4, 4, 4, 4, 4, 4, 4, 4, 4, 4, 4, 4, 4, 4, 4, 4, 4, 4, 4, 4, 4, 4, 4, 4, 4, 4, 4, 4, 4, 4, 4, 4, 4, 4, 4, 4, 4, 4, 4, 4, 4, 4, 4, 4, 4, 4, 4, 4, 4, 4, 4, 4, 4, 4, 4, 4, 4, 4, 4, 4, 4, 4, 4, 4, 4, 4, 4, 4, 4, 4, 4, 4, 4, 4, 4, 4, 4, 4, 4, 4, 4, 4, 4, 4, 4, 4, 4, 4, 4, 4, 4, 4, 4, 4, 4, 4, 4, 4, 4, 4, 4, 4, 4, 4, 4, 4, 4, 4, 4, 4, 4, 4, 4, 4, 4, 4, 4, 4, 4, 4, 4, 4, 4, 4, 4, 4, 4, 4, 4, 4, 4, 4, 4, 4, 4, 4, 4, 4, 4, 4, 4, 4, 4, 4, 4, 4, 4, 4, 4, 4, 4, 4, 4, 4, 4, 4, 4, 4, 4, 4, 4, 4, 4, 4, 4, 4, 4, 4, 4, 4, 4, 4, 4, 4, 4, 4, 4, 4, 4, 4, 4, 4, 4, 4, 4, 4, 4, 4, 4, 4, 4, 4, 4, 4, 4]\n"
          ],
          "name": "stdout"
        }
      ]
    },
    {
      "cell_type": "code",
      "metadata": {
        "colab": {
          "base_uri": "https://localhost:8080/"
        },
        "id": "2NGfBEEKRZDv",
        "outputId": "2e19d3cd-6cac-486f-e5fb-21987c1b7902"
      },
      "source": [
        "# データの配列化\r\n",
        "Train_images = np.array(Train_images)\r\n",
        "Train_labels = np.array(Train_labels)\r\n",
        "Test_images = np.array(Test_images)\r\n",
        "Test_labels = np.array(Test_labels)\r\n",
        "print(Train_images.shape)\r\n",
        "print(Train_labels.shape)\r\n",
        "print(Test_images.shape)\r\n",
        "print(Test_labels.shape)\r\n",
        "\r\n",
        "# データセットの画像の前処理\r\n",
        "Train_images = Train_images.astype('float32')/255.0\r\n",
        "Test_images = Test_images.astype('float32')/255.0\r\n",
        "\r\n",
        "# データセットの画像の前処理後のシェイプの確認\r\n",
        "print(Train_images.shape)\r\n",
        "print(Test_images.shape)\r\n",
        "\r\n",
        "# データセットのラベルの前処理\r\n",
        "Train_labels = to_categorical(Train_labels, 5)\r\n",
        "Test_labels = to_categorical(Test_labels, 5)\r\n",
        "\r\n",
        "# データセットのラベルの前処理後のシェイプの確認\r\n",
        "print(Train_labels.shape)\r\n",
        "print(Test_labels.shape)"
      ],
      "execution_count": 53,
      "outputs": [
        {
          "output_type": "stream",
          "text": [
            "(1205, 60, 120, 3)\n",
            "(1205,)\n",
            "(120, 60, 120, 3)\n",
            "(120,)\n",
            "(1205, 60, 120, 3)\n",
            "(120, 60, 120, 3)\n",
            "(1205, 5)\n",
            "(120, 5)\n"
          ],
          "name": "stdout"
        }
      ]
    },
    {
      "cell_type": "code",
      "metadata": {
        "id": "u9QwdOOZjTsq",
        "colab": {
          "base_uri": "https://localhost:8080/",
          "height": 240
        },
        "outputId": "220cc54f-7484-4ce6-d41c-a66b22d81c9c"
      },
      "source": [
        "# データセットのシェイプの確認\n",
        "print(train_images.shape)\n",
        "print(train_labels.shape)\n",
        "print(test_images.shape)\n",
        "print(test_labels.shape)"
      ],
      "execution_count": null,
      "outputs": [
        {
          "output_type": "error",
          "ename": "NameError",
          "evalue": "ignored",
          "traceback": [
            "\u001b[0;31m---------------------------------------------------------------------------\u001b[0m",
            "\u001b[0;31mNameError\u001b[0m                                 Traceback (most recent call last)",
            "\u001b[0;32m<ipython-input-13-c652f4d15190>\u001b[0m in \u001b[0;36m<module>\u001b[0;34m()\u001b[0m\n\u001b[1;32m      1\u001b[0m \u001b[0;31m# データセットのシェイプの確認\u001b[0m\u001b[0;34m\u001b[0m\u001b[0;34m\u001b[0m\u001b[0;34m\u001b[0m\u001b[0m\n\u001b[0;32m----> 2\u001b[0;31m \u001b[0mprint\u001b[0m\u001b[0;34m(\u001b[0m\u001b[0mtrain_images\u001b[0m\u001b[0;34m.\u001b[0m\u001b[0mshape\u001b[0m\u001b[0;34m)\u001b[0m\u001b[0;34m\u001b[0m\u001b[0;34m\u001b[0m\u001b[0m\n\u001b[0m\u001b[1;32m      3\u001b[0m \u001b[0mprint\u001b[0m\u001b[0;34m(\u001b[0m\u001b[0mtrain_labels\u001b[0m\u001b[0;34m.\u001b[0m\u001b[0mshape\u001b[0m\u001b[0;34m)\u001b[0m\u001b[0;34m\u001b[0m\u001b[0;34m\u001b[0m\u001b[0m\n\u001b[1;32m      4\u001b[0m \u001b[0mprint\u001b[0m\u001b[0;34m(\u001b[0m\u001b[0mtest_images\u001b[0m\u001b[0;34m.\u001b[0m\u001b[0mshape\u001b[0m\u001b[0;34m)\u001b[0m\u001b[0;34m\u001b[0m\u001b[0;34m\u001b[0m\u001b[0m\n\u001b[1;32m      5\u001b[0m \u001b[0mprint\u001b[0m\u001b[0;34m(\u001b[0m\u001b[0mtest_labels\u001b[0m\u001b[0;34m.\u001b[0m\u001b[0mshape\u001b[0m\u001b[0;34m)\u001b[0m\u001b[0;34m\u001b[0m\u001b[0;34m\u001b[0m\u001b[0m\n",
            "\u001b[0;31mNameError\u001b[0m: name 'train_images' is not defined"
          ]
        }
      ]
    },
    {
      "cell_type": "code",
      "metadata": {
        "id": "_wOc027IjTsu",
        "colab": {
          "base_uri": "https://localhost:8080/",
          "height": 227
        },
        "outputId": "42a70236-4ecd-4347-a910-179bbb5ba871"
      },
      "source": [
        "# データセットの画像の確認\n",
        "for i in range(10):\n",
        "    plt.subplot(2, 5, i+1)\n",
        "    plt.imshow(Train_images[i])\n",
        "plt.show()"
      ],
      "execution_count": null,
      "outputs": [
        {
          "output_type": "display_data",
          "data": {
            "image/png": "[encoded data removed]",
            "text/plain": [
              "<Figure size 432x288 with 10 Axes>"
            ]
          },
          "metadata": {
            "tags": [],
            "needs_background": "light"
          }
        }
      ]
    },
    {
      "cell_type": "code",
      "metadata": {
        "id": "MBdUqsVdjTsx",
        "colab": {
          "base_uri": "https://localhost:8080/"
        },
        "outputId": "b85ca517-7c78-4176-f30e-e69ae57658d0"
      },
      "source": [
        "# データセットのラベルの確認\n",
        "print(Train_labels[900:1050])"
      ],
      "execution_count": 72,
      "outputs": [
        {
          "output_type": "stream",
          "text": [
            "[[0. 0. 0. 1. 0.]\n",
            " [0. 0. 0. 1. 0.]\n",
            " [0. 0. 0. 1. 0.]\n",
            " [0. 0. 0. 1. 0.]\n",
            " [0. 0. 0. 1. 0.]\n",
            " [0. 0. 0. 1. 0.]\n",
            " [0. 0. 0. 1. 0.]\n",
            " [0. 0. 0. 1. 0.]\n",
            " [0. 0. 0. 1. 0.]\n",
            " [0. 0. 0. 1. 0.]\n",
            " [0. 0. 0. 1. 0.]\n",
            " [0. 0. 0. 1. 0.]\n",
            " [0. 0. 0. 1. 0.]\n",
            " [0. 0. 0. 1. 0.]\n",
            " [0. 0. 0. 1. 0.]\n",
            " [0. 0. 0. 1. 0.]\n",
            " [0. 0. 0. 1. 0.]\n",
            " [0. 0. 0. 1. 0.]\n",
            " [0. 0. 0. 1. 0.]\n",
            " [0. 0. 0. 1. 0.]\n",
            " [0. 0. 0. 1. 0.]\n",
            " [0. 0. 0. 1. 0.]\n",
            " [0. 0. 0. 1. 0.]\n",
            " [0. 0. 0. 1. 0.]\n",
            " [0. 0. 0. 1. 0.]\n",
            " [0. 0. 0. 1. 0.]\n",
            " [0. 0. 0. 1. 0.]\n",
            " [0. 0. 0. 1. 0.]\n",
            " [0. 0. 0. 1. 0.]\n",
            " [0. 0. 0. 1. 0.]\n",
            " [0. 0. 0. 1. 0.]\n",
            " [0. 0. 0. 1. 0.]\n",
            " [0. 0. 0. 1. 0.]\n",
            " [0. 0. 0. 1. 0.]\n",
            " [0. 0. 0. 1. 0.]\n",
            " [0. 0. 0. 1. 0.]\n",
            " [0. 0. 0. 1. 0.]\n",
            " [0. 0. 0. 1. 0.]\n",
            " [0. 0. 0. 1. 0.]\n",
            " [0. 0. 0. 1. 0.]\n",
            " [0. 0. 0. 1. 0.]\n",
            " [0. 0. 0. 1. 0.]\n",
            " [0. 0. 0. 1. 0.]\n",
            " [0. 0. 0. 1. 0.]\n",
            " [0. 0. 0. 1. 0.]\n",
            " [0. 0. 0. 1. 0.]\n",
            " [0. 0. 0. 1. 0.]\n",
            " [0. 0. 0. 1. 0.]\n",
            " [0. 0. 0. 1. 0.]\n",
            " [0. 0. 0. 1. 0.]\n",
            " [0. 0. 0. 1. 0.]\n",
            " [0. 0. 0. 1. 0.]\n",
            " [0. 0. 0. 1. 0.]\n",
            " [0. 0. 0. 1. 0.]\n",
            " [0. 0. 0. 1. 0.]\n",
            " [0. 0. 0. 1. 0.]\n",
            " [0. 0. 0. 1. 0.]\n",
            " [0. 0. 0. 1. 0.]\n",
            " [0. 0. 0. 1. 0.]\n",
            " [0. 0. 0. 1. 0.]\n",
            " [0. 0. 0. 1. 0.]\n",
            " [0. 0. 0. 1. 0.]\n",
            " [0. 0. 0. 1. 0.]\n",
            " [0. 0. 0. 1. 0.]\n",
            " [0. 0. 0. 0. 1.]\n",
            " [0. 0. 0. 0. 1.]\n",
            " [0. 0. 0. 0. 1.]\n",
            " [0. 0. 0. 0. 1.]\n",
            " [0. 0. 0. 0. 1.]\n",
            " [0. 0. 0. 0. 1.]\n",
            " [0. 0. 0. 0. 1.]\n",
            " [0. 0. 0. 0. 1.]\n",
            " [0. 0. 0. 0. 1.]\n",
            " [0. 0. 0. 0. 1.]\n",
            " [0. 0. 0. 0. 1.]\n",
            " [0. 0. 0. 0. 1.]\n",
            " [0. 0. 0. 0. 1.]\n",
            " [0. 0. 0. 0. 1.]\n",
            " [0. 0. 0. 0. 1.]\n",
            " [0. 0. 0. 0. 1.]\n",
            " [0. 0. 0. 0. 1.]\n",
            " [0. 0. 0. 0. 1.]\n",
            " [0. 0. 0. 0. 1.]\n",
            " [0. 0. 0. 0. 1.]\n",
            " [0. 0. 0. 0. 1.]\n",
            " [0. 0. 0. 0. 1.]\n",
            " [0. 0. 0. 0. 1.]\n",
            " [0. 0. 0. 0. 1.]\n",
            " [0. 0. 0. 0. 1.]\n",
            " [0. 0. 0. 0. 1.]\n",
            " [0. 0. 0. 0. 1.]\n",
            " [0. 0. 0. 0. 1.]\n",
            " [0. 0. 0. 0. 1.]\n",
            " [0. 0. 0. 0. 1.]\n",
            " [0. 0. 0. 0. 1.]\n",
            " [0. 0. 0. 0. 1.]\n",
            " [0. 0. 0. 0. 1.]\n",
            " [0. 0. 0. 0. 1.]\n",
            " [0. 0. 0. 0. 1.]\n",
            " [0. 0. 0. 0. 1.]\n",
            " [0. 0. 0. 0. 1.]\n",
            " [0. 0. 0. 0. 1.]\n",
            " [0. 0. 0. 0. 1.]\n",
            " [0. 0. 0. 0. 1.]\n",
            " [0. 0. 0. 0. 1.]\n",
            " [0. 0. 0. 0. 1.]\n",
            " [0. 0. 0. 0. 1.]\n",
            " [0. 0. 0. 0. 1.]\n",
            " [0. 0. 0. 0. 1.]\n",
            " [0. 0. 0. 0. 1.]\n",
            " [0. 0. 0. 0. 1.]\n",
            " [0. 0. 0. 0. 1.]\n",
            " [0. 0. 0. 0. 1.]\n",
            " [0. 0. 0. 0. 1.]\n",
            " [0. 0. 0. 0. 1.]\n",
            " [0. 0. 0. 0. 1.]\n",
            " [0. 0. 0. 0. 1.]\n",
            " [0. 0. 0. 0. 1.]\n",
            " [0. 0. 0. 0. 1.]\n",
            " [0. 0. 0. 0. 1.]\n",
            " [0. 0. 0. 0. 1.]\n",
            " [0. 0. 0. 0. 1.]\n",
            " [0. 0. 0. 0. 1.]\n",
            " [0. 0. 0. 0. 1.]\n",
            " [0. 0. 0. 0. 1.]\n",
            " [0. 0. 0. 0. 1.]\n",
            " [0. 0. 0. 0. 1.]\n",
            " [0. 0. 0. 0. 1.]\n",
            " [0. 0. 0. 0. 1.]\n",
            " [0. 0. 0. 0. 1.]\n",
            " [0. 0. 0. 0. 1.]\n",
            " [0. 0. 0. 0. 1.]\n",
            " [0. 0. 0. 0. 1.]\n",
            " [0. 0. 0. 0. 1.]\n",
            " [0. 0. 0. 0. 1.]\n",
            " [0. 0. 0. 0. 1.]\n",
            " [0. 0. 0. 0. 1.]\n",
            " [0. 0. 0. 0. 1.]\n",
            " [0. 0. 0. 0. 1.]\n",
            " [0. 0. 0. 0. 1.]\n",
            " [0. 0. 0. 0. 1.]\n",
            " [0. 0. 0. 0. 1.]\n",
            " [0. 0. 0. 0. 1.]\n",
            " [0. 0. 0. 0. 1.]\n",
            " [0. 0. 0. 0. 1.]\n",
            " [0. 0. 0. 0. 1.]\n",
            " [0. 0. 0. 0. 1.]\n",
            " [0. 0. 0. 0. 1.]\n",
            " [0. 0. 0. 0. 1.]\n",
            " [0. 0. 0. 0. 1.]]\n"
          ],
          "name": "stdout"
        }
      ]
    },
    {
      "cell_type": "code",
      "metadata": {
        "id": "rF_HKxUsDDlx"
      },
      "source": [
        "import platform\r\n",
        "print(\"python \" + platform.python_version())"
      ],
      "execution_count": null,
      "outputs": []
    },
    {
      "cell_type": "code",
      "metadata": {
        "id": "cpc5kOGMjTs2",
        "colab": {
          "base_uri": "https://localhost:8080/",
          "height": 240
        },
        "outputId": "893005c4-f433-4fce-f243-1618540f25c4"
      },
      "source": [
        "# データセットの前処理後のシェイプの確認\n",
        "print(train_images.shape)\n",
        "print(train_labels.shape)\n",
        "print(test_images.shape)\n",
        "print(test_labels.shape)"
      ],
      "execution_count": null,
      "outputs": [
        {
          "output_type": "error",
          "ename": "NameError",
          "evalue": "ignored",
          "traceback": [
            "\u001b[0;31m---------------------------------------------------------------------------\u001b[0m",
            "\u001b[0;31mNameError\u001b[0m                                 Traceback (most recent call last)",
            "\u001b[0;32m<ipython-input-16-7364c5f0d150>\u001b[0m in \u001b[0;36m<module>\u001b[0;34m()\u001b[0m\n\u001b[1;32m      1\u001b[0m \u001b[0;31m# データセットの前処理後のシェイプの確認\u001b[0m\u001b[0;34m\u001b[0m\u001b[0;34m\u001b[0m\u001b[0;34m\u001b[0m\u001b[0m\n\u001b[0;32m----> 2\u001b[0;31m \u001b[0mprint\u001b[0m\u001b[0;34m(\u001b[0m\u001b[0mtrain_images\u001b[0m\u001b[0;34m.\u001b[0m\u001b[0mshape\u001b[0m\u001b[0;34m)\u001b[0m\u001b[0;34m\u001b[0m\u001b[0;34m\u001b[0m\u001b[0m\n\u001b[0m\u001b[1;32m      3\u001b[0m \u001b[0mprint\u001b[0m\u001b[0;34m(\u001b[0m\u001b[0mtrain_labels\u001b[0m\u001b[0;34m.\u001b[0m\u001b[0mshape\u001b[0m\u001b[0;34m)\u001b[0m\u001b[0;34m\u001b[0m\u001b[0;34m\u001b[0m\u001b[0m\n\u001b[1;32m      4\u001b[0m \u001b[0mprint\u001b[0m\u001b[0;34m(\u001b[0m\u001b[0mtest_images\u001b[0m\u001b[0;34m.\u001b[0m\u001b[0mshape\u001b[0m\u001b[0;34m)\u001b[0m\u001b[0;34m\u001b[0m\u001b[0;34m\u001b[0m\u001b[0m\n\u001b[1;32m      5\u001b[0m \u001b[0mprint\u001b[0m\u001b[0;34m(\u001b[0m\u001b[0mtest_labels\u001b[0m\u001b[0;34m.\u001b[0m\u001b[0mshape\u001b[0m\u001b[0;34m)\u001b[0m\u001b[0;34m\u001b[0m\u001b[0;34m\u001b[0m\u001b[0m\n",
            "\u001b[0;31mNameError\u001b[0m: name 'train_images' is not defined"
          ]
        }
      ]
    },
    {
      "cell_type": "code",
      "metadata": {
        "id": "IJvwrc0zjTs5"
      },
      "source": [
        "# 畳み込み層の生成\n",
        "def conv(filters, kernel_size, strides=1):\n",
        "    return Conv2D(filters, kernel_size, strides=strides, padding='same', use_bias=False,\n",
        "        kernel_initializer='he_normal', kernel_regularizer=l2(0.0001))"
      ],
      "execution_count": 55,
      "outputs": []
    },
    {
      "cell_type": "code",
      "metadata": {
        "id": "dkmZ7aYhjTs7"
      },
      "source": [
        "# 残差ブロックAの生成\n",
        "def first_residual_unit(filters, strides):\n",
        "    def f(x):\n",
        "        # →BN→ReLU\n",
        "        x = BatchNormalization()(x)\n",
        "        b = Activation('relu')(x)\n",
        "\n",
        "        # 畳み込み層→BN→ReLU\n",
        "        x = conv(filters // 4, 1, strides)(b)\n",
        "        x = BatchNormalization()(x)\n",
        "        x = Activation('relu')(x)\n",
        "        \n",
        "        # 畳み込み層→BN→ReLU\n",
        "        x = conv(filters // 4, 3)(x)\n",
        "        x = BatchNormalization()(x)\n",
        "        x = Activation('relu')(x)\n",
        "\n",
        "        # 畳み込み層→\n",
        "        x = conv(filters, 1)(x)\n",
        "\n",
        "        # ショートカットのシェイプサイズを調整\n",
        "        sc = conv(filters, 1, strides)(b)\n",
        "\n",
        "        # Add\n",
        "        return Add()([x, sc])\n",
        "    return f"
      ],
      "execution_count": 56,
      "outputs": []
    },
    {
      "cell_type": "code",
      "metadata": {
        "id": "_-YYp8YKjTs8"
      },
      "source": [
        "# 残差ブロックBの生成\n",
        "def residual_unit(filters):\n",
        "    def f(x):\n",
        "        sc = x\n",
        "        \n",
        "        # →BN→ReLU\n",
        "        x = BatchNormalization()(x)\n",
        "        x = Activation('relu')(x)\n",
        "        \n",
        "        # 畳み込み層→BN→ReLU\n",
        "        x = conv(filters // 4, 1)(x)\n",
        "        x = BatchNormalization()(x)\n",
        "        x = Activation('relu')(x)\n",
        "        \n",
        "        # 畳み込み層→BN→ReLU\n",
        "        x = conv(filters // 4, 3)(x)\n",
        "        x = BatchNormalization()(x)\n",
        "        x = Activation('relu')(x)\n",
        "        \n",
        "        # 畳み込み層→\n",
        "        x = conv(filters, 1)(x)\n",
        "\n",
        "        # Add\n",
        "        return Add()([x, sc])\n",
        "    return f"
      ],
      "execution_count": 57,
      "outputs": []
    },
    {
      "cell_type": "code",
      "metadata": {
        "id": "owofhhAVjTs-"
      },
      "source": [
        "# 残差ブロックAと残差ブロックB x 17の生成\n",
        "def residual_block(filters, strides, unit_size):\n",
        "    def f(x):\n",
        "        x = first_residual_unit(filters, strides)(x)\n",
        "        for i in range(unit_size-1):\n",
        "            x = residual_unit(filters)(x)\n",
        "        return x\n",
        "    return f"
      ],
      "execution_count": 58,
      "outputs": []
    },
    {
      "cell_type": "code",
      "metadata": {
        "id": "MtfJebNTjTtA"
      },
      "source": [
        "# 入力データのシェイプ\n",
        "input = Input(shape=(60,120, 3))\n",
        "\n",
        "# 畳み込み層\n",
        "x = conv(16, 3)(input)\n",
        "\n",
        "# 残差ブロック x 54\n",
        "x = residual_block(64, 1, 18)(x)\n",
        "x = residual_block(128, 2, 18)(x)\n",
        "x = residual_block(256, 2, 18)(x)\n",
        "\n",
        "# →BN→ReLU\n",
        "x = BatchNormalization()(x)\n",
        "x = Activation('relu')(x)\n",
        "\n",
        "# プーリング層\n",
        "x = GlobalAveragePooling2D()(x)\n",
        "\n",
        "# 全結合層\n",
        "output = Dense(5, activation='softmax', kernel_regularizer=l2(0.0001))(x)\n",
        "\n",
        "# モデルの作成\n",
        "model = Model(inputs=input, outputs=output)"
      ],
      "execution_count": 59,
      "outputs": []
    },
    {
      "cell_type": "code",
      "metadata": {
        "id": "UMu2_s5SjTtC"
      },
      "source": [
        "# コンパイル\n",
        "model.compile(loss='categorical_crossentropy', optimizer=SGD(momentum=0.9), metrics=['acc'])"
      ],
      "execution_count": 60,
      "outputs": []
    },
    {
      "cell_type": "code",
      "metadata": {
        "id": "HMZ2DdngjTtD"
      },
      "source": [
        "# ImageDataGeneratorの準備\n",
        "train_gen  = ImageDataGenerator(\n",
        "    featurewise_center=True, \n",
        "    featurewise_std_normalization=True,\n",
        "    width_shift_range=0.125, \n",
        "    height_shift_range=0.125, \n",
        "    horizontal_flip=True)\n",
        "test_gen = ImageDataGenerator(\n",
        "    featurewise_center=True, \n",
        "    featurewise_std_normalization=True)\n",
        "\n",
        "# データセット全体の統計量を予め計算\n",
        "for data in (train_gen, test_gen):\n",
        "    data.fit(Train_images)"
      ],
      "execution_count": 61,
      "outputs": []
    },
    {
      "cell_type": "code",
      "metadata": {
        "id": "E6bcQm0ZjTtF"
      },
      "source": [
        "# LearningRateSchedulerの準備\n",
        "def step_decay(epoch):\n",
        "    x = 0.1\n",
        "    if epoch >= 80: x = 0.01\n",
        "    if epoch >= 120: x = 0.001\n",
        "    return x\n",
        "lr_decay = LearningRateScheduler(step_decay)"
      ],
      "execution_count": 62,
      "outputs": []
    },
    {
      "cell_type": "code",
      "metadata": {
        "id": "PKssTyfXjTtG",
        "colab": {
          "base_uri": "https://localhost:8080/"
        },
        "outputId": "27ea97ef-9f1e-4058-b51b-e55aa2cb6afe"
      },
      "source": [
        "# 学習\n",
        "batch_size = 50\n",
        "history = model.fit_generator(\n",
        "    train_gen.flow(Train_images, Train_labels, batch_size=batch_size),\n",
        "    epochs=25,\n",
        "    steps_per_epoch=Train_images.shape[0] // batch_size,\n",
        "    validation_data=test_gen.flow(Test_images, Test_labels, batch_size=batch_size),\n",
        "    validation_steps=Test_images.shape[0] // batch_size,\n",
        "    callbacks=[lr_decay])"
      ],
      "execution_count": 63,
      "outputs": [
        {
          "output_type": "stream",
          "text": [
            "/usr/local/lib/python3.6/dist-packages/tensorflow/python/keras/engine/training.py:1844: UserWarning: `Model.fit_generator` is deprecated and will be removed in a future version. Please use `Model.fit`, which supports generators.\n",
            "  warnings.warn('`Model.fit_generator` is deprecated and '\n"
          ],
          "name": "stderr"
        },
        {
          "output_type": "stream",
          "text": [
            "Epoch 1/25\n",
            "24/24 [==============================] - 34s 538ms/step - loss: 4.2957 - acc: 0.2085 - val_loss: 959377984978944.0000 - val_acc: 0.2100\n",
            "Epoch 2/25\n",
            "24/24 [==============================] - 10s 407ms/step - loss: 4.3133 - acc: 0.2746 - val_loss: 1991847424.0000 - val_acc: 0.1900\n",
            "Epoch 3/25\n",
            "24/24 [==============================] - 10s 405ms/step - loss: 4.1892 - acc: 0.3597 - val_loss: 123227.1406 - val_acc: 0.2300\n",
            "Epoch 4/25\n",
            "24/24 [==============================] - 10s 406ms/step - loss: 4.0914 - acc: 0.3707 - val_loss: 2734.6279 - val_acc: 0.1800\n",
            "Epoch 5/25\n",
            "24/24 [==============================] - 10s 404ms/step - loss: 3.9460 - acc: 0.4169 - val_loss: 333.6898 - val_acc: 0.2000\n",
            "Epoch 6/25\n",
            "24/24 [==============================] - 10s 406ms/step - loss: 3.8303 - acc: 0.5024 - val_loss: 219.3023 - val_acc: 0.2200\n",
            "Epoch 7/25\n",
            "24/24 [==============================] - 10s 407ms/step - loss: 3.7587 - acc: 0.5137 - val_loss: 183.7938 - val_acc: 0.2000\n",
            "Epoch 8/25\n",
            "24/24 [==============================] - 10s 406ms/step - loss: 3.6588 - acc: 0.5694 - val_loss: 103.8307 - val_acc: 0.2200\n",
            "Epoch 9/25\n",
            "24/24 [==============================] - 10s 405ms/step - loss: 3.6466 - acc: 0.5467 - val_loss: 53.4190 - val_acc: 0.1900\n",
            "Epoch 10/25\n",
            "24/24 [==============================] - 10s 405ms/step - loss: 3.5678 - acc: 0.5633 - val_loss: 106.7671 - val_acc: 0.1700\n",
            "Epoch 11/25\n",
            "24/24 [==============================] - 10s 405ms/step - loss: 3.4130 - acc: 0.6505 - val_loss: 20.5523 - val_acc: 0.2400\n",
            "Epoch 12/25\n",
            "24/24 [==============================] - 10s 406ms/step - loss: 3.2940 - acc: 0.7022 - val_loss: 71.1178 - val_acc: 0.2100\n",
            "Epoch 13/25\n",
            "24/24 [==============================] - 10s 406ms/step - loss: 3.2520 - acc: 0.7157 - val_loss: 70.4993 - val_acc: 0.2000\n",
            "Epoch 14/25\n",
            "24/24 [==============================] - 10s 405ms/step - loss: 3.2053 - acc: 0.6991 - val_loss: 6.8779 - val_acc: 0.2900\n",
            "Epoch 15/25\n",
            "24/24 [==============================] - 10s 404ms/step - loss: 3.1546 - acc: 0.7313 - val_loss: 54.7995 - val_acc: 0.1700\n",
            "Epoch 16/25\n",
            "24/24 [==============================] - 10s 405ms/step - loss: 3.1407 - acc: 0.7275 - val_loss: 18.8608 - val_acc: 0.2000\n",
            "Epoch 17/25\n",
            "24/24 [==============================] - 10s 404ms/step - loss: 3.0324 - acc: 0.7632 - val_loss: 26.4873 - val_acc: 0.2300\n",
            "Epoch 18/25\n",
            "24/24 [==============================] - 10s 404ms/step - loss: 3.0735 - acc: 0.7449 - val_loss: 42.4211 - val_acc: 0.2000\n",
            "Epoch 19/25\n",
            "24/24 [==============================] - 10s 405ms/step - loss: 3.0703 - acc: 0.7326 - val_loss: 8.2881 - val_acc: 0.2200\n",
            "Epoch 20/25\n",
            "24/24 [==============================] - 10s 419ms/step - loss: 2.8827 - acc: 0.8143 - val_loss: 8.3653 - val_acc: 0.2000\n",
            "Epoch 21/25\n",
            "24/24 [==============================] - 10s 406ms/step - loss: 2.8677 - acc: 0.8151 - val_loss: 13.1237 - val_acc: 0.2100\n",
            "Epoch 22/25\n",
            "24/24 [==============================] - 10s 408ms/step - loss: 3.0015 - acc: 0.7477 - val_loss: 28.9155 - val_acc: 0.2000\n",
            "Epoch 23/25\n",
            "24/24 [==============================] - 10s 405ms/step - loss: 2.8389 - acc: 0.7927 - val_loss: 28.6199 - val_acc: 0.1900\n",
            "Epoch 24/25\n",
            "24/24 [==============================] - 10s 405ms/step - loss: 2.7592 - acc: 0.8312 - val_loss: 49.0243 - val_acc: 0.2300\n",
            "Epoch 25/25\n",
            "24/24 [==============================] - 10s 404ms/step - loss: 2.9348 - acc: 0.7236 - val_loss: 5.1823 - val_acc: 0.2500\n"
          ],
          "name": "stdout"
        }
      ]
    },
    {
      "cell_type": "code",
      "metadata": {
        "id": "Q29Plen_jTtJ"
      },
      "source": [
        "# モデルの保存\n",
        "model.save('resnet.h5')"
      ],
      "execution_count": null,
      "outputs": []
    },
    {
      "cell_type": "code",
      "metadata": {
        "id": "_lAKUz3tjTtM",
        "colab": {
          "base_uri": "https://localhost:8080/",
          "height": 279
        },
        "outputId": "b007abe4-85ed-4e6b-cb0f-c84d7bed0e9c"
      },
      "source": [
        "# グラフの表示\n",
        "plt.plot(history.history['acc'], label='acc')\n",
        "plt.plot(history.history['val_acc'], label='val_acc')\n",
        "plt.ylabel('accuracy')\n",
        "plt.xlabel('epoch')\n",
        "plt.legend(loc='best')\n",
        "plt.show()"
      ],
      "execution_count": 64,
      "outputs": [
        {
          "output_type": "display_data",
          "data": {
            "image/png": "[encoded data removed]",
            "text/plain": [
              "<Figure size 432x288 with 1 Axes>"
            ]
          },
          "metadata": {
            "tags": [],
            "needs_background": "light"
          }
        }
      ]
    },
    {
      "cell_type": "code",
      "metadata": {
        "id": "MBkjh0yojTtO",
        "colab": {
          "base_uri": "https://localhost:8080/"
        },
        "outputId": "d01f9252-25d1-4ab6-d2f1-0f39c48ad5e0"
      },
      "source": [
        "# 評価\n",
        "batch_size = 128\n",
        "test_loss, test_acc = model.evaluate_generator(\n",
        "    test_gen.flow(Test_images, Test_labels, batch_size=batch_size),\n",
        "    steps=10)\n",
        "print('loss: {:.3f}\\nacc: {:.3f}'.format(test_loss, test_acc ))"
      ],
      "execution_count": 65,
      "outputs": [
        {
          "output_type": "stream",
          "text": [
            "/usr/local/lib/python3.6/dist-packages/tensorflow/python/keras/engine/training.py:1877: UserWarning: `Model.evaluate_generator` is deprecated and will be removed in a future version. Please use `Model.evaluate`, which supports generators.\n",
            "  warnings.warn('`Model.evaluate_generator` is deprecated and '\n"
          ],
          "name": "stderr"
        },
        {
          "output_type": "stream",
          "text": [
            "WARNING:tensorflow:Your input ran out of data; interrupting training. Make sure that your dataset or generator can generate at least `steps_per_epoch * epochs` batches (in this case, 10 batches). You may need to use the repeat() function when building your dataset.\n",
            "loss: 5.110\n",
            "acc: 0.258\n"
          ],
          "name": "stdout"
        }
      ]
    },
    {
      "cell_type": "code",
      "metadata": {
        "id": "-CQQXl-kjTtP",
        "colab": {
          "base_uri": "https://localhost:8080/",
          "height": 279
        },
        "outputId": "dc974dfb-ebc1-4a6c-8c7f-52f1fc551fd7"
      },
      "source": [
        "# 推論する画像の表示\n",
        "for i in range(10):\n",
        "    plt.subplot(2, 5, i+1)\n",
        "    plt.imshow(test_images[i])\n",
        "plt.show()\n",
        "\n",
        "# 推論したラベルの表示\n",
        "test_predictions = model.predict_generator(\n",
        "    test_gen.flow(test_images[0:10], shuffle = False, batch_size=1),\n",
        "    steps=10)\n",
        "test_predictions = np.argmax(test_predictions, axis=1)\n",
        "labels = ['airplane', 'automobile', 'bird', 'cat', 'deer', \n",
        "        'dog', 'frog', 'horse', 'ship', 'truck']\n",
        "print([labels[n] for n in test_predictions])"
      ],
      "execution_count": null,
      "outputs": [
        {
          "output_type": "display_data",
          "data": {
            "image/png": "[encoded data removed]",
            "text/plain": [
              "<Figure size 432x288 with 10 Axes>"
            ]
          },
          "metadata": {
            "tags": [],
            "needs_background": "light"
          }
        },
        {
          "output_type": "stream",
          "text": [
            "/usr/local/lib/python3.6/dist-packages/tensorflow/python/keras/engine/training.py:1905: UserWarning: `Model.predict_generator` is deprecated and will be removed in a future version. Please use `Model.predict`, which supports generators.\n",
            "  warnings.warn('`Model.predict_generator` is deprecated and '\n"
          ],
          "name": "stderr"
        },
        {
          "output_type": "stream",
          "text": [
            "['cat', 'ship', 'ship', 'ship', 'frog', 'frog', 'truck', 'frog', 'cat', 'automobile']\n"
          ],
          "name": "stdout"
        }
      ]
    },
    {
      "cell_type": "code",
      "metadata": {
        "colab": {
          "base_uri": "https://localhost:8080/",
          "height": 363
        },
        "id": "75JdQErecwxQ",
        "outputId": "42019e2a-44c3-4fd7-dae9-815eebe7199f"
      },
      "source": [
        "# Plot non-normalized confusion matrix\r\n",
        "titles_options = [(\"Confusion matrix, without normalization\", None),\r\n",
        "                  (\"Normalized confusion matrix\", 'true')]\r\n",
        "for title, normalize in titles_options:\r\n",
        "    disp = plot_confusion_matrix(history, test_images, test_labels,\r\n",
        "                                 cmap=plt.cm.Blues,\r\n",
        "                                 normalize=normalize)\r\n",
        "    disp.ax_.set_title(title)\r\n",
        "\r\n",
        "    print(title)\r\n",
        "    print(disp.confusion_matrix)\r\n",
        "\r\n",
        "plt.show()"
      ],
      "execution_count": null,
      "outputs": [
        {
          "output_type": "error",
          "ename": "ValueError",
          "evalue": "ignored",
          "traceback": [
            "\u001b[0;31m---------------------------------------------------------------------------\u001b[0m",
            "\u001b[0;31mValueError\u001b[0m                                Traceback (most recent call last)",
            "\u001b[0;32m<ipython-input-23-0a1f7acf9187>\u001b[0m in \u001b[0;36m<module>\u001b[0;34m()\u001b[0m\n\u001b[1;32m      4\u001b[0m \u001b[0;32mfor\u001b[0m \u001b[0mtitle\u001b[0m\u001b[0;34m,\u001b[0m \u001b[0mnormalize\u001b[0m \u001b[0;32min\u001b[0m \u001b[0mtitles_options\u001b[0m\u001b[0;34m:\u001b[0m\u001b[0;34m\u001b[0m\u001b[0;34m\u001b[0m\u001b[0m\n\u001b[1;32m      5\u001b[0m     disp = plot_confusion_matrix(history, test_images, test_labels,\n\u001b[0;32m----> 6\u001b[0;31m                                  cmap=plt.cm.Blues,)\n\u001b[0m\u001b[1;32m      7\u001b[0m     \u001b[0mdisp\u001b[0m\u001b[0;34m.\u001b[0m\u001b[0max_\u001b[0m\u001b[0;34m.\u001b[0m\u001b[0mset_title\u001b[0m\u001b[0;34m(\u001b[0m\u001b[0mtitle\u001b[0m\u001b[0;34m)\u001b[0m\u001b[0;34m\u001b[0m\u001b[0;34m\u001b[0m\u001b[0m\n\u001b[1;32m      8\u001b[0m \u001b[0;34m\u001b[0m\u001b[0m\n",
            "\u001b[0;32m/usr/local/lib/python3.6/dist-packages/sklearn/metrics/_plot/confusion_matrix.py\u001b[0m in \u001b[0;36mplot_confusion_matrix\u001b[0;34m(estimator, X, y_true, labels, sample_weight, normalize, display_labels, include_values, xticks_rotation, values_format, cmap, ax)\u001b[0m\n\u001b[1;32m    181\u001b[0m \u001b[0;34m\u001b[0m\u001b[0m\n\u001b[1;32m    182\u001b[0m     \u001b[0;32mif\u001b[0m \u001b[0;32mnot\u001b[0m \u001b[0mis_classifier\u001b[0m\u001b[0;34m(\u001b[0m\u001b[0mestimator\u001b[0m\u001b[0;34m)\u001b[0m\u001b[0;34m:\u001b[0m\u001b[0;34m\u001b[0m\u001b[0;34m\u001b[0m\u001b[0m\n\u001b[0;32m--> 183\u001b[0;31m         \u001b[0;32mraise\u001b[0m \u001b[0mValueError\u001b[0m\u001b[0;34m(\u001b[0m\u001b[0;34m\"plot_confusion_matrix only supports classifiers\"\u001b[0m\u001b[0;34m)\u001b[0m\u001b[0;34m\u001b[0m\u001b[0;34m\u001b[0m\u001b[0m\n\u001b[0m\u001b[1;32m    184\u001b[0m \u001b[0;34m\u001b[0m\u001b[0m\n\u001b[1;32m    185\u001b[0m     \u001b[0my_pred\u001b[0m \u001b[0;34m=\u001b[0m \u001b[0mestimator\u001b[0m\u001b[0;34m.\u001b[0m\u001b[0mpredict\u001b[0m\u001b[0;34m(\u001b[0m\u001b[0mX\u001b[0m\u001b[0;34m)\u001b[0m\u001b[0;34m\u001b[0m\u001b[0;34m\u001b[0m\u001b[0m\n",
            "\u001b[0;31mValueError\u001b[0m: plot_confusion_matrix only supports classifiers"
          ]
        }
      ]
    },
    {
      "cell_type": "code",
      "metadata": {
        "id": "SQXypn4riaX6"
      },
      "source": [
        "import numpy as np\r\n",
        "from sklearn.metrics import confusion_matrix\r\n",
        " \r\n",
        "predict_classes = model.predict_classes(Test_images)\r\n",
        "true_classes = Test_labels\r\n",
        "print(confusion_matrix(true_classes, predict_classes))"
      ],
      "execution_count": null,
      "outputs": []
    },
    {
      "cell_type": "code",
      "metadata": {
        "colab": {
          "base_uri": "https://localhost:8080/"
        },
        "id": "kHNkdWpSTyOr",
        "outputId": "8da7e037-3458-4fcc-bd30-48b04df27150"
      },
      "source": [
        "import numpy as np\r\n",
        "from sklearn.metrics import confusion_matrix\r\n",
        "\r\n",
        "TTest_labels =[2,0,4,3,4,1,4,1,1,0,0,0,2,2,1,\r\n",
        "              4,4,3,3,1,0,4,3,3,3,1,2,0,0,1,\r\n",
        "              1,1,3,0,0,4,4,3,4,4,4,3,3,3,2,\r\n",
        "              2,1,0,0,0,1,3,4,4,0,0,0,1,1,2,\r\n",
        "              4,4,4,3,3,1,3,1,4,4,4,3,1,3,2,\r\n",
        "              2,2,1,1,1,2,2,2,0,1,1,2,2,1,2,\r\n",
        "              2,2,0,0,0,0,2,2,1,2,2,2,4,4,3,\r\n",
        "              3,1,3,4,4,4,3,3,0,0,3,3,0,0,2]\r\n",
        "i = 0\r\n",
        "\r\n",
        "while i < 5:\r\n",
        "    print(TTest_labels.count(i))\r\n",
        "    i = i+1\r\n",
        "predict_prob=model.predict(Test_images)\r\n",
        "lista =  predict_prob.tolist()\r\n",
        "predict_classes=np.argmax(lista,axis=1)\r\n",
        "true_classes = test_labels\r\n",
        "print(type(TTest_labels))\r\n",
        "print(confusion_matrix(true_classes,predict_classes))\r\n",
        "print(predict_prob[0:100])\r\n",
        "print(predict_prob.shape)\r\n",
        "print(type(lista))\r\n",
        "print(lista)\r\n",
        "lista =  predict_prob.tolist()"
      ],
      "execution_count": 67,
      "outputs": [
        {
          "output_type": "stream",
          "text": [
            "24\n",
            "24\n",
            "24\n",
            "24\n",
            "24\n",
            "<class 'list'>\n",
            "[[ 8 16  0  0  0]\n",
            " [11 13  0  0  0]\n",
            " [13 10  0  1  0]\n",
            " [12 11  1  0  0]\n",
            " [15  9  0  0  0]]\n",
            "[[9.88033533e-01 9.16766203e-06 7.19250180e-03 2.13805423e-03\n",
            "  2.62684491e-03]\n",
            " [9.92634714e-01 2.25858685e-06 5.92406234e-03 1.13117660e-03\n",
            "  3.07805021e-04]\n",
            " [9.95013297e-01 8.80019968e-07 3.68693913e-03 1.01224950e-03\n",
            "  2.86656054e-04]\n",
            " [9.97457206e-01 3.97934343e-08 2.33720965e-03 1.83790864e-04\n",
            "  2.17072302e-05]\n",
            " [9.96436596e-01 8.53452150e-07 2.36258004e-03 7.76639266e-04\n",
            "  4.23376652e-04]\n",
            " [9.90249693e-01 2.49641494e-06 7.83094950e-03 1.49907870e-03\n",
            "  4.17756790e-04]\n",
            " [9.92354870e-01 4.05375795e-06 5.75368432e-03 1.33058650e-03\n",
            "  5.56867395e-04]\n",
            " [9.97327447e-01 1.98541940e-07 2.15638638e-03 3.49676091e-04\n",
            "  1.66178186e-04]\n",
            " [3.89841152e-05 8.47524941e-01 2.76892241e-02 6.53101802e-02\n",
            "  5.94365969e-02]\n",
            " [2.62656758e-05 6.07791424e-01 5.97496182e-02 1.85875550e-01\n",
            "  1.46557137e-01]\n",
            " [4.40764688e-06 6.65892720e-01 3.76370661e-02 1.68533325e-01\n",
            "  1.27932474e-01]\n",
            " [7.66510220e-06 6.23974025e-01 5.18429242e-02 1.95777237e-01\n",
            "  1.28398195e-01]\n",
            " [1.16495573e-06 8.56389284e-01 9.63140372e-03 6.17097877e-02\n",
            "  7.22683743e-02]\n",
            " [1.74619472e-05 8.41824114e-01 1.25966668e-02 6.22889586e-02\n",
            "  8.32728744e-02]\n",
            " [9.47869125e-07 8.91712964e-01 8.83166306e-03 4.79885042e-02\n",
            "  5.14659248e-02]\n",
            " [4.24496761e-07 8.95332158e-01 7.94935506e-03 4.29121852e-02\n",
            "  5.38059250e-02]\n",
            " [2.55230443e-05 6.71682596e-01 4.07387540e-02 1.50594950e-01\n",
            "  1.36958182e-01]\n",
            " [8.46371336e-07 9.30251598e-01 3.52793490e-03 2.38694120e-02\n",
            "  4.23502177e-02]\n",
            " [8.68795753e-01 7.35456683e-03 5.53252175e-02 4.36262153e-02\n",
            "  2.48981752e-02]\n",
            " [1.59903448e-05 6.66900158e-01 4.38334085e-02 1.63359806e-01\n",
            "  1.25890642e-01]\n",
            " [9.97475564e-01 1.38408694e-07 2.14995863e-03 3.19400715e-04\n",
            "  5.49053511e-05]\n",
            " [9.97053146e-01 6.16684815e-07 2.20311014e-03 5.25338866e-04\n",
            "  2.17772045e-04]\n",
            " [9.93368328e-01 4.58563636e-06 4.45406325e-03 1.53744407e-03\n",
            "  6.35554607e-04]\n",
            " [9.85857844e-01 9.03348246e-06 1.06255403e-02 2.85630557e-03\n",
            "  6.51346520e-04]\n",
            " [9.84351814e-01 1.85741155e-05 1.07722981e-02 3.71113187e-03\n",
            "  1.14617147e-03]\n",
            " [9.91058111e-01 2.97142333e-06 7.27162743e-03 1.31101476e-03\n",
            "  3.56334203e-04]\n",
            " [5.41451700e-05 7.29227304e-01 3.12312692e-02 1.04812384e-01\n",
            "  1.34674907e-01]\n",
            " [3.03649995e-05 7.85650373e-01 8.72169621e-03 4.58883941e-02\n",
            "  1.59709215e-01]\n",
            " [5.11421567e-05 4.53851730e-01 9.82968733e-02 2.83206969e-01\n",
            "  1.64593264e-01]\n",
            " [1.53150359e-05 6.00229919e-01 5.21475673e-02 1.85412079e-01\n",
            "  1.62195116e-01]\n",
            " [4.04704660e-05 9.45485890e-01 2.69984431e-03 1.50137702e-02\n",
            "  3.67599912e-02]\n",
            " [4.56361295e-06 9.71372545e-01 1.03001925e-03 6.73729088e-03\n",
            "  2.08556931e-02]\n",
            " [2.57755823e-06 8.83352041e-01 7.38437194e-03 4.23659012e-02\n",
            "  6.68951645e-02]\n",
            " [1.97771842e-05 7.67334998e-01 2.00431254e-02 8.85874778e-02\n",
            "  1.24014646e-01]\n",
            " [2.11410770e-06 4.42472219e-01 2.81385124e-01 1.77935824e-01\n",
            "  9.82046798e-02]\n",
            " [9.97542088e-07 7.94310272e-01 7.58361369e-02 7.56105036e-02\n",
            "  5.42420633e-02]\n",
            " [9.97147024e-01 2.44165648e-07 2.30203755e-03 4.49929415e-04\n",
            "  1.00743848e-04]\n",
            " [2.70496021e-05 7.56910801e-01 4.97097597e-02 8.16180930e-02\n",
            "  1.11734271e-01]\n",
            " [9.98048663e-01 5.80433763e-08 1.67903898e-03 2.35035928e-04\n",
            "  3.72749309e-05]\n",
            " [3.08642643e-06 4.62049484e-01 1.55151963e-01 1.85496882e-01\n",
            "  1.97298601e-01]\n",
            " [9.97486949e-01 5.17795399e-07 1.84890465e-03 4.77909343e-04\n",
            "  1.85698664e-04]\n",
            " [9.96925890e-01 1.12719715e-06 2.06693658e-03 6.62537990e-04\n",
            "  3.43597610e-04]\n",
            " [9.77463484e-01 4.34634931e-05 1.63969379e-02 4.51322133e-03\n",
            "  1.58292451e-03]\n",
            " [1.79352582e-01 1.84640646e-01 4.16983038e-01 1.37976885e-01\n",
            "  8.10468495e-02]\n",
            " [9.71520007e-01 5.53827267e-05 2.00329963e-02 6.08778512e-03\n",
            "  2.30389321e-03]\n",
            " [9.73223984e-01 4.70755404e-05 1.99158061e-02 5.14189946e-03\n",
            "  1.67119794e-03]\n",
            " [9.91264343e-01 5.47297850e-06 6.43962156e-03 1.71224226e-03\n",
            "  5.78454405e-04]\n",
            " [9.96580899e-01 5.00652732e-07 2.66584801e-03 6.03694585e-04\n",
            "  1.49123458e-04]\n",
            " [9.88494456e-01 4.58044013e-07 1.09830881e-02 4.96322871e-04\n",
            "  2.56824278e-05]\n",
            " [9.92791414e-01 3.51976041e-06 5.52264461e-03 1.38452579e-03\n",
            "  2.97933817e-04]\n",
            " [9.95903909e-01 1.80101196e-07 3.83110368e-03 2.47254415e-04\n",
            "  1.75288751e-05]\n",
            " [9.31524813e-01 4.16140800e-04 4.98590507e-02 1.41600110e-02\n",
            "  4.04006382e-03]\n",
            " [5.16920865e-01 3.54163386e-02 2.99760967e-01 1.11141585e-01\n",
            "  3.67601886e-02]\n",
            " [8.21130514e-01 7.50465877e-03 9.73258689e-02 5.28453365e-02\n",
            "  2.11935844e-02]\n",
            " [4.58091563e-06 7.58754969e-01 2.74313260e-02 1.16701573e-01\n",
            "  9.71074998e-02]\n",
            " [1.47484883e-04 3.60689878e-01 1.04329504e-01 3.23291421e-01\n",
            "  2.11541712e-01]\n",
            " [1.64935773e-06 8.71094882e-01 9.46477056e-03 5.17904125e-02\n",
            "  6.76483065e-02]\n",
            " [1.13366723e-05 6.67799711e-01 3.78182903e-02 1.59007236e-01\n",
            "  1.35363504e-01]\n",
            " [3.55624138e-06 7.71553040e-01 2.07900647e-02 1.04810618e-01\n",
            "  1.02842622e-01]\n",
            " [1.08772874e-05 7.41663039e-01 2.48761456e-02 1.13199599e-01\n",
            "  1.20250337e-01]\n",
            " [2.28835552e-06 9.73689079e-01 9.11343435e-04 4.88928752e-03\n",
            "  2.05079131e-02]\n",
            " [5.33842394e-05 4.74471182e-01 7.00589046e-02 2.39587978e-01\n",
            "  2.15828538e-01]\n",
            " [1.29007804e-03 4.97150123e-01 7.09223747e-02 2.04762042e-01\n",
            "  2.25875407e-01]\n",
            " [3.32105628e-07 8.22454870e-01 1.10791447e-02 7.34619945e-02\n",
            "  9.30037126e-02]\n",
            " [5.21753645e-06 6.57887816e-01 2.99258586e-02 1.49543345e-01\n",
            "  1.62637711e-01]\n",
            " [5.66246229e-07 9.35678840e-01 3.85470386e-03 2.32730005e-02\n",
            "  3.71928811e-02]\n",
            " [2.40068880e-06 9.20131207e-01 5.56817371e-03 2.83026472e-02\n",
            "  4.59955148e-02]\n",
            " [1.82409258e-06 9.80675161e-01 8.11458565e-04 5.84380841e-03\n",
            "  1.26676140e-02]\n",
            " [9.98304605e-01 1.91359071e-08 1.56667084e-03 1.16313495e-04\n",
            "  1.23223308e-05]\n",
            " [9.94004071e-01 2.60628667e-06 4.04997822e-03 1.46861398e-03\n",
            "  4.74708446e-04]\n",
            " [9.91679609e-01 4.76909463e-06 6.29726145e-03 1.59048080e-03\n",
            "  4.27961437e-04]\n",
            " [9.97680008e-01 6.91978954e-08 2.08754442e-03 2.06218014e-04\n",
            "  2.61760815e-05]\n",
            " [9.75877523e-01 1.27636755e-04 1.47791561e-02 6.53092982e-03\n",
            "  2.68473034e-03]\n",
            " [9.94232714e-01 7.47757724e-07 5.11333393e-03 5.88858326e-04\n",
            "  6.43798994e-05]\n",
            " [9.96492088e-01 6.08699054e-07 2.86621274e-03 5.45984134e-04\n",
            "  9.51089532e-05]\n",
            " [9.81106400e-01 2.08406054e-05 1.34506719e-02 3.82099114e-03\n",
            "  1.60111184e-03]\n",
            " [9.83595848e-01 9.86475334e-06 1.28479321e-02 3.00746877e-03\n",
            "  5.38904045e-04]\n",
            " [9.86777782e-01 7.81235667e-06 1.02137383e-02 2.35787756e-03\n",
            "  6.42916712e-04]\n",
            " [9.91143584e-01 5.92739127e-07 8.10313970e-03 6.87086373e-04\n",
            "  6.56046177e-05]\n",
            " [9.83894527e-01 1.34798865e-05 1.17363399e-02 3.31086805e-03\n",
            "  1.04486896e-03]\n",
            " [9.94747937e-01 1.71393879e-07 4.83621517e-03 3.78360477e-04\n",
            "  3.73517069e-05]\n",
            " [9.95655775e-01 1.84981070e-06 3.20568332e-03 7.77300622e-04\n",
            "  3.59448080e-04]\n",
            " [9.95381773e-01 1.27136829e-07 4.44427086e-03 1.65917590e-04\n",
            "  7.92837363e-06]\n",
            " [8.50549221e-01 1.48480637e-02 5.14563397e-02 4.86253947e-02\n",
            "  3.45210247e-02]\n",
            " [9.94545817e-01 3.24695975e-06 4.23037820e-03 1.03555107e-03\n",
            "  1.85049095e-04]\n",
            " [1.77705511e-01 4.37899470e-01 9.05816108e-02 1.40093803e-01\n",
            "  1.53719664e-01]\n",
            " [9.93343949e-01 5.24867346e-06 5.05874632e-03 1.33547536e-03\n",
            "  2.56601808e-04]\n",
            " [1.08802912e-03 1.34555131e-01 2.43764445e-01 3.80573094e-01\n",
            "  2.40019307e-01]\n",
            " [9.94989455e-01 3.62451806e-06 3.54849524e-03 1.04956760e-03\n",
            "  4.08689782e-04]\n",
            " [2.41247907e-01 2.62976348e-01 1.43674389e-01 1.89867243e-01\n",
            "  1.62234128e-01]\n",
            " [9.95433509e-01 1.19876589e-07 4.38038120e-03 1.76741436e-04\n",
            "  9.25011136e-06]\n",
            " [9.87828016e-01 1.91923618e-06 1.12911118e-02 8.21948517e-04\n",
            "  5.69831900e-05]\n",
            " [7.54933059e-01 3.39292474e-02 7.65012801e-02 7.73800015e-02\n",
            "  5.72564267e-02]\n",
            " [2.58996206e-05 8.37345183e-01 1.43292220e-02 6.09180145e-02\n",
            "  8.73817280e-02]\n",
            " [2.23805346e-05 7.74223745e-01 2.78421380e-02 9.76278856e-02\n",
            "  1.00283928e-01]\n",
            " [8.70194253e-06 8.02745879e-01 1.60257388e-02 8.08439329e-02\n",
            "  1.00375630e-01]\n",
            " [7.25299324e-05 7.25140393e-01 2.39013676e-02 9.74982828e-02\n",
            "  1.53387412e-01]\n",
            " [1.56281574e-04 5.15873909e-01 6.72019199e-02 1.67652607e-01\n",
            "  2.49115363e-01]\n",
            " [7.44861154e-06 7.96660483e-01 2.58236043e-02 9.60079283e-02\n",
            "  8.15006346e-02]\n",
            " [2.33245708e-04 8.09420466e-01 1.58169940e-02 6.56227618e-02\n",
            "  1.08906515e-01]]\n",
            "(120, 5)\n",
            "<class 'list'>\n",
            "[[0.9880335330963135, 9.16766202863073e-06, 0.007192501798272133, 0.0021380542311817408, 0.0026268449146300554], [0.9926347136497498, 2.258586846437538e-06, 0.005924062337726355, 0.0011311765993013978, 0.0003078050212934613], [0.9950132966041565, 8.800199680081278e-07, 0.0036869391333311796, 0.001012249500490725, 0.00028665605350397527], [0.9974572062492371, 3.9793434325474664e-08, 0.0023372096475213766, 0.00018379086395725608, 2.1707230189349502e-05], [0.996436595916748, 8.534521498404501e-07, 0.0023625800386071205, 0.0007766392664052546, 0.0004233766521792859], [0.9902496933937073, 2.4964149361039745e-06, 0.007830949500203133, 0.0014990787021815777, 0.000417756789829582], [0.9923548698425293, 4.053757947986014e-06, 0.00575368432328105, 0.0013305864995345473, 0.0005568673950619996], [0.997327446937561, 1.9854194022173033e-07, 0.002156386384740472, 0.0003496760909911245, 0.0001661781861912459], [3.898411523550749e-05, 0.8475249409675598, 0.027689224109053612, 0.06531018018722534, 0.05943659693002701], [2.6265675842296332e-05, 0.6077914237976074, 0.05974961817264557, 0.1858755499124527, 0.14655713737010956], [4.4076468839193694e-06, 0.6658927202224731, 0.03763706609606743, 0.1685333251953125, 0.12793247401714325], [7.665102202736307e-06, 0.6239740252494812, 0.05184292420744896, 0.19577723741531372, 0.12839819490909576], [1.164955733656825e-06, 0.8563892841339111, 0.009631403721868992, 0.06170978769659996, 0.07226837426424026], [1.7461947209085338e-05, 0.8418241143226624, 0.012596666812896729, 0.062288958579301834, 0.08327287435531616], [9.478691254116711e-07, 0.8917129635810852, 0.008831663057208061, 0.04798850417137146, 0.051465924829244614], [4.244967612976325e-07, 0.8953321576118469, 0.00794935505837202, 0.042912185192108154, 0.05380592495203018], [2.552304431446828e-05, 0.671682596206665, 0.040738753974437714, 0.15059494972229004, 0.13695818185806274], [8.463713356832159e-07, 0.9302515983581543, 0.0035279348958283663, 0.023869412019848824, 0.04235021770000458], [0.8687957525253296, 0.00735456682741642, 0.0553252175450325, 0.04362621530890465, 0.02489817515015602], [1.5990344763849862e-05, 0.6669001579284668, 0.0438334085047245, 0.16335980594158173, 0.12589064240455627], [0.9974755644798279, 1.3840869428349833e-07, 0.0021499586291611195, 0.00031940071494318545, 5.490535113494843e-05], [0.9970531463623047, 6.166848152133753e-07, 0.0022031101398169994, 0.0005253388662822545, 0.00021777204528916627], [0.9933683276176453, 4.585636361298384e-06, 0.004454063251614571, 0.001537444069981575, 0.0006355546065606177], [0.9858578443527222, 9.033482456288766e-06, 0.010625540278851986, 0.002856305567547679, 0.0006513465195894241], [0.9843518137931824, 1.857411552919075e-05, 0.010772298090159893, 0.0037111318670213223, 0.0011461714748293161], [0.9910581111907959, 2.9714233278355096e-06, 0.007271627429872751, 0.001311014755629003, 0.00035633420338854194], [5.414516999735497e-05, 0.7292273044586182, 0.031231269240379333, 0.1048123836517334, 0.13467490673065186], [3.036499947484117e-05, 0.785650372505188, 0.008721696212887764, 0.04588839411735535, 0.15970921516418457], [5.114215673529543e-05, 0.45385172963142395, 0.0982968732714653, 0.283206969499588, 0.16459326446056366], [1.5315035852836445e-05, 0.6002299189567566, 0.05214756727218628, 0.18541207909584045, 0.1621951162815094], [4.0470466046826914e-05, 0.9454858899116516, 0.002699844306334853, 0.015013770200312138, 0.03675999119877815], [4.563612947094953e-06, 0.9713725447654724, 0.0010300192516297102, 0.006737290881574154, 0.020855693146586418], [2.5775582344067516e-06, 0.8833520412445068, 0.007384371943771839, 0.0423659011721611, 0.06689516454935074], [1.9777184206759557e-05, 0.7673349976539612, 0.02004312537610531, 0.08858747780323029, 0.12401464581489563], [2.114107701345347e-06, 0.4424722194671631, 0.2813851237297058, 0.17793582379817963, 0.09820467978715897], [9.975420880437014e-07, 0.7943102717399597, 0.07583613693714142, 0.07561050355434418, 0.05424206331372261], [0.9971470236778259, 2.441656477003562e-07, 0.002302037551999092, 0.00044992941548116505, 0.00010074384772451594], [2.7049602067563683e-05, 0.7569108009338379, 0.049709759652614594, 0.08161809295415878, 0.11173427104949951], [0.9980486631393433, 5.8043376327532314e-08, 0.0016790389781817794, 0.0002350359281990677, 3.727493094629608e-05], [3.0864264317642665e-06, 0.4620494842529297, 0.15515196323394775, 0.18549688160419464, 0.19729860126972198], [0.99748694896698, 5.177953994461859e-07, 0.001848904648795724, 0.00047790934331715107, 0.00018569866369944066], [0.9969258904457092, 1.1271971516180201e-06, 0.0020669365767389536, 0.0006625379901379347, 0.0003435976104810834], [0.9774634838104248, 4.346349305706099e-05, 0.016396937891840935, 0.004513221327215433, 0.001582924509420991], [0.17935258150100708, 0.18464064598083496, 0.416983038187027, 0.13797688484191895, 0.08104684948921204], [0.9715200066566467, 5.538272671401501e-05, 0.02003299631178379, 0.006087785121053457, 0.0023038932122290134], [0.9732239842414856, 4.707554035121575e-05, 0.019915806129574776, 0.0051418994553387165, 0.001671197940595448], [0.9912643432617188, 5.472978500620229e-06, 0.006439621560275555, 0.0017122422577813268, 0.0005784544046036899], [0.9965808987617493, 5.006527317164e-07, 0.0026658480055630207, 0.0006036945851519704, 0.0001491234579589218], [0.9884944558143616, 4.580440133850061e-07, 0.010983088053762913, 0.0004963228711858392, 2.5682427803985775e-05], [0.9927914142608643, 3.5197604120185133e-06, 0.005522644612938166, 0.0013845257926732302, 0.00029793381690979004], [0.9959039092063904, 1.8010119617883902e-07, 0.00383110367693007, 0.0002472544147167355, 1.7528875105199404e-05], [0.9315248131752014, 0.00041614079964347184, 0.049859050661325455, 0.01416001096367836, 0.004040063824504614], [0.5169208645820618, 0.035416338592767715, 0.29976096749305725, 0.11114158481359482, 0.03676018863916397], [0.8211305141448975, 0.0075046587735414505, 0.0973258689045906, 0.05284533649682999, 0.02119358442723751], [4.580915629048832e-06, 0.7587549686431885, 0.027431325986981392, 0.11670157313346863, 0.09710749983787537], [0.00014748488320037723, 0.3606898784637451, 0.10432950407266617, 0.3232914209365845, 0.21154171228408813], [1.649357727728784e-06, 0.8710948824882507, 0.009464770555496216, 0.05179041251540184, 0.06764830648899078], [1.1336672287143301e-05, 0.667799711227417, 0.037818290293216705, 0.1590072363615036, 0.13536350429058075], [3.5562413813750027e-06, 0.7715530395507812, 0.020790064707398415, 0.10481061786413193, 0.10284262150526047], [1.0877287422772497e-05, 0.7416630387306213, 0.024876145645976067, 0.11319959908723831, 0.12025033682584763], [2.2883555175212678e-06, 0.973689079284668, 0.0009113434352912009, 0.004889287520200014, 0.02050791308283806], [5.3384239436127245e-05, 0.47447118163108826, 0.0700589045882225, 0.23958797752857208, 0.215828537940979], [0.001290078042075038, 0.49715012311935425, 0.0709223747253418, 0.2047620415687561, 0.22587540745735168], [3.3210562833119184e-07, 0.8224548697471619, 0.011079144664108753, 0.07346199452877045, 0.09300371259450912], [5.217536454438232e-06, 0.6578878164291382, 0.029925858601927757, 0.14954334497451782, 0.16263771057128906], [5.662462285727088e-07, 0.9356788396835327, 0.0038547038566321135, 0.023273000493645668, 0.03719288110733032], [2.4006887997529702e-06, 0.9201312065124512, 0.005568173713982105, 0.028302647173404694, 0.04599551483988762], [1.8240925783175044e-06, 0.9806751608848572, 0.0008114585652947426, 0.00584380840882659, 0.012667614035308361], [0.9983046054840088, 1.9135907081135883e-08, 0.001566670835018158, 0.00011631349480012432, 1.23223308037268e-05], [0.9940040707588196, 2.6062866709253285e-06, 0.004049978218972683, 0.0014686139766126871, 0.0004747084458358586], [0.9916796088218689, 4.7690946303191595e-06, 0.006297261454164982, 0.0015904807951301336, 0.00042796143679879606], [0.9976800084114075, 6.919789541370847e-08, 0.0020875444170087576, 0.00020621801377274096, 2.617608151922468e-05], [0.9758775234222412, 0.00012763675476890057, 0.01477915607392788, 0.006530929822474718, 0.002684730337932706], [0.994232714176178, 7.477577241843392e-07, 0.0051133339293301105, 0.0005888583255000412, 6.437989941332489e-05], [0.9964920878410339, 6.086990538278769e-07, 0.0028662127442657948, 0.0005459841340780258, 9.510895324638113e-05], [0.9811064004898071, 2.0840605429839343e-05, 0.013450671918690205, 0.0038209911435842514, 0.0016011118423193693], [0.9835958480834961, 9.864753337751608e-06, 0.012847932055592537, 0.003007468767464161, 0.0005389040452428162], [0.9867777824401855, 7.812356670910958e-06, 0.010213738307356834, 0.0023578775580972433, 0.000642916711512953], [0.9911435842514038, 5.927391271143279e-07, 0.008103139698505402, 0.0006870863726362586, 6.56046177027747e-05], [0.9838945269584656, 1.3479886547429487e-05, 0.011736339889466763, 0.003310868050903082, 0.0010448689572513103], [0.9947479367256165, 1.713938786451763e-07, 0.0048362151719629765, 0.00037836047704331577, 3.7351706851040944e-05], [0.9956557750701904, 1.8498107010600506e-06, 0.0032056833151727915, 0.0007773006218485534, 0.0003594480804167688], [0.995381772518158, 1.271368290645114e-07, 0.004444270860403776, 0.00016591759049333632, 7.928373634058516e-06], [0.8505492210388184, 0.014848063699901104, 0.05145633965730667, 0.0486253947019577, 0.03452102467417717], [0.9945458173751831, 3.246959749958478e-06, 0.004230378195643425, 0.0010355510748922825, 0.00018504909530747682], [0.17770551145076752, 0.43789947032928467, 0.09058161079883575, 0.14009380340576172, 0.15371966361999512], [0.9933439493179321, 5.248673460300779e-06, 0.0050587463192641735, 0.0013354753609746695, 0.00025660180835984647], [0.0010880291229113936, 0.1345551311969757, 0.24376444518566132, 0.3805730938911438, 0.2400193065404892], [0.9949894547462463, 3.624518058131798e-06, 0.003548495238646865, 0.0010495675960555673, 0.00040868978248909116], [0.24124790728092194, 0.26297634840011597, 0.14367438852787018, 0.18986724317073822, 0.1622341275215149], [0.995433509349823, 1.19876588655643e-07, 0.00438038120046258, 0.00017674143600743264, 9.250111361325253e-06], [0.9878280162811279, 1.919236183312023e-06, 0.011291111819446087, 0.000821948517113924, 5.698319000657648e-05], [0.7549330592155457, 0.0339292474091053, 0.0765012800693512, 0.07738000154495239, 0.05725642666220665], [2.589962059573736e-05, 0.8373451828956604, 0.014329222030937672, 0.060918014496564865, 0.08738172799348831], [2.2380534574040212e-05, 0.7742237448692322, 0.027842137962579727, 0.09762788563966751, 0.10028392821550369], [8.701942533662077e-06, 0.8027458786964417, 0.016025738790631294, 0.08084393292665482, 0.10037562996149063], [7.25299323676154e-05, 0.725140392780304, 0.02390136756002903, 0.09749828279018402, 0.1533874124288559], [0.0001562815741635859, 0.515873908996582, 0.06720191985368729, 0.16765260696411133, 0.24911536276340485], [7.44861154089449e-06, 0.7966604828834534, 0.025823604315519333, 0.09600792825222015, 0.08150063455104828], [0.00023324570793192834, 0.8094204664230347, 0.01581699401140213, 0.06562276184558868, 0.10890651494264603], [1.4156012184685096e-05, 0.8335732221603394, 0.015938650816679, 0.06501392275094986, 0.08546008914709091], [0.00023001039517112076, 0.5794232487678528, 0.04996311664581299, 0.17503398656845093, 0.19534966349601746], [6.202058102644514e-06, 0.7568332552909851, 0.02737409621477127, 0.1127718985080719, 0.1030144989490509], [1.4128898328635842e-05, 0.8180959820747375, 0.015061192214488983, 0.06881062686443329, 0.09801801294088364], [6.509328613901744e-06, 0.797995924949646, 0.019843872636556625, 0.08588835597038269, 0.09626539796590805], [6.7195551309851e-06, 0.7939882278442383, 0.018054356798529625, 0.08938174694776535, 0.09856892377138138], [3.341508545418037e-06, 0.7959148287773132, 0.019533779472112656, 0.09360633045434952, 0.09094173461198807], [1.9381801394047216e-05, 0.7710230350494385, 0.010043173097074032, 0.0408274307847023, 0.17808695137500763], [0.9996774196624756, 4.8171413524755735e-09, 0.0002609920047689229, 4.916144098388031e-05, 1.235807121702237e-05], [0.999332845211029, 7.386290246103044e-09, 0.0005813786410726607, 7.277890108525753e-05, 1.3018307981838007e-05], [0.951895534992218, 0.0005552324582822621, 0.021476641297340393, 0.015561475418508053, 0.010511125437915325], [0.998698353767395, 2.0023978919425645e-08, 0.0011522258864715695, 0.00012640257773455232, 2.2972577426116914e-05], [0.9358858466148376, 0.0012899953871965408, 0.026035433635115623, 0.0208759643137455, 0.015912728384137154], [0.9686279892921448, 6.505975761683658e-05, 0.022540388628840446, 0.006846737582236528, 0.0019199326634407043], [1.666649586695712e-05, 0.7497682571411133, 0.024134865030646324, 0.10488171875476837, 0.1211986094713211], [7.006878490756208e-07, 0.9780713319778442, 0.00034770011552609503, 0.0028461432084441185, 0.018734078854322433], [3.900932910028132e-08, 0.9817160964012146, 0.00013149483129382133, 0.001521128579042852, 0.016631338745355606], [1.2036622138111852e-05, 0.9068610668182373, 0.0040825954638421535, 0.024606503546237946, 0.06443776935338974], [2.463941427777172e-06, 0.9650701880455017, 0.0011110727209597826, 0.008361185900866985, 0.025455135852098465], [0.9896460175514221, 8.531129424227402e-06, 0.007356069050729275, 0.00239656213670969, 0.0005928567843511701]]\n"
          ],
          "name": "stdout"
        }
      ]
    },
    {
      "cell_type": "code",
      "metadata": {
        "id": "aFCz-d08oyYa",
        "colab": {
          "base_uri": "https://localhost:8080/",
          "height": 856
        },
        "outputId": "660044df-3063-4bf1-a766-b6099b1a7cdb"
      },
      "source": [
        "import pandas as pd\r\n",
        "import seaborn as sn\r\n",
        "from sklearn.metrics import confusion_matrix\r\n",
        "import matplotlib.pyplot as plt\r\n",
        " \r\n",
        "def print_cmx(y_true, y_pred):\r\n",
        "    labels = sorted(list(set(y_true)))\r\n",
        "    cmx_data = confusion_matrix(y_true, y_pred, labels=labels)\r\n",
        "    \r\n",
        "    df_cmx = pd.DataFrame(cmx_data, index=labels, columns=labels)\r\n",
        " \r\n",
        "    plt.figure(figsize = (15,15))\r\n",
        "    sn.heatmap(df_cmx, annot=True, fmt='g' ,square = True)\r\n",
        "    plt.show()\r\n",
        " \r\n",
        "print_cmx(true_classes, predict_classes)"
      ],
      "execution_count": 70,
      "outputs": [
        {
          "output_type": "display_data",
          "data": {
            "image/png": "[encoded data removed]",
            "text/plain": [
              "<Figure size 1080x1080 with 2 Axes>"
            ]
          },
          "metadata": {
            "tags": [],
            "needs_background": "light"
          }
        }
      ]
    },
    {
      "cell_type": "code",
      "metadata": {
        "colab": {
          "base_uri": "https://localhost:8080/"
        },
        "id": "rPXkHbnoYRFS",
        "outputId": "50fc0830-af5b-4331-da86-46df179c69e9"
      },
      "source": [
        "Train_labels = [0,0,0,1,1,2,2,2,2,2,2,2,2,4,4,3,2,2,2,0,0,1,2,2,2,2,1,1,2,2,1,2,2,2,2,2,2,2,2,3,2,2,2,2,2,0,0,1,1,2,2,2,4,4,4,3,2,2,2,1,2,2,2,2,2,2,4,4,2,2,0,0,2,2,2,2,4,3,3,2,2,2,0,1,2,2,2,1,2,2,2,2,2,0,0,0,2,2,2,2,2,2,4,4,3,2,2,2,2,2,2,2,2,2,4,4,2,2,4,2,2,2,2,2,2,2,3,2,2,2,2,2,2,2,2,4,4,4,3,2,2,2,2,2,2,2,2,0,0,1,2,2,2,2,2,4,4,4,2,2,2,2,0,0,0,1,1,2,2,2,1,2,2,2,2,2,2,2,2,2,2,2,2,0,0,1,2,2,2,2,2,2,4,4,4,4,4,2,2,2,2,2,2,2,2,2,2,2,3,3,2,2,2,1,1,2,1,2,2,2,2,2,2,2,2,2,4,4,4,4,4,4,3,2,2,2,2,2,2,2,0,0,1,1,2,2,2,2,2,2,2,2,2,2,2,3,2,2,2,0,0,2,2,1,2,2,2,2,0,0,0,1,2,2,2,2,1,2,2,2,1,2,2,2,2,2,4,3,3,2,2,2,2,4,4,3,2,2,2,0,0,1,2,2,1,2,2,1,2,2,2,2,2,2,2,4,4,4,3,3,3,2,2,2,2,2,2,2,1,2,2,2,2,2,3,2,2,2,0,0,1,2,2,2,2,2,2,2,2,2,2,4,4,4,3,2,2,0,0,0,0,1,2,2,2,2,2,2,1,2,2,2,2,4,4,4,3,2,2,2,2,3,2,2,2,2,2,2,2,2,2,0,1,2,2,2,2,2,2,2,2,1,2,2,2,2,2,2,2,2,4,4,4,2,2,2,2,0,0,0,0,1,2,2,2,2,2,2,1,2,2,2,2,2,2,2,2,2,2,2,2,2,3,2,2,2,1,1,1,2,2,2,2,2,0,1,1,2,2,2,2,2,4,4,4,3,2,2,2,2,2,1,1,2,1,1,2,2,2,2,2,2,2,4,4,3,2,2,2,2,1,2,2,2,2,2,2,2,2,2,4,4,3,2,2,2,2,2,2,2,2,0,0,0,0,1,2,2,2,2,2,2,2,2,2,1,2,2,2,2,2,2,2,4,4,4,3,3,2,2,2,2,2,2,2,2,2,0,0,0,1,2,2,2,2,2,4,4,4,2,2,2,2,2,2,2,3,3,2,2,2,2,2,1,1,2,2,2,1,2,2,2,2,2,2,4,4,3,3,2,2,2,2,2,2,4,4,4,4,3,3,2,2,2,2,2,0,0,0,0,1,2,2,2,2,2,2,2,3,2,2,2,2,2,0,0,1,2,2,2,2,1,2,2,1,2,2,2,2,2,2,2,0,0,0,1,2,2,2,2,1,2,2,2,1,2,2,2,2,2,2,2,2,4,4,4,4,2,2,2,2,2,2,2,2,2,2,2,2,2,4,4,4,2,2,2,2,0,0,0,2,2,2,1,2,2,2,2,4,2,2,2,1,2,2,2,2,2,2,2,2,2,2,2,0,0,0,1,2,2,1,2,2,1,2,2,2,2,2,2,3,2,2,2,2,2,1,2,2,2,2,2,3,2,2,2,2,1,2,2,2,2,3,2,2,2,2,2,4,4,4,3,2,2,2,2,2,2,2,0,0,0,1,2,2,2,2,2,2,2,4,2,2,2,2,2,3,2,2,2,2,2,1,2,2,2,2,2,0,0,0,0,1,2,2,2,1,2,2,2,1,2,2,2,2,2,3,2,2,2,1,2,2,2,2,3,2,2,2,2,4,4,3,3,2,2,0,1,1,2,2,2,2,2,0,0,0,0,1,2,2,2,1,2,2,4,3,3,2,2,2,0,1,1,1,2,2,2,2,2,1,2,2,2,3,2,2,2,2,2,2,4,4,3,3,2,2,2,2,2,2,0,0,0,0,1,2,2,2,1,2,2,2,2,3,2,2,2,2,1,2,2,2,1,1,1,2,2,2,2,1,2,3,2,0,0,0,0,0,1,2,2,2,2,2,2,2,4,4,4,3,3,2,2,2,2,2,2,0,0,1,2,2,2,2,4,4,2,2,2,2,0,1,1,2,2,2,2,2,2,2,2,2,0,0,0,0,2,2,2,1,2,2,2,2,2,2,2,3,3,3,3,3,2,2,2,1,2,2,2,2,2,3,2,2,2,2,0,0,0,1,2,2,2,2,2,4,4,4,3,3,2,2,2,2,2,1,2,2,2,4,4,2,2,3,2,2,2,2,2,0,2,2,2,2,2,2,2,2,2,2,2,0,0,0,1,1,2,2,2,1,2,2,2,4,4,4,3,2,2,2,2,2,2,2,2,1,1,2,2,2,2,2,2,2,2,4,4,4,2,2,4,4,2,2,2,2,2,0,0,0,2,2,2,2,1,2,2,2,3,3,2,2,2,1,2,2,2,2,3,2,2,2,2,2,2,1,1,2,2,2,3,3,3,2,2,2,2,2,2,2,2,1,2,2,2,2,2,2,0,0,0,1,1,2,2,2,2,2,1,2,2,2,1,2,2,2,2,2,3,2,2,2,0,0,2,2,2,2,4,4,3,2,2,2,2,2,1,2,2,1,2,2,3,2,2,2,3,2,2,2,2,0,0,0,0,0,2,2,2,2,4,2,2,3,2,2,2,2,2,0,1,2,2,2,2,2,1,2,2,2,3,2,2,1,2,2,2,2,2,2,3,2,2,2,2,2,2,4,4,3,2,2,3,2,2,2,2,0,1,2,2,2,2,1,2,2,1,2,2,2,2,2,3,2,2,2,2,4,4,3,2,2,2,0,0,1,1,2,2,2,1,2,2,2,2,2,2,2,2,2,4,4,4,4,1,2,2,2,2,2,1,2,2,2,3,2,2,2,2,2,2,2,2,0,0,2,2,4,3,3,2,2,2,2,1,2,2,2,2,2,2,2,2,2,2,2,2,0,0,1,1,2,2,2,2,1,2,2,2,1,2,2,2,3,2,2,2,2,2,2,2,1,2,2,2,3,2,2,2,2,2,2,2,2,2,2]\r\n",
        "i = 0\r\n",
        "while i < 5:\r\n",
        "    print(Train_labels.count(i))\r\n",
        "    i = i+1"
      ],
      "execution_count": null,
      "outputs": [
        {
          "output_type": "stream",
          "text": [
            "120\n",
            "128\n",
            "943\n",
            "85\n",
            "111\n"
          ],
          "name": "stdout"
        }
      ]
    },
    {
      "cell_type": "code",
      "metadata": {
        "colab": {
          "base_uri": "https://localhost:8080/"
        },
        "id": "muV-0_cR25cp",
        "outputId": "6cf8c4d4-180a-48fd-877c-fc013936f8d8"
      },
      "source": [
        "batch_size = 50\r\n",
        "history2 = model.fit_generator(\r\n",
        "    train_gen.flow(Train_images, Train_labels, batch_size=batch_size),\r\n",
        "    epochs=1,\r\n",
        "    steps_per_epoch=Train_images.shape[0] // batch_size,\r\n",
        "    validation_data=test_gen.flow(Test_images, Test_labels, batch_size=batch_size),\r\n",
        "    validation_steps=Test_images.shape[0] // batch_size,\r\n",
        "    callbacks=[lr_decay])"
      ],
      "execution_count": 73,
      "outputs": [
        {
          "output_type": "stream",
          "text": [
            "/usr/local/lib/python3.6/dist-packages/tensorflow/python/keras/engine/training.py:1844: UserWarning: `Model.fit_generator` is deprecated and will be removed in a future version. Please use `Model.fit`, which supports generators.\n",
            "  warnings.warn('`Model.fit_generator` is deprecated and '\n"
          ],
          "name": "stderr"
        },
        {
          "output_type": "stream",
          "text": [
            "24/24 [==============================] - 10s 406ms/step - loss: 2.7165 - acc: 0.8113 - val_loss: 4.3157 - val_acc: 0.2400\n"
          ],
          "name": "stdout"
        }
      ]
    },
    {
      "cell_type": "code",
      "metadata": {
        "colab": {
          "base_uri": "https://localhost:8080/"
        },
        "id": "aGJDA8Ty3IAS",
        "outputId": "7ccec838-dc3e-472b-fd64-4ccc549ee0f5"
      },
      "source": [
        "import numpy as np\r\n",
        "from sklearn.metrics import confusion_matrix\r\n",
        "\r\n",
        "TTest_labels =[2,0,4,3,4,1,4,1,1,0,0,0,2,2,1,\r\n",
        "              4,4,3,3,1,0,4,3,3,3,1,2,0,0,1,\r\n",
        "              1,1,3,0,0,4,4,3,4,4,4,3,3,3,2,\r\n",
        "              2,1,0,0,0,1,3,4,4,0,0,0,1,1,2,\r\n",
        "              4,4,4,3,3,1,3,1,4,4,4,3,1,3,2,\r\n",
        "              2,2,1,1,1,2,2,2,0,1,1,2,2,1,2,\r\n",
        "              2,2,0,0,0,0,2,2,1,2,2,2,4,4,3,\r\n",
        "              3,1,3,4,4,4,3,3,0,0,3,3,0,0,2]\r\n",
        "i = 0\r\n",
        "\r\n",
        "while i < 5:\r\n",
        "    print(TTest_labels.count(i))\r\n",
        "    i = i+1\r\n",
        "predict_prob=model.predict(Test_images)\r\n",
        "lista =  predict_prob.tolist()\r\n",
        "predict_classes=np.argmax(lista,axis=1)\r\n",
        "true_classes = test_labels\r\n",
        "print(type(TTest_labels))\r\n",
        "print(confusion_matrix(true_classes,predict_classes))\r\n",
        "print(predict_prob[0:100])\r\n",
        "print(predict_prob.shape)\r\n",
        "print(type(lista))\r\n",
        "print(lista)\r\n",
        "lista =  predict_prob.tolist()"
      ],
      "execution_count": 74,
      "outputs": [
        {
          "output_type": "stream",
          "text": [
            "24\n",
            "24\n",
            "24\n",
            "24\n",
            "24\n",
            "<class 'list'>\n",
            "[[ 0 22  2  0  0]\n",
            " [ 0 24  0  0  0]\n",
            " [ 0 21  3  0  0]\n",
            " [ 0 22  1  1  0]\n",
            " [ 1 19  2  2  0]]\n",
            "[[0.08891027 0.51051116 0.15494381 0.18450893 0.0611258 ]\n",
            " [0.07562434 0.5663188  0.1160751  0.17356053 0.06842118]\n",
            " [0.19733195 0.30186653 0.1311718  0.2722647  0.09736495]\n",
            " [0.08932675 0.5227088  0.07918531 0.20640129 0.10237788]\n",
            " [0.09577603 0.5085367  0.10187379 0.2055828  0.08823073]\n",
            " [0.13294506 0.41911831 0.12754701 0.23356931 0.08682033]\n",
            " [0.07070622 0.5808313  0.10273088 0.17263325 0.07309837]\n",
            " [0.11922693 0.45168948 0.11582533 0.22393891 0.08931938]\n",
            " [0.13722667 0.3648334  0.243012   0.20062706 0.05430086]\n",
            " [0.16336733 0.35633677 0.14078653 0.24646443 0.09304491]\n",
            " [0.20091578 0.28630418 0.1579553  0.26532167 0.08950308]\n",
            " [0.19035052 0.306794   0.14826888 0.26181254 0.09277412]\n",
            " [0.16506836 0.34658992 0.1581926  0.24435653 0.08579252]\n",
            " [0.16410735 0.34407946 0.16954482 0.24086514 0.08140316]\n",
            " [0.16119626 0.35780546 0.13115193 0.24870959 0.10113666]\n",
            " [0.14899012 0.38041216 0.12720327 0.24574967 0.09764477]\n",
            " [0.16317847 0.35423592 0.12341972 0.25755182 0.10161408]\n",
            " [0.15078518 0.37465867 0.15111107 0.2360382  0.08740686]\n",
            " [0.13810922 0.40929055 0.13149446 0.23377089 0.08733497]\n",
            " [0.14638697 0.3899521  0.13364491 0.2382098  0.09180624]\n",
            " [0.13569646 0.41441596 0.1429785  0.2259207  0.08098832]\n",
            " [0.09000297 0.52538526 0.11632367 0.18971919 0.07856896]\n",
            " [0.15804349 0.3204496  0.2642774  0.20884997 0.04837958]\n",
            " [0.11708581 0.45433584 0.14962615 0.20693885 0.07201339]\n",
            " [0.13847916 0.40857095 0.15089509 0.2245891  0.07746575]\n",
            " [0.12069249 0.37221012 0.29078093 0.17728014 0.03903626]\n",
            " [0.19471881 0.29210636 0.183359   0.25410745 0.07570837]\n",
            " [0.14148223 0.39428973 0.12736063 0.23999614 0.09687128]\n",
            " [0.17405187 0.3300182  0.1677134  0.24673046 0.08148608]\n",
            " [0.19705851 0.28992543 0.17240135 0.26044443 0.0801703 ]\n",
            " [0.17347407 0.33822632 0.12446648 0.26229855 0.10153456]\n",
            " [0.17243181 0.34130573 0.12393688 0.25989607 0.10242958]\n",
            " [0.20171897 0.28952336 0.12830621 0.2753675  0.10508394]\n",
            " [0.18735388 0.30245906 0.182851   0.25142273 0.07591334]\n",
            " [0.06237017 0.2762077  0.5637224  0.08781662 0.00988313]\n",
            " [0.08685573 0.3075295  0.4684738  0.12024873 0.01689221]\n",
            " [0.12871207 0.4270932  0.11222447 0.2354679  0.09650229]\n",
            " [0.13281566 0.33638716 0.3103204  0.1829239  0.03755281]\n",
            " [0.14542627 0.39284647 0.11066656 0.247521   0.10353964]\n",
            " [0.07995429 0.31704327 0.46939227 0.11712968 0.01648046]\n",
            " [0.15561119 0.35954243 0.18963344 0.22628024 0.06893272]\n",
            " [0.15318704 0.36925292 0.18010649 0.22632115 0.07113235]\n",
            " [0.07840269 0.5568096  0.12532723 0.17008698 0.06937353]\n",
            " [0.10449424 0.33696198 0.37991092 0.15253936 0.02609344]\n",
            " [0.08949251 0.5210987  0.13711253 0.18242268 0.06987365]\n",
            " [0.07439125 0.56870776 0.11602056 0.1686775  0.07220289]\n",
            " [0.09272417 0.515794   0.12275968 0.19118132 0.0775409 ]\n",
            " [0.12951373 0.42778307 0.12470128 0.22849575 0.08950613]\n",
            " [0.11948189 0.36655447 0.29829577 0.17811713 0.0375507 ]\n",
            " [0.19844002 0.20905487 0.35647082 0.2013515  0.03468288]\n",
            " [0.13186906 0.4136171  0.17142142 0.21391511 0.0691773 ]\n",
            " [0.13642979 0.35869858 0.26257905 0.19603021 0.04626242]\n",
            " [0.12861063 0.3763699  0.252225   0.19494449 0.04784996]\n",
            " [0.14470339 0.35576934 0.23873252 0.20590256 0.05489219]\n",
            " [0.17801602 0.32693154 0.13441093 0.25752893 0.10311252]\n",
            " [0.19361201 0.30883595 0.13110492 0.26401755 0.10242957]\n",
            " [0.16926296 0.3422994  0.13572209 0.25180855 0.10090704]\n",
            " [0.19182107 0.30697486 0.13052274 0.26575086 0.10493043]\n",
            " [0.2049514  0.2874824  0.12727816 0.2738051  0.10648293]\n",
            " [0.2052839  0.28927577 0.12897798 0.27120835 0.10525405]\n",
            " [0.09731387 0.4961239  0.119002   0.20093556 0.08662473]\n",
            " [0.16237152 0.3451032  0.17422162 0.24176268 0.076541  ]\n",
            " [0.16392903 0.3576627  0.14020745 0.24586877 0.09233199]\n",
            " [0.16789609 0.34379977 0.12577586 0.26084045 0.10168783]\n",
            " [0.15278102 0.37169212 0.13829678 0.24655707 0.09067304]\n",
            " [0.11954562 0.44559053 0.12715836 0.21747209 0.09023342]\n",
            " [0.11700274 0.43503842 0.16841559 0.20926759 0.07027575]\n",
            " [0.09397617 0.49732873 0.17257538 0.1767141  0.05940556]\n",
            " [0.24021046 0.2340686  0.1810565  0.2689607  0.07570367]\n",
            " [0.20186369 0.2968267  0.13835998 0.2690723  0.09387733]\n",
            " [0.16658612 0.32753637 0.21398546 0.22925298 0.06263907]\n",
            " [0.19913882 0.28434953 0.20016149 0.24828967 0.06806049]\n",
            " [0.16863057 0.3176384  0.22306807 0.22994524 0.0607177 ]\n",
            " [0.12851216 0.41883004 0.17656961 0.20702486 0.06906333]\n",
            " [0.22324884 0.23072372 0.25082588 0.23993179 0.05526974]\n",
            " [0.1414644  0.3350918  0.28739595 0.19213343 0.04391444]\n",
            " [0.14796783 0.3642606  0.21141575 0.21616954 0.06018631]\n",
            " [0.12016197 0.39703387 0.2536748  0.18245345 0.04667587]\n",
            " [0.09397627 0.50170636 0.14794384 0.1873383  0.06903522]\n",
            " [0.15335879 0.32187128 0.27438724 0.20309122 0.04729145]\n",
            " [0.11679504 0.45365137 0.13496327 0.2121586  0.0824317 ]\n",
            " [0.12568691 0.4265319  0.15883961 0.21576653 0.07317504]\n",
            " [0.16884772 0.34070015 0.17704712 0.23887107 0.07453392]\n",
            " [0.18912038 0.28141856 0.2509875  0.2255809  0.05289274]\n",
            " [0.18894671 0.30313998 0.20024753 0.24093394 0.06673185]\n",
            " [0.19105949 0.28828907 0.22939649 0.23327547 0.05797952]\n",
            " [0.17223921 0.3312542  0.19492023 0.2339752  0.06761119]\n",
            " [0.13842304 0.40073538 0.14314994 0.23034695 0.08734474]\n",
            " [0.16086738 0.35470062 0.18855329 0.22764865 0.06823005]\n",
            " [0.18680172 0.30987766 0.19374807 0.24112965 0.0684429 ]\n",
            " [0.18278576 0.23072937 0.35896543 0.19391635 0.03360302]\n",
            " [0.16578652 0.23486468 0.3916837  0.17856453 0.02910056]\n",
            " [0.188534   0.29002795 0.23537235 0.22985631 0.05620935]\n",
            " [0.19054909 0.29818848 0.18683967 0.24951205 0.0749107 ]\n",
            " [0.13413662 0.4105169  0.13026457 0.22894353 0.09613843]\n",
            " [0.1543082  0.36742905 0.15740016 0.2371811  0.08368153]\n",
            " [0.13186179 0.41347596 0.12245451 0.2335115  0.09869616]\n",
            " [0.13433802 0.40753406 0.14878266 0.22571121 0.08363404]\n",
            " [0.1733275  0.33711836 0.13321202 0.25505707 0.10128511]\n",
            " [0.16905764 0.34641647 0.13265283 0.2536246  0.0982485 ]]\n",
            "(120, 5)\n",
            "<class 'list'>\n",
            "[[0.08891026675701141, 0.5105111598968506, 0.1549438089132309, 0.18450893461704254, 0.061125803738832474], [0.07562433928251266, 0.5663188099861145, 0.11607509851455688, 0.17356052994728088, 0.06842117756605148], [0.19733195006847382, 0.3018665313720703, 0.1311717927455902, 0.272264689207077, 0.09736495465040207], [0.08932675421237946, 0.5227087736129761, 0.07918531447649002, 0.2064012885093689, 0.10237788408994675], [0.0957760289311409, 0.508536696434021, 0.10187378525733948, 0.20558279752731323, 0.08823072910308838], [0.13294506072998047, 0.41911831498146057, 0.1275470107793808, 0.23356930911540985, 0.0868203267455101], [0.07070621848106384, 0.5808312892913818, 0.1027308776974678, 0.17263324558734894, 0.07309836894273758], [0.11922693252563477, 0.4516894817352295, 0.11582533270120621, 0.22393891215324402, 0.0893193781375885], [0.1372266709804535, 0.36483341455459595, 0.24301199615001678, 0.20062705874443054, 0.054300855845212936], [0.16336733102798462, 0.356336772441864, 0.1407865285873413, 0.24646443128585815, 0.09304491430521011], [0.20091578364372253, 0.28630417585372925, 0.15795530378818512, 0.26532167196273804, 0.08950307965278625], [0.1903505176305771, 0.3067939877510071, 0.14826887845993042, 0.2618125379085541, 0.09277412295341492], [0.1650683581829071, 0.34658992290496826, 0.15819260478019714, 0.24435652792453766, 0.08579251915216446], [0.16410735249519348, 0.34407946467399597, 0.16954481601715088, 0.24086514115333557, 0.08140315860509872], [0.1611962616443634, 0.357805460691452, 0.1311519294977188, 0.24870958924293518, 0.10113666206598282], [0.14899012446403503, 0.38041216135025024, 0.12720327079296112, 0.24574966728687286, 0.09764476865530014], [0.1631784737110138, 0.3542359173297882, 0.12341972440481186, 0.25755181908607483, 0.1016140803694725], [0.1507851779460907, 0.3746586740016937, 0.15111106634140015, 0.2360381931066513, 0.08740685880184174], [0.1381092220544815, 0.4092905521392822, 0.1314944624900818, 0.23377089202404022, 0.08733496814966202], [0.14638696610927582, 0.3899520933628082, 0.13364490866661072, 0.2382097989320755, 0.09180624037981033], [0.13569645583629608, 0.41441595554351807, 0.1429785043001175, 0.22592070698738098, 0.0809883177280426], [0.09000296890735626, 0.5253852605819702, 0.11632367223501205, 0.18971918523311615, 0.0785689577460289], [0.1580434888601303, 0.3204495906829834, 0.2642773985862732, 0.2088499665260315, 0.048379577696323395], [0.11708581447601318, 0.4543358385562897, 0.14962615072727203, 0.20693884789943695, 0.07201339304447174], [0.13847915828227997, 0.40857094526290894, 0.15089508891105652, 0.22458909451961517, 0.07746575027704239], [0.12069249153137207, 0.3722101151943207, 0.2907809317111969, 0.17728014290332794, 0.03903626278042793], [0.19471880793571472, 0.29210636019706726, 0.18335899710655212, 0.25410744547843933, 0.07570837438106537], [0.14148223400115967, 0.3942897319793701, 0.12736062705516815, 0.23999613523483276, 0.0968712791800499], [0.17405186593532562, 0.33001819252967834, 0.16771340370178223, 0.24673046171665192, 0.08148607611656189], [0.1970585137605667, 0.2899254262447357, 0.17240135371685028, 0.26044443249702454, 0.08017030358314514], [0.17347407341003418, 0.338226318359375, 0.12446647882461548, 0.2622985541820526, 0.10153456032276154], [0.1724318116903305, 0.3413057327270508, 0.12393687665462494, 0.25989606976509094, 0.1024295836687088], [0.20171897113323212, 0.2895233631134033, 0.12830621004104614, 0.27536749839782715, 0.10508394241333008], [0.18735387921333313, 0.30245906114578247, 0.18285100162029266, 0.2514227330684662, 0.07591333985328674], [0.0623701736330986, 0.27620768547058105, 0.5637223720550537, 0.08781661838293076, 0.00988312903791666], [0.08685573190450668, 0.3075295090675354, 0.46847379207611084, 0.12024872750043869, 0.01689220778644085], [0.12871207296848297, 0.4270932078361511, 0.11222447454929352, 0.23546789586544037, 0.09650228917598724], [0.1328156590461731, 0.33638715744018555, 0.3103204071521759, 0.18292389810085297, 0.037552814930677414], [0.14542627334594727, 0.3928464651107788, 0.11066655814647675, 0.24752099812030792, 0.10353963822126389], [0.07995428889989853, 0.317043274641037, 0.4693922698497772, 0.11712968349456787, 0.01648046262562275], [0.15561118721961975, 0.3595424294471741, 0.18963344395160675, 0.22628024220466614, 0.06893271952867508], [0.15318703651428223, 0.36925292015075684, 0.1801064908504486, 0.22632114589214325, 0.0711323544383049], [0.07840269058942795, 0.5568096041679382, 0.1253272294998169, 0.17008697986602783, 0.06937352567911148], [0.10449424386024475, 0.3369619846343994, 0.3799109160900116, 0.15253935754299164, 0.026093438267707825], [0.08949251472949982, 0.5210986733436584, 0.13711252808570862, 0.1824226826429367, 0.06987365335226059], [0.07439124584197998, 0.5687077641487122, 0.1160205602645874, 0.16867749392986298, 0.0722028911113739], [0.09272416681051254, 0.5157939791679382, 0.12275967746973038, 0.19118131697177887, 0.07754090428352356], [0.1295137256383896, 0.4277830719947815, 0.12470127642154694, 0.2284957468509674, 0.089506134390831], [0.1194818913936615, 0.36655446887016296, 0.2982957661151886, 0.17811712622642517, 0.03755069524049759], [0.19844001531600952, 0.2090548723936081, 0.35647082328796387, 0.20135149359703064, 0.03468288108706474], [0.13186906278133392, 0.4136171042919159, 0.17142142355442047, 0.21391510963439941, 0.0691772997379303], [0.1364297866821289, 0.3586985766887665, 0.2625790536403656, 0.19603021442890167, 0.04626241698861122], [0.12861062586307526, 0.3763698935508728, 0.25222501158714294, 0.19494448602199554, 0.04784995689988136], [0.14470338821411133, 0.3557693362236023, 0.23873251676559448, 0.205902561545372, 0.05489218607544899], [0.17801602184772491, 0.32693153619766235, 0.13441093266010284, 0.2575289309024811, 0.10311251878738403], [0.1936120092868805, 0.3088359534740448, 0.13110491633415222, 0.2640175521373749, 0.10242956876754761], [0.16926296055316925, 0.3422994017601013, 0.1357220858335495, 0.2518085539340973, 0.10090704262256622], [0.19182106852531433, 0.306974858045578, 0.1305227428674698, 0.26575085520744324, 0.10493043065071106], [0.20495140552520752, 0.2874824106693268, 0.1272781640291214, 0.2738051116466522, 0.10648293048143387], [0.20528389513492584, 0.28927576541900635, 0.12897798418998718, 0.27120834589004517, 0.10525404661893845], [0.09731387346982956, 0.49612390995025635, 0.11900199949741364, 0.20093555748462677, 0.08662472665309906], [0.16237151622772217, 0.3451032042503357, 0.17422161996364594, 0.2417626827955246, 0.0765409991145134], [0.1639290302991867, 0.35766270756721497, 0.1402074545621872, 0.2458687722682953, 0.09233199059963226], [0.1678960919380188, 0.34379976987838745, 0.12577585875988007, 0.26084044575691223, 0.10168782621622086], [0.15278102457523346, 0.37169212102890015, 0.13829678297042847, 0.2465570718050003, 0.0906730443239212], [0.11954561620950699, 0.4455905258655548, 0.12715835869312286, 0.21747209131717682, 0.09023341536521912], [0.11700274050235748, 0.43503841757774353, 0.1684155911207199, 0.20926758646965027, 0.07027574628591537], [0.09397616982460022, 0.4973287284374237, 0.17257538437843323, 0.17671410739421844, 0.05940556153655052], [0.24021045863628387, 0.2340686023235321, 0.18105649948120117, 0.26896071434020996, 0.07570367306470871], [0.20186369121074677, 0.29682669043540955, 0.13835997879505157, 0.2690722942352295, 0.09387733042240143], [0.16658611595630646, 0.32753637433052063, 0.21398545801639557, 0.22925297915935516, 0.06263907253742218], [0.1991388201713562, 0.2843495309352875, 0.20016148686408997, 0.24828967452049255, 0.0680604875087738], [0.16863057017326355, 0.3176383972167969, 0.22306807339191437, 0.22994524240493774, 0.06071769818663597], [0.1285121589899063, 0.4188300371170044, 0.1765696108341217, 0.20702485740184784, 0.06906332820653915], [0.22324883937835693, 0.23072372376918793, 0.2508258819580078, 0.23993179202079773, 0.05526973679661751], [0.14146439731121063, 0.33509179949760437, 0.2873959541320801, 0.19213342666625977, 0.043914441019296646], [0.14796783030033112, 0.36426061391830444, 0.21141575276851654, 0.216169536113739, 0.06018631160259247], [0.12016197293996811, 0.3970338702201843, 0.25367480516433716, 0.182453453540802, 0.046675872057676315], [0.09397626668214798, 0.5017063617706299, 0.14794383943080902, 0.18733829259872437, 0.06903521716594696], [0.15335878729820251, 0.321871280670166, 0.2743872404098511, 0.20309121906757355, 0.04729145020246506], [0.11679504066705704, 0.4536513686180115, 0.1349632740020752, 0.21215860545635223, 0.08243169635534286], [0.125686913728714, 0.42653191089630127, 0.158839613199234, 0.2157665342092514, 0.07317503541707993], [0.1688477247953415, 0.3407001495361328, 0.17704711854457855, 0.23887106776237488, 0.07453391700983047], [0.18912038207054138, 0.2814185619354248, 0.2509874999523163, 0.22558090090751648, 0.052892737090587616], [0.1889467090368271, 0.30313998460769653, 0.20024752616882324, 0.24093393981456757, 0.06673184782266617], [0.19105948507785797, 0.28828907012939453, 0.2293964922428131, 0.23327547311782837, 0.057979516685009], [0.17223921418190002, 0.3312542140483856, 0.19492022693157196, 0.23397520184516907, 0.06761118769645691], [0.13842304050922394, 0.40073537826538086, 0.1431499421596527, 0.2303469479084015, 0.08734474331140518], [0.160867378115654, 0.35470062494277954, 0.18855328857898712, 0.22764864563941956, 0.0682300478219986], [0.1868017166852951, 0.3098776638507843, 0.19374807178974152, 0.24112965166568756, 0.06844290345907211], [0.182785764336586, 0.2307293713092804, 0.3589654266834259, 0.19391635060310364, 0.033603016287088394], [0.1657865196466446, 0.23486468195915222, 0.3916836977005005, 0.17856453359127045, 0.029100555926561356], [0.18853400647640228, 0.2900279462337494, 0.23537234961986542, 0.22985631227493286, 0.056209348142147064], [0.1905490905046463, 0.2981884777545929, 0.18683966994285583, 0.24951204657554626, 0.07491070032119751], [0.1341366171836853, 0.4105168879032135, 0.13026456534862518, 0.22894352674484253, 0.09613842517137527], [0.15430819988250732, 0.36742904782295227, 0.15740016102790833, 0.23718109726905823, 0.08368153125047684], [0.13186179101467133, 0.41347596049308777, 0.12245450913906097, 0.23351149260997772, 0.09869616478681564], [0.13433802127838135, 0.40753406286239624, 0.1487826555967331, 0.22571121156215668, 0.08363404124975204], [0.1733275055885315, 0.33711835741996765, 0.13321201503276825, 0.25505706667900085, 0.10128511488437653], [0.16905763745307922, 0.3464164733886719, 0.13265283405780792, 0.2536245882511139, 0.09824849665164948], [0.18890410661697388, 0.2980771064758301, 0.1892712265253067, 0.2490803599357605, 0.07466714829206467], [0.16992886364459991, 0.3446020781993866, 0.14613494277000427, 0.24661707878112793, 0.09271704405546188], [0.1729053109884262, 0.3372984826564789, 0.12731826305389404, 0.258443683385849, 0.10403424501419067], [0.10989774763584137, 0.46899017691612244, 0.12180668860673904, 0.2084384709596634, 0.09086683392524719], [0.12057265639305115, 0.4396500885486603, 0.12773223221302032, 0.21891668438911438, 0.09312830120325089], [0.1684979945421219, 0.34492233395576477, 0.13730107247829437, 0.24996346235275269, 0.09931518137454987], [0.14835025370121002, 0.3764387369155884, 0.15194770693778992, 0.2371591329574585, 0.08610417693853378], [0.12379451096057892, 0.43172430992126465, 0.13631176948547363, 0.2233509123325348, 0.08481847494840622], [0.3235490918159485, 0.15116871893405914, 0.09762148559093475, 0.3113681375980377, 0.11629253625869751], [0.23462261259555817, 0.24681107699871063, 0.10381590574979782, 0.2975907623767853, 0.1171596497297287], [0.1940615475177765, 0.28953561186790466, 0.19811731576919556, 0.24934342503547668, 0.06894200295209885], [0.2195001095533371, 0.2543926239013672, 0.19228382408618927, 0.26345953345298767, 0.07036392390727997], [0.19528651237487793, 0.2911418676376343, 0.19293838739395142, 0.2500302791595459, 0.07060293108224869], [0.14541788399219513, 0.350055068731308, 0.24737577140331268, 0.20511624217033386, 0.05203498527407646], [0.2027384340763092, 0.29024538397789, 0.13027819991111755, 0.2708896994590759, 0.10584831982851028], [0.1284615844488144, 0.4226234555244446, 0.11849985271692276, 0.2330426126718521, 0.09737254679203033], [0.12003965675830841, 0.4414978623390198, 0.13070617616176605, 0.22103849053382874, 0.08671781420707703], [0.17037688195705414, 0.3458879888057709, 0.12552444636821747, 0.25606659054756165, 0.10214409977197647], [0.19473305344581604, 0.30939608812332153, 0.12593773007392883, 0.26617103815078735, 0.10376204550266266], [0.1388818621635437, 0.40509387850761414, 0.15371425449848175, 0.223628431558609, 0.07868149876594543]]\n"
          ],
          "name": "stdout"
        }
      ]
    },
    {
      "cell_type": "code",
      "metadata": {
        "colab": {
          "base_uri": "https://localhost:8080/",
          "height": 852
        },
        "id": "TmHmh41a3KT4",
        "outputId": "0b9a6eab-ef6b-43be-ccca-eba5d28b5ced"
      },
      "source": [
        "import pandas as pd\r\n",
        "import seaborn as sn\r\n",
        "from sklearn.metrics import confusion_matrix\r\n",
        "import matplotlib.pyplot as plt\r\n",
        " \r\n",
        "def print_cmx(y_true, y_pred):\r\n",
        "    labels = sorted(list(set(y_true)))\r\n",
        "    cmx_data = confusion_matrix(y_true, y_pred, labels=labels)\r\n",
        "    \r\n",
        "    df_cmx = pd.DataFrame(cmx_data, index=labels, columns=labels)\r\n",
        " \r\n",
        "    plt.figure(figsize = (15,15))\r\n",
        "    sn.heatmap(df_cmx, annot=True, fmt='g' ,square = True)\r\n",
        "    plt.show()\r\n",
        " \r\n",
        "print_cmx(true_classes, predict_classes)"
      ],
      "execution_count": 75,
      "outputs": [
        {
          "output_type": "display_data",
          "data": {
            "image/png": "[encoded data removed]",
            "text/plain": [
              "<Figure size 1080x1080 with 2 Axes>"
            ]
          },
          "metadata": {
            "tags": [],
            "needs_background": "light"
          }
        }
      ]
    },
    {
      "cell_type": "code",
      "metadata": {
        "colab": {
          "base_uri": "https://localhost:8080/"
        },
        "id": "Cyxlc3Bd3Z6m",
        "outputId": "90d9118c-3be6-41a9-c0c4-e2ed8ea28d70"
      },
      "source": [
        "batch_size = 80\r\n",
        "history3 = model.fit_generator(\r\n",
        "    train_gen.flow(Train_images, Train_labels, batch_size=batch_size),\r\n",
        "    epochs=100,\r\n",
        "    steps_per_epoch=Train_images.shape[0] // batch_size,\r\n",
        "    validation_data=test_gen.flow(Test_images, Test_labels, batch_size=batch_size),\r\n",
        "    validation_steps=Test_images.shape[0] // batch_size,\r\n",
        "    callbacks=[lr_decay])"
      ],
      "execution_count": 81,
      "outputs": [
        {
          "output_type": "stream",
          "text": [
            "/usr/local/lib/python3.6/dist-packages/tensorflow/python/keras/engine/training.py:1844: UserWarning: `Model.fit_generator` is deprecated and will be removed in a future version. Please use `Model.fit`, which supports generators.\n",
            "  warnings.warn('`Model.fit_generator` is deprecated and '\n"
          ],
          "name": "stderr"
        },
        {
          "output_type": "stream",
          "text": [
            "Epoch 1/100\n",
            "15/15 [==============================] - 10s 606ms/step - loss: 2.7071 - acc: 0.8187 - val_loss: 19.7915 - val_acc: 0.2250\n",
            "Epoch 2/100\n",
            "15/15 [==============================] - 9s 604ms/step - loss: 2.7522 - acc: 0.7938 - val_loss: 7.4853 - val_acc: 0.2250\n",
            "Epoch 3/100\n",
            "15/15 [==============================] - 9s 604ms/step - loss: 2.7316 - acc: 0.7982 - val_loss: 12.6947 - val_acc: 0.1875\n",
            "Epoch 4/100\n",
            "15/15 [==============================] - 9s 602ms/step - loss: 2.5946 - acc: 0.8462 - val_loss: 9.9211 - val_acc: 0.1875\n",
            "Epoch 5/100\n",
            "15/15 [==============================] - 9s 606ms/step - loss: 2.6289 - acc: 0.8240 - val_loss: 8.6893 - val_acc: 0.1875\n",
            "Epoch 6/100\n",
            "15/15 [==============================] - 9s 603ms/step - loss: 2.6000 - acc: 0.8276 - val_loss: 4.2054 - val_acc: 0.2250\n",
            "Epoch 7/100\n",
            "15/15 [==============================] - 9s 603ms/step - loss: 2.6533 - acc: 0.8062 - val_loss: 5.7996 - val_acc: 0.2000\n",
            "Epoch 8/100\n",
            "15/15 [==============================] - 9s 604ms/step - loss: 2.5582 - acc: 0.8418 - val_loss: 8.1611 - val_acc: 0.2125\n",
            "Epoch 9/100\n",
            "15/15 [==============================] - 9s 604ms/step - loss: 2.4564 - acc: 0.8800 - val_loss: 3.9774 - val_acc: 0.1750\n",
            "Epoch 10/100\n",
            "15/15 [==============================] - 9s 643ms/step - loss: 2.5660 - acc: 0.8213 - val_loss: 4.7450 - val_acc: 0.2250\n",
            "Epoch 11/100\n",
            "15/15 [==============================] - 9s 601ms/step - loss: 2.4486 - acc: 0.8720 - val_loss: 5.1975 - val_acc: 0.2375\n",
            "Epoch 12/100\n",
            "15/15 [==============================] - 9s 601ms/step - loss: 2.6739 - acc: 0.7778 - val_loss: 6.9663 - val_acc: 0.2625\n",
            "Epoch 13/100\n",
            "15/15 [==============================] - 9s 604ms/step - loss: 2.5317 - acc: 0.8276 - val_loss: 6.6690 - val_acc: 0.2625\n",
            "Epoch 14/100\n",
            "15/15 [==============================] - 9s 643ms/step - loss: 2.6615 - acc: 0.7707 - val_loss: 5.2753 - val_acc: 0.2625\n",
            "Epoch 15/100\n",
            "15/15 [==============================] - 9s 603ms/step - loss: 2.5253 - acc: 0.8267 - val_loss: 7.1531 - val_acc: 0.2375\n",
            "Epoch 16/100\n",
            "15/15 [==============================] - 9s 642ms/step - loss: 2.5057 - acc: 0.8249 - val_loss: 5.6361 - val_acc: 0.1375\n",
            "Epoch 17/100\n",
            "15/15 [==============================] - 9s 602ms/step - loss: 2.4143 - acc: 0.8524 - val_loss: 5.2982 - val_acc: 0.2500\n",
            "Epoch 18/100\n",
            "15/15 [==============================] - 9s 601ms/step - loss: 2.4300 - acc: 0.8569 - val_loss: 5.5758 - val_acc: 0.2000\n",
            "Epoch 19/100\n",
            "15/15 [==============================] - 9s 603ms/step - loss: 2.6445 - acc: 0.7769 - val_loss: 80.3049 - val_acc: 0.1625\n",
            "Epoch 20/100\n",
            "15/15 [==============================] - 9s 602ms/step - loss: 2.6070 - acc: 0.7724 - val_loss: 45.2760 - val_acc: 0.2250\n",
            "Epoch 21/100\n",
            "15/15 [==============================] - 9s 604ms/step - loss: 2.3930 - acc: 0.8498 - val_loss: 12.2662 - val_acc: 0.2375\n",
            "Epoch 22/100\n",
            "15/15 [==============================] - 9s 602ms/step - loss: 2.3254 - acc: 0.8720 - val_loss: 5.8395 - val_acc: 0.2625\n",
            "Epoch 23/100\n",
            "15/15 [==============================] - 9s 604ms/step - loss: 2.2745 - acc: 0.9022 - val_loss: 6.2573 - val_acc: 0.2375\n",
            "Epoch 24/100\n",
            "15/15 [==============================] - 9s 602ms/step - loss: 2.3127 - acc: 0.8738 - val_loss: 7.3431 - val_acc: 0.1500\n",
            "Epoch 25/100\n",
            "15/15 [==============================] - 9s 603ms/step - loss: 2.3948 - acc: 0.8258 - val_loss: 7.4890 - val_acc: 0.1500\n",
            "Epoch 26/100\n",
            "15/15 [==============================] - 9s 603ms/step - loss: 2.3096 - acc: 0.8667 - val_loss: 5.1676 - val_acc: 0.1625\n",
            "Epoch 27/100\n",
            "15/15 [==============================] - 9s 604ms/step - loss: 2.2942 - acc: 0.8676 - val_loss: 5.3377 - val_acc: 0.1875\n",
            "Epoch 28/100\n",
            "15/15 [==============================] - 9s 603ms/step - loss: 2.2802 - acc: 0.8622 - val_loss: 4.0712 - val_acc: 0.2250\n",
            "Epoch 29/100\n",
            "15/15 [==============================] - 9s 604ms/step - loss: 2.3028 - acc: 0.8436 - val_loss: 5.6362 - val_acc: 0.2125\n",
            "Epoch 30/100\n",
            "15/15 [==============================] - 9s 604ms/step - loss: 2.2939 - acc: 0.8631 - val_loss: 4.5203 - val_acc: 0.2000\n",
            "Epoch 31/100\n",
            "15/15 [==============================] - 9s 603ms/step - loss: 2.1835 - acc: 0.8951 - val_loss: 5.3532 - val_acc: 0.2500\n",
            "Epoch 32/100\n",
            "15/15 [==============================] - 9s 641ms/step - loss: 2.2944 - acc: 0.8356 - val_loss: 5.6432 - val_acc: 0.2375\n",
            "Epoch 33/100\n",
            "15/15 [==============================] - 9s 602ms/step - loss: 2.2613 - acc: 0.8533 - val_loss: 6.1486 - val_acc: 0.1250\n",
            "Epoch 34/100\n",
            "15/15 [==============================] - 9s 601ms/step - loss: 2.2026 - acc: 0.8684 - val_loss: 6.4044 - val_acc: 0.2125\n",
            "Epoch 35/100\n",
            "15/15 [==============================] - 10s 637ms/step - loss: 2.1066 - acc: 0.8992 - val_loss: 5.4775 - val_acc: 0.2125\n",
            "Epoch 36/100\n",
            "15/15 [==============================] - 9s 600ms/step - loss: 2.0871 - acc: 0.9058 - val_loss: 5.5353 - val_acc: 0.2000\n",
            "Epoch 37/100\n",
            "15/15 [==============================] - 9s 602ms/step - loss: 2.0936 - acc: 0.8942 - val_loss: 5.7208 - val_acc: 0.2875\n",
            "Epoch 38/100\n",
            "15/15 [==============================] - 9s 601ms/step - loss: 2.1463 - acc: 0.8551 - val_loss: 8.3344 - val_acc: 0.2375\n",
            "Epoch 39/100\n",
            "15/15 [==============================] - 9s 600ms/step - loss: 2.1465 - acc: 0.8631 - val_loss: 9.4530 - val_acc: 0.2125\n",
            "Epoch 40/100\n",
            "15/15 [==============================] - 9s 602ms/step - loss: 2.0824 - acc: 0.8969 - val_loss: 4.7689 - val_acc: 0.2625\n",
            "Epoch 41/100\n",
            "15/15 [==============================] - 9s 600ms/step - loss: 2.0297 - acc: 0.9102 - val_loss: 5.6159 - val_acc: 0.2125\n",
            "Epoch 42/100\n",
            "15/15 [==============================] - 9s 602ms/step - loss: 2.0781 - acc: 0.8871 - val_loss: 8.1147 - val_acc: 0.2125\n",
            "Epoch 43/100\n",
            "15/15 [==============================] - 9s 600ms/step - loss: 2.0979 - acc: 0.8800 - val_loss: 6.3730 - val_acc: 0.1625\n",
            "Epoch 44/100\n",
            "15/15 [==============================] - 9s 600ms/step - loss: 2.1622 - acc: 0.8436 - val_loss: 10.9129 - val_acc: 0.2250\n",
            "Epoch 45/100\n",
            "15/15 [==============================] - 9s 602ms/step - loss: 2.0928 - acc: 0.8747 - val_loss: 8.5144 - val_acc: 0.3125\n",
            "Epoch 46/100\n",
            "15/15 [==============================] - 9s 600ms/step - loss: 2.0449 - acc: 0.8880 - val_loss: 4.5547 - val_acc: 0.2500\n",
            "Epoch 47/100\n",
            "15/15 [==============================] - 9s 601ms/step - loss: 1.9769 - acc: 0.9093 - val_loss: 3.9249 - val_acc: 0.2125\n",
            "Epoch 48/100\n",
            "15/15 [==============================] - 9s 640ms/step - loss: 2.0096 - acc: 0.8987 - val_loss: 5.3154 - val_acc: 0.2750\n",
            "Epoch 49/100\n",
            "15/15 [==============================] - 9s 600ms/step - loss: 1.9554 - acc: 0.9067 - val_loss: 4.9310 - val_acc: 0.2250\n",
            "Epoch 50/100\n",
            "15/15 [==============================] - 9s 602ms/step - loss: 2.0149 - acc: 0.8924 - val_loss: 8.8725 - val_acc: 0.1625\n",
            "Epoch 51/100\n",
            "15/15 [==============================] - 9s 601ms/step - loss: 1.9719 - acc: 0.9004 - val_loss: 6.5976 - val_acc: 0.2750\n",
            "Epoch 52/100\n",
            "15/15 [==============================] - 9s 599ms/step - loss: 1.9456 - acc: 0.9013 - val_loss: 6.7624 - val_acc: 0.2125\n",
            "Epoch 53/100\n",
            "15/15 [==============================] - 9s 601ms/step - loss: 1.9869 - acc: 0.8720 - val_loss: 11.5159 - val_acc: 0.1625\n",
            "Epoch 54/100\n",
            "15/15 [==============================] - 9s 639ms/step - loss: 2.2061 - acc: 0.8027 - val_loss: 14.2695 - val_acc: 0.2500\n",
            "Epoch 55/100\n",
            "15/15 [==============================] - 9s 598ms/step - loss: 2.0041 - acc: 0.8676 - val_loss: 6.9672 - val_acc: 0.2625\n",
            "Epoch 56/100\n",
            "15/15 [==============================] - 10s 634ms/step - loss: 1.9073 - acc: 0.9067 - val_loss: 5.4229 - val_acc: 0.2000\n",
            "Epoch 57/100\n",
            "15/15 [==============================] - 9s 600ms/step - loss: 1.9954 - acc: 0.8702 - val_loss: 8.7391 - val_acc: 0.1875\n",
            "Epoch 58/100\n",
            "15/15 [==============================] - 9s 600ms/step - loss: 2.1631 - acc: 0.8293 - val_loss: 13.2851 - val_acc: 0.2000\n",
            "Epoch 59/100\n",
            "15/15 [==============================] - 9s 600ms/step - loss: 2.1777 - acc: 0.7911 - val_loss: 13.1211 - val_acc: 0.2125\n",
            "Epoch 60/100\n",
            "15/15 [==============================] - 9s 616ms/step - loss: 2.0483 - acc: 0.8320 - val_loss: 6.9609 - val_acc: 0.2250\n",
            "Epoch 61/100\n",
            "15/15 [==============================] - 9s 600ms/step - loss: 2.0210 - acc: 0.8462 - val_loss: 5.6454 - val_acc: 0.2625\n",
            "Epoch 62/100\n",
            "15/15 [==============================] - 9s 598ms/step - loss: 1.9315 - acc: 0.8889 - val_loss: 4.6101 - val_acc: 0.3000\n",
            "Epoch 63/100\n",
            "15/15 [==============================] - 9s 600ms/step - loss: 1.8925 - acc: 0.8889 - val_loss: 7.0878 - val_acc: 0.2000\n",
            "Epoch 64/100\n",
            "15/15 [==============================] - 9s 601ms/step - loss: 1.9209 - acc: 0.8800 - val_loss: 4.6726 - val_acc: 0.2250\n",
            "Epoch 65/100\n",
            "15/15 [==============================] - 9s 604ms/step - loss: 2.0296 - acc: 0.8329 - val_loss: 7.0410 - val_acc: 0.2000\n",
            "Epoch 66/100\n",
            "15/15 [==============================] - 9s 640ms/step - loss: 1.9678 - acc: 0.8516 - val_loss: 5.2626 - val_acc: 0.2625\n",
            "Epoch 67/100\n",
            "15/15 [==============================] - 9s 600ms/step - loss: 1.8376 - acc: 0.9013 - val_loss: 5.8103 - val_acc: 0.2375\n",
            "Epoch 68/100\n",
            "15/15 [==============================] - 9s 599ms/step - loss: 1.7962 - acc: 0.9129 - val_loss: 7.1296 - val_acc: 0.1875\n",
            "Epoch 69/100\n",
            "15/15 [==============================] - 9s 601ms/step - loss: 1.8947 - acc: 0.8676 - val_loss: 9.3107 - val_acc: 0.1750\n",
            "Epoch 70/100\n",
            "15/15 [==============================] - 9s 600ms/step - loss: 1.8807 - acc: 0.8676 - val_loss: 4.1542 - val_acc: 0.2000\n",
            "Epoch 71/100\n",
            "15/15 [==============================] - 9s 602ms/step - loss: 1.8006 - acc: 0.9049 - val_loss: 6.1272 - val_acc: 0.2875\n",
            "Epoch 72/100\n",
            "15/15 [==============================] - 9s 600ms/step - loss: 1.7784 - acc: 0.9049 - val_loss: 4.8104 - val_acc: 0.2625\n",
            "Epoch 73/100\n",
            "15/15 [==============================] - 9s 601ms/step - loss: 1.7567 - acc: 0.9049 - val_loss: 4.9026 - val_acc: 0.2500\n",
            "Epoch 74/100\n",
            "15/15 [==============================] - 9s 601ms/step - loss: 1.7449 - acc: 0.9067 - val_loss: 6.1297 - val_acc: 0.1875\n",
            "Epoch 75/100\n",
            "15/15 [==============================] - 9s 602ms/step - loss: 1.9255 - acc: 0.8311 - val_loss: 6.6915 - val_acc: 0.2000\n",
            "Epoch 76/100\n",
            "15/15 [==============================] - 9s 602ms/step - loss: 1.8243 - acc: 0.8782 - val_loss: 5.7544 - val_acc: 0.2000\n",
            "Epoch 77/100\n",
            "15/15 [==============================] - 9s 601ms/step - loss: 1.7227 - acc: 0.9093 - val_loss: 6.3253 - val_acc: 0.2125\n",
            "Epoch 78/100\n",
            "15/15 [==============================] - 9s 601ms/step - loss: 1.7485 - acc: 0.8978 - val_loss: 4.4370 - val_acc: 0.2500\n",
            "Epoch 79/100\n",
            "15/15 [==============================] - 9s 642ms/step - loss: 1.8333 - acc: 0.8764 - val_loss: 5.0667 - val_acc: 0.2750\n",
            "Epoch 80/100\n",
            "15/15 [==============================] - 9s 601ms/step - loss: 1.8138 - acc: 0.8667 - val_loss: 9.4609 - val_acc: 0.2125\n",
            "Epoch 81/100\n",
            "15/15 [==============================] - 9s 600ms/step - loss: 1.9800 - acc: 0.7902 - val_loss: 18.5899 - val_acc: 0.1875\n",
            "Epoch 82/100\n",
            "15/15 [==============================] - 9s 601ms/step - loss: 1.8244 - acc: 0.8516 - val_loss: 7.3707 - val_acc: 0.2250\n",
            "Epoch 83/100\n",
            "15/15 [==============================] - 10s 636ms/step - loss: 1.6697 - acc: 0.9167 - val_loss: 6.4567 - val_acc: 0.2000\n",
            "Epoch 84/100\n",
            "15/15 [==============================] - 9s 602ms/step - loss: 1.6438 - acc: 0.9298 - val_loss: 6.2877 - val_acc: 0.2125\n",
            "Epoch 85/100\n",
            "15/15 [==============================] - 9s 601ms/step - loss: 1.6115 - acc: 0.9476 - val_loss: 6.3587 - val_acc: 0.2125\n",
            "Epoch 86/100\n",
            "15/15 [==============================] - 9s 601ms/step - loss: 1.6399 - acc: 0.9307 - val_loss: 5.5269 - val_acc: 0.2000\n",
            "Epoch 87/100\n",
            "15/15 [==============================] - 9s 603ms/step - loss: 1.6303 - acc: 0.9413 - val_loss: 5.8782 - val_acc: 0.1625\n",
            "Epoch 88/100\n",
            "15/15 [==============================] - 10s 634ms/step - loss: 1.6044 - acc: 0.9442 - val_loss: 5.9048 - val_acc: 0.2125\n",
            "Epoch 89/100\n",
            "15/15 [==============================] - 9s 603ms/step - loss: 1.6227 - acc: 0.9396 - val_loss: 5.4563 - val_acc: 0.2125\n",
            "Epoch 90/100\n",
            "15/15 [==============================] - 9s 602ms/step - loss: 1.6026 - acc: 0.9404 - val_loss: 5.7206 - val_acc: 0.1625\n",
            "Epoch 91/100\n",
            "15/15 [==============================] - 9s 602ms/step - loss: 1.6106 - acc: 0.9396 - val_loss: 5.6832 - val_acc: 0.2375\n",
            "Epoch 92/100\n",
            "15/15 [==============================] - 9s 603ms/step - loss: 1.6043 - acc: 0.9378 - val_loss: 5.3028 - val_acc: 0.2750\n",
            "Epoch 93/100\n",
            "15/15 [==============================] - 9s 600ms/step - loss: 1.6225 - acc: 0.9351 - val_loss: 5.8203 - val_acc: 0.2375\n",
            "Epoch 94/100\n",
            "15/15 [==============================] - 9s 599ms/step - loss: 1.6035 - acc: 0.9404 - val_loss: 5.6785 - val_acc: 0.2250\n",
            "Epoch 95/100\n",
            "15/15 [==============================] - 9s 601ms/step - loss: 1.6180 - acc: 0.9298 - val_loss: 5.1221 - val_acc: 0.2875\n",
            "Epoch 96/100\n",
            "15/15 [==============================] - 9s 602ms/step - loss: 1.5922 - acc: 0.9458 - val_loss: 4.8809 - val_acc: 0.3250\n",
            "Epoch 97/100\n",
            "15/15 [==============================] - 9s 640ms/step - loss: 1.6036 - acc: 0.9440 - val_loss: 5.6676 - val_acc: 0.2750\n",
            "Epoch 98/100\n",
            "15/15 [==============================] - 9s 642ms/step - loss: 1.5783 - acc: 0.9458 - val_loss: 6.6079 - val_acc: 0.2000\n",
            "Epoch 99/100\n",
            "15/15 [==============================] - 9s 603ms/step - loss: 1.5731 - acc: 0.9529 - val_loss: 5.9786 - val_acc: 0.2250\n",
            "Epoch 100/100\n",
            "15/15 [==============================] - 9s 600ms/step - loss: 1.5893 - acc: 0.9431 - val_loss: 6.2599 - val_acc: 0.2125\n"
          ],
          "name": "stdout"
        }
      ]
    },
    {
      "cell_type": "code",
      "metadata": {
        "colab": {
          "base_uri": "https://localhost:8080/",
          "height": 279
        },
        "id": "mDBG4Gvq_wLE",
        "outputId": "d8f6076c-0810-47e6-d84d-0d9c5ca2aa46"
      },
      "source": [
        "# グラフの表示\r\n",
        "plt.plot(history3.history['acc'], label='acc')\r\n",
        "plt.plot(history3.history['val_acc'], label='val_acc')\r\n",
        "plt.ylabel('accuracy')\r\n",
        "plt.xlabel('epoch')\r\n",
        "plt.legend(loc='best')\r\n",
        "plt.show()"
      ],
      "execution_count": 83,
      "outputs": [
        {
          "output_type": "display_data",
          "data": {
            "image/png": "[encoded data removed]",
            "text/plain": [
              "<Figure size 432x288 with 1 Axes>"
            ]
          },
          "metadata": {
            "tags": [],
            "needs_background": "light"
          }
        }
      ]
    },
    {
      "cell_type": "code",
      "metadata": {
        "colab": {
          "base_uri": "https://localhost:8080/"
        },
        "id": "3SGnKJYo_Xhl",
        "outputId": "ec94b28b-590e-4319-ca14-6a0e0f64bdf7"
      },
      "source": [
        "import numpy as np\r\n",
        "from sklearn.metrics import confusion_matrix\r\n",
        "\r\n",
        "TTest_labels =[2,0,4,3,4,1,4,1,1,0,0,0,2,2,1,\r\n",
        "              4,4,3,3,1,0,4,3,3,3,1,2,0,0,1,\r\n",
        "              1,1,3,0,0,4,4,3,4,4,4,3,3,3,2,\r\n",
        "              2,1,0,0,0,1,3,4,4,0,0,0,1,1,2,\r\n",
        "              4,4,4,3,3,1,3,1,4,4,4,3,1,3,2,\r\n",
        "              2,2,1,1,1,2,2,2,0,1,1,2,2,1,2,\r\n",
        "              2,2,0,0,0,0,2,2,1,2,2,2,4,4,3,\r\n",
        "              3,1,3,4,4,4,3,3,0,0,3,3,0,0,2]\r\n",
        "i = 0\r\n",
        "\"\"\"\r\n",
        "while i < 5:\r\n",
        "    print(TTest_labels.count(i))\r\n",
        "    i = i+1\r\n",
        "\r\n",
        "\"\"\"\r\n",
        "predict_prob=model.predict(Test_images)\r\n",
        "lista =  predict_prob.tolist()\r\n",
        "predict_classes=np.argmax(lista,axis=1)\r\n",
        "true_classes = test_labels\r\n",
        "print(type(TTest_labels))\r\n",
        "print(confusion_matrix(true_classes,predict_classes))\r\n",
        "print(predict_prob[0:10])\r\n",
        "print(predict_prob.shape)\r\n",
        "print(type(lista))\r\n",
        "print(lista)\r\n",
        "lista =  predict_prob.tolist()"
      ],
      "execution_count": 84,
      "outputs": [
        {
          "output_type": "stream",
          "text": [
            "<class 'list'>\n",
            "[[16  5  3  0  0]\n",
            " [13  7  4  0  0]\n",
            " [11  8  5  0  0]\n",
            " [13  6  5  0  0]\n",
            " [14  2  8  0  0]]\n",
            "[[7.46476501e-02 1.66717637e-02 9.00293767e-01 6.33682543e-03\n",
            "  2.04994436e-03]\n",
            " [4.51628165e-03 1.07364625e-01 8.79645109e-01 6.18788088e-03\n",
            "  2.28613056e-03]\n",
            " [2.86627561e-01 2.79005407e-03 7.10117579e-01 3.71664646e-04\n",
            "  9.31705581e-05]\n",
            " [2.49793619e-01 9.88074858e-03 7.39450574e-01 6.00440137e-04\n",
            "  2.74567195e-04]\n",
            " [6.58361793e-01 6.78103534e-04 3.39245498e-01 1.41806901e-03\n",
            "  2.96475046e-04]\n",
            " [2.79055119e-01 3.71496044e-02 6.80467188e-01 2.33070087e-03\n",
            "  9.97418421e-04]\n",
            " [8.42384435e-03 2.70192269e-02 9.58315074e-01 5.02582267e-03\n",
            "  1.21593941e-03]\n",
            " [6.49195910e-02 2.87699891e-04 9.34768200e-01 2.22422113e-05\n",
            "  2.22990775e-06]\n",
            " [9.76891816e-01 1.72869535e-04 2.00188980e-02 9.17409081e-04\n",
            "  1.99910719e-03]\n",
            " [7.59605348e-01 4.56187911e-02 2.43940353e-02 1.55597413e-02\n",
            "  1.54822037e-01]]\n",
            "(120, 5)\n",
            "<class 'list'>\n",
            "[[0.07464765012264252, 0.016671763733029366, 0.90029376745224, 0.006336825434118509, 0.0020499443635344505], [0.00451628165319562, 0.10736462473869324, 0.8796451091766357, 0.006187880877405405, 0.0022861305624246597], [0.28662756085395813, 0.0027900540735572577, 0.7101175785064697, 0.0003716646460816264, 9.317055810242891e-05], [0.2497936189174652, 0.009880748577415943, 0.7394505739212036, 0.0006004401366226375, 0.0002745671954471618], [0.6583617925643921, 0.0006781035335734487, 0.3392454981803894, 0.0014180690050125122, 0.0002964750456158072], [0.279055118560791, 0.03714960440993309, 0.6804671883583069, 0.0023307008668780327, 0.0009974184213206172], [0.00842384435236454, 0.027019226923584938, 0.9583150744438171, 0.005025822669267654, 0.0012159394100308418], [0.06491959095001221, 0.0002876998914871365, 0.9347681999206543, 2.224221134383697e-05, 2.2299077500065323e-06], [0.976891815662384, 0.00017286953516304493, 0.02001889795064926, 0.0009174090810120106, 0.00199910718947649], [0.759605348110199, 0.04561879113316536, 0.02439403533935547, 0.015559741295874119, 0.15482203662395477], [0.9733231663703918, 0.00011795621685450897, 0.022964883595705032, 0.0017186285695061088, 0.0018753628246486187], [0.6404003500938416, 0.09751895815134048, 0.07738771289587021, 0.047929953783750534, 0.13676303625106812], [0.9906579256057739, 3.22871642310929e-06, 0.009037995710968971, 0.0001612046908121556, 0.0001396557199768722], [0.9611679911613464, 9.36718424782157e-05, 0.03658757731318474, 0.0012097409926354885, 0.0009409359190613031], [0.9910750389099121, 4.0784103475743905e-05, 0.007502077613025904, 0.00037307123420760036, 0.0010090870782732964], [0.936850368976593, 0.00016043898358475417, 0.06160428002476692, 0.0007807565852999687, 0.0006040818989276886], [0.9980711340904236, 3.420983674118361e-08, 0.001913523068651557, 7.351313342951471e-06, 7.948468009999488e-06], [0.9698575139045715, 8.451674511888996e-05, 0.028781026601791382, 0.0006184804369695485, 0.000658402917906642], [0.7919729351997375, 0.009852604940533638, 0.19234676659107208, 0.0028950327541679144, 0.002932662144303322], [0.9497831463813782, 3.338773603900336e-05, 0.04980872943997383, 0.00020957141532562673, 0.00016523392696399242], [0.2812437117099762, 0.27442482113838196, 0.4260055422782898, 0.0037057772278785706, 0.014620166271924973], [0.2490343451499939, 0.17873117327690125, 0.5684436559677124, 0.001625375240109861, 0.0021653666626662016], [0.0016754287062212825, 0.9829618334770203, 0.014289110898971558, 0.00025948419352062047, 0.0008141472935676575], [0.09426719695329666, 0.7701622247695923, 0.1247263103723526, 0.0026060028467327356, 0.008238289505243301], [0.032071564346551895, 0.9230644702911377, 0.0374450720846653, 0.0008897666120901704, 0.006529147736728191], [0.00011777620238717645, 0.996006429195404, 0.003359007416293025, 5.676339060300961e-05, 0.0004600363317877054], [0.9928361773490906, 4.8431284085381776e-05, 0.0019261365523561835, 0.00044147533481009305, 0.0047477781772613525], [0.9591115117073059, 0.00014033756451681256, 0.0360785536468029, 0.002072421833872795, 0.0025972730945795774], [0.9952760934829712, 1.5514917322434485e-05, 0.0029540308751165867, 0.0003411953803151846, 0.0014130440540611744], [0.9977672100067139, 3.6509577512333635e-06, 0.0011075374204665422, 0.00015315158816520125, 0.0009684343822300434], [0.9818928241729736, 0.00013763476454187185, 0.011942262761294842, 0.0020633453968912363, 0.003963932394981384], [0.9699249267578125, 0.00044251244980841875, 0.020594991743564606, 0.0029703001491725445, 0.006067201029509306], [0.8343589305877686, 0.001669998513534665, 0.1611236333847046, 0.0013518367195501924, 0.0014956347877159715], [0.9988332390785217, 1.2936725397594273e-06, 0.0006954948185011744, 5.777550904895179e-05, 0.0004122352402191609], [0.9046505093574524, 0.00013450383266899735, 0.09462323784828186, 0.00023190320644062012, 0.0003598702896852046], [0.8102472424507141, 3.196938268956728e-05, 0.1895899921655655, 7.89919140515849e-05, 5.181271262699738e-05], [0.4357588589191437, 0.2257382869720459, 0.25947004556655884, 0.0158290583640337, 0.06320369243621826], [0.6776248812675476, 0.00013875796867068857, 0.32190632820129395, 0.00023514013446401805, 9.486650378676131e-05], [0.8072666525840759, 0.004837980959564447, 0.1831742525100708, 0.0020345482043921947, 0.0026865871623158455], [0.9773569703102112, 9.938500625139568e-06, 0.022406652569770813, 9.066268103197217e-05, 0.00013584080443251878], [0.38274314999580383, 0.023224294185638428, 0.5901108384132385, 0.0024110996164381504, 0.0015105674974620342], [0.5635061264038086, 0.009159735403954983, 0.42342838644981384, 0.0023399919737130404, 0.0015657851472496986], [0.020789964124560356, 0.8026899695396423, 0.16963313519954681, 0.0031856228597462177, 0.003701280802488327], [0.12263938784599304, 0.03750281408429146, 0.8354857563972473, 0.0034812402445822954, 0.0008907882729545236], [0.03623213991522789, 0.7496181726455688, 0.20393989980220795, 0.004905774723738432, 0.0053040324710309505], [0.012061312794685364, 0.9007737636566162, 0.07932113856077194, 0.002731368178501725, 0.0051124198362231255], [0.0775638073682785, 0.6581892371177673, 0.25105980038642883, 0.006087051704525948, 0.007100112736225128], [0.3501828908920288, 0.3751443326473236, 0.23923903703689575, 0.011356347240507603, 0.02407734841108322], [7.721115980530158e-05, 0.9929978847503662, 0.0028660765383392572, 0.0005426640273071826, 0.003516215132549405], [0.003428369527682662, 0.9623655080795288, 0.03217395767569542, 0.000373049610061571, 0.001659137662500143], [0.003953275736421347, 0.9423300623893738, 0.035971734672784805, 0.0031036981381475925, 0.014641180634498596], [0.001329638995230198, 0.9803999662399292, 0.016681760549545288, 0.0003882492892444134, 0.001200409373268485], [0.030331317335367203, 0.7275598645210266, 0.22256876528263092, 0.010157936252653599, 0.009382118470966816], [0.027818182483315468, 0.6966278553009033, 0.2644476890563965, 0.005147434305399656, 0.005958843510597944], [0.9253230690956116, 0.0015503288013860583, 0.06641267985105515, 0.002687805565074086, 0.004026133567094803], [0.5886753797531128, 0.07734990119934082, 0.039120759814977646, 0.04335537552833557, 0.25149857997894287], [0.8927634358406067, 0.0013769692741334438, 0.10192421823740005, 0.0016408697701990604, 0.002294584410265088], [0.9149114489555359, 0.00466436380520463, 0.059686705470085144, 0.007696266286075115, 0.013041242025792599], [0.9834068417549133, 0.00017216238484252244, 0.007426167372614145, 0.0021930469665676355, 0.006801800802350044], [0.9376964569091797, 0.0036862401757389307, 0.018159065395593643, 0.008440173231065273, 0.032018087804317474], [0.372206449508667, 0.2748739719390869, 0.24261750280857086, 0.03233027830719948, 0.07797177135944366], [0.999212384223938, 3.1587084947659605e-08, 0.0007524550310336053, 1.0011652193497866e-05, 2.5178414944093674e-05], [0.9995447993278503, 2.5596700314878262e-09, 0.0004506568657234311, 1.5751249975437531e-06, 2.940112153737573e-06], [0.9997078776359558, 1.53216070941653e-08, 0.0002596120466478169, 5.849676654179348e-06, 2.6614507078193128e-05], [0.999561607837677, 9.835542158498356e-09, 0.0004164557612966746, 5.926722678850638e-06, 1.599967981746886e-05], [0.9845110177993774, 4.64246841147542e-06, 0.0153333256021142, 6.42663799226284e-05, 8.668629743624479e-05], [0.995202898979187, 1.317521309829317e-05, 0.0036472470965236425, 0.00024380414106417447, 0.0008928498136810958], [0.2818608582019806, 0.3572039306163788, 0.048442207276821136, 0.04265051335096359, 0.2698424458503723], [0.4459608793258667, 0.009790947660803795, 0.5409860610961914, 0.0019488733960315585, 0.0013132225722074509], [0.17940789461135864, 0.19858147203922272, 0.6151689291000366, 0.0034765962045639753, 0.00336508359760046], [0.008856559172272682, 0.05258944258093834, 0.9363901615142822, 0.0015272049931809306, 0.0006367189926095307], [0.07927870750427246, 0.029177822172641754, 0.8859990239143372, 0.003628586418926716, 0.0019158202921971679], [0.004340818617492914, 0.24236509203910828, 0.7490969896316528, 0.0021462365984916687, 0.002050946466624737], [0.00013220368418842554, 0.977178692817688, 0.022059449926018715, 0.0002088426408590749, 0.0004208157188259065], [0.029485467821359634, 0.39569392800331116, 0.5687494277954102, 0.003040777985006571, 0.003030308522284031], [0.5124112367630005, 0.043037716299295425, 0.4328955113887787, 0.0063554225489497185, 0.005300070624798536], [0.15896332263946533, 0.612005889415741, 0.14310331642627716, 0.02509167417883873, 0.060835741460323334], [0.2082795798778534, 0.31026384234428406, 0.46666252613067627, 0.0076744817197322845, 0.0071196360513567924], [0.003916431684046984, 0.5739158391952515, 0.4203883111476898, 0.0009115824941545725, 0.0008678617887198925], [0.6045056581497192, 0.04067130386829376, 0.3347083330154419, 0.009834659285843372, 0.010280006565153599], [0.012585480697453022, 0.5273240208625793, 0.45799973607063293, 0.001245258143171668, 0.0008455124916508794], [0.004648836795240641, 0.8844476342201233, 0.1057911366224289, 0.0018432354554533958, 0.0032692120876163244], [0.13485457003116608, 0.00025227078003808856, 0.8647100329399109, 0.00017033943731803447, 1.2903659808216617e-05], [0.368421733379364, 0.028719808906316757, 0.592221200466156, 0.006367511115968227, 0.004269798751920462], [0.00018837778770830482, 0.9870851635932922, 0.012130717746913433, 0.00016745673201512545, 0.0004283024463802576], [0.7508467435836792, 0.012534315697848797, 0.22617821395397186, 0.0048964922316372395, 0.0055442373268306255], [8.052987686824054e-05, 0.9950213432312012, 0.004549617413431406, 8.542182331439108e-05, 0.0002631430688779801], [0.718134880065918, 0.037860218435525894, 0.046210434287786484, 0.032645728439092636, 0.1651487797498703], [0.00048530055209994316, 0.9784097075462341, 0.018994851037859917, 0.0004983751568943262, 0.0016118137864395976], [0.7572450637817383, 0.028880707919597626, 0.18792782723903656, 0.00962016824632883, 0.016326189041137695], [0.01847701519727707, 0.13889524340629578, 0.8410389423370361, 0.0009618774056434631, 0.000626886438112706], [0.015208955854177475, 0.41319480538368225, 0.527198851108551, 0.023249248042702675, 0.02114812098443508], [0.5422186851501465, 0.020133811980485916, 0.4284683167934418, 0.00496379379183054, 0.004215421620756388], [0.9992098808288574, 2.5698723149503166e-08, 0.0007625482394360006, 9.92800596577581e-06, 1.7626221961108968e-05], [0.9717369675636292, 0.0007660590345039964, 0.018086986616253853, 0.002221503993496299, 0.007188485004007816], [0.9996520280838013, 1.4105713930234742e-08, 0.00030890770722180605, 9.263233550882433e-06, 2.98177055810811e-05], [0.15896190702915192, 0.5946152210235596, 0.06490077078342438, 0.04476626589894295, 0.13675588369369507], [0.8899399042129517, 0.011780009604990482, 0.03838041424751282, 0.009455695748329163, 0.05044396594166756], [0.9817111492156982, 0.00011917090159840882, 0.014631136320531368, 0.0011829956201836467, 0.0023556076921522617], [0.9917578101158142, 3.181153942932724e-06, 0.007829039357602596, 0.00021241944341454655, 0.00019757398695219308], [0.9977503418922424, 4.763080596603686e-07, 0.0020975323859602213, 5.236776632955298e-05, 9.92600544122979e-05], [0.9422131180763245, 0.0005709932302124798, 0.049298468977212906, 0.003337731584906578, 0.004579602740705013], [0.9801503419876099, 4.038880797452293e-05, 0.01859900914132595, 0.0005344685632735491, 0.0006757244118489325], [0.8659319877624512, 0.001981736160814762, 0.11682827025651932, 0.006230881903320551, 0.009027081541717052], [0.8512485027313232, 0.02616339549422264, 0.08987739682197571, 0.007817083969712257, 0.024893589317798615], [0.8378507494926453, 0.03420600667595863, 0.07479754090309143, 0.012345023453235626, 0.04080073907971382], [0.972547709941864, 0.00023032157332636416, 0.023561064153909683, 0.0010587453143671155, 0.0026020279619842768], [0.9826227426528931, 4.604648893291596e-06, 0.017190400511026382, 9.219262574333698e-05, 9.010570647660643e-05], [0.7827180624008179, 2.188054111229576e-07, 0.21727895736694336, 2.6074653760588262e-06, 1.6797413593394594e-07], [0.669032096862793, 2.437740477034822e-05, 0.33089450001716614, 4.1197901737177745e-05, 7.807090696587693e-06], [0.30256956815719604, 0.009802819229662418, 0.6862620711326599, 0.0009395488305017352, 0.00042601607856340706], [0.14469413459300995, 0.0012078441213816404, 0.8532487750053406, 0.0006145150982774794, 0.00023468717699870467], [0.4801909029483795, 0.004124450962990522, 0.5144474506378174, 0.0008328022086061537, 0.0004043896042276174], [0.00854535959661007, 0.9450353384017944, 0.02286130003631115, 0.005990210920572281, 0.01756768301129341], [0.994392454624176, 1.3650022992806043e-05, 0.004319857340306044, 0.00039684586226940155, 0.0008772205910645425], [0.7067087888717651, 0.007029187399893999, 0.2743222713470459, 0.007495304103940725, 0.004444490186870098], [0.9941298961639404, 9.267412224289728e-07, 0.00571612361818552, 6.760226824553683e-05, 8.545898890588433e-05], [0.36988869309425354, 0.31492891907691956, 0.09453089535236359, 0.07185550779104233, 0.148795947432518], [0.047391291707754135, 0.7682840824127197, 0.012132462114095688, 0.019886061549186707, 0.15230613946914673], [0.045144081115722656, 0.5513887405395508, 0.3894489109516144, 0.0068069761618971825, 0.007211305666714907]]\n"
          ],
          "name": "stdout"
        }
      ]
    }
  ]
}