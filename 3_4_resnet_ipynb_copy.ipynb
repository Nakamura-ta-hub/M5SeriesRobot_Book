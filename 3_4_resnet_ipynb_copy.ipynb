{
  "nbformat": 4,
  "nbformat_minor": 0,
  "metadata": {
    "colab": {
      "name": "3_4_resnet.ipynb のコピー",
      "provenance": [],
      "collapsed_sections": [],
      "include_colab_link": true
    },
    "kernelspec": {
      "name": "python3",
      "display_name": "Python 3"
    },
    "accelerator": "GPU"
  },
  "cells": [
    {
      "cell_type": "markdown",
      "metadata": {
        "id": "view-in-github",
        "colab_type": "text"
      },
      "source": [
        "<a href=\"https://colab.research.google.com/github/Nakamura-ta-hub/M5SeriesRobot_Book/blob/main/3_4_resnet_ipynb_copy.ipynb\" target=\"_parent\"><img src=\"https://colab.research.google.com/assets/colab-badge.svg\" alt=\"Open In Colab\"/></a>"
      ]
    },
    {
      "cell_type": "code",
      "metadata": {
        "colab": {
          "base_uri": "https://localhost:8080/"
        },
        "id": "t21TbYqWQPJY",
        "outputId": "c7c377a9-cd7b-44b4-a718-3442d8709364"
      },
      "source": [
        "]from google.colab import drive\r\n",
        "drive.mount('/content/drive')"
      ],
      "execution_count": 1,
      "outputs": [
        {
          "output_type": "stream",
          "text": [
            "Mounted at /content/drive\n"
          ],
          "name": "stdout"
        }
      ]
    },
    {
      "cell_type": "code",
      "metadata": {
        "id": "bGy0k_hBjTsf"
      },
      "source": [
        "# パッケージのインポート\n",
        "from tensorflow.keras.datasets import cifar10\n",
        "from tensorflow.keras.callbacks import LearningRateScheduler\n",
        "from tensorflow.keras.layers import Activation, Add, BatchNormalization, Conv2D, Dense, GlobalAveragePooling2D, Input\n",
        "from tensorflow.keras.models import Model\n",
        "from tensorflow.keras.optimizers import SGD\n",
        "from tensorflow.keras.preprocessing.image import ImageDataGenerator\n",
        "from tensorflow.keras.regularizers import l2\n",
        "from tensorflow.keras.utils import to_categorical\n",
        "\n",
        "from sklearn import svm, datasets\n",
        "from sklearn.model_selection import train_test_split\n",
        "from sklearn.metrics import plot_confusion_matrix\n",
        "import numpy as np\n",
        "import os\n",
        "from PIL import Image\n",
        "import matplotlib.pyplot as plt\n",
        "%matplotlib inline"
      ],
      "execution_count": 2,
      "outputs": []
    },
    {
      "cell_type": "code",
      "metadata": {
        "colab": {
          "base_uri": "https://localhost:8080/"
        },
        "id": "dHbxn-69Q04K",
        "outputId": "1ecf5e91-9347-4e13-aa5a-a6474e2bd085"
      },
      "source": [
        "%cd /content/drive/MyDrive"
      ],
      "execution_count": 3,
      "outputs": [
        {
          "output_type": "stream",
          "text": [
            "/content/drive/MyDrive\n"
          ],
          "name": "stdout"
        }
      ]
    },
    {
      "cell_type": "code",
      "metadata": {
        "id": "32T_8TgsQ5wF"
      },
      "source": [
        "#入力データの整理\r\n",
        "Train_images = []\r\n",
        "Train_labels = [0,0,0,1,1,2,2,2,2,2,2,2,2,4,4,3,2,2,2,0,0,1,2,2,2,2,1,1,2,2,1,2,2,2,2,2,2,2,2,3,2,2,2,2,2,0,0,1,1,2,2,2,4,4,4,3,2,2,2,1,2,2,2,2,2,2,4,4,2,2,0,0,2,2,2,2,4,3,3,2,2,2,0,1,2,2,2,1,2,2,2,2,2,0,0,0,2,2,2,2,2,2,4,4,3,2,2,2,2,2,2,2,2,2,4,4,2,2,4,2,2,2,2,2,2,2,3,2,2,2,2,2,2,2,2,4,4,4,3,2,2,2,2,2,2,2,2,0,0,1,2,2,2,2,2,4,4,4,2,2,2,2,0,0,0,1,1,2,2,2,1,2,2,2,2,2,2,2,2,2,2,2,2,0,0,1,2,2,2,2,2,2,4,4,4,4,4,2,2,2,2,2,2,2,2,2,2,2,3,3,2,2,2,1,1,2,1,2,2,2,2,2,2,2,2,2,4,4,4,4,4,4,3,2,2,2,2,2,2,2,0,0,1,1,2,2,2,2,2,2,2,2,2,2,2,3,2,2,2,0,0,2,2,1,2,2,2,2,0,0,0,1,2,2,2,2,1,2,2,2,1,2,2,2,2,2,4,3,3,2,2,2,2,4,4,3,2,2,2,0,0,1,2,2,1,2,2,1,2,2,2,2,2,2,2,4,4,4,3,3,3,2,2,2,2,2,2,2,1,2,2,2,2,2,3,2,2,2,0,0,1,2,2,2,2,2,2,2,2,2,2,4,4,4,3,2,2,0,0,0,0,1,2,2,2,2,2,2,1,2,2,2,2,4,4,4,3,2,2,2,2,3,2,2,2,2,2,2,2,2,2,0,1,2,2,2,2,2,2,2,2,1,2,2,2,2,2,2,2,2,4,4,4,2,2,2,2,0,0,0,0,1,2,2,2,2,2,2,1,2,2,2,2,2,2,2,2,2,2,2,2,2,3,2,2,2,1,1,1,2,2,2,2,2,0,1,1,2,2,2,2,2,4,4,4,3,2,2,2,2,2,1,1,2,1,1,2,2,2,2,2,2,2,4,4,3,2,2,2,2,1,2,2,2,2,2,2,2,2,2,4,4,3,2,2,2,2,2,2,2,2,0,0,0,0,1,2,2,2,2,2,2,2,2,2,1,2,2,2,2,2,2,2,4,4,4,3,3,2,2,2,2,2,2,2,2,2,0,0,0,1,2,2,2,2,2,4,4,4,2,2,2,2,2,2,2,3,3,2,2,2,2,2,1,1,2,2,2,1,2,2,2,2,2,2,4,4,3,3,2,2,2,2,2,2,4,4,4,4,3,3,2,2,2,2,2,0,0,0,0,1,2,2,2,2,2,2,2,3,2,2,2,2,2,0,0,1,2,2,2,2,1,2,2,1,2,2,2,2,2,2,2,0,0,0,1,2,2,2,2,1,2,2,2,1,2,2,2,2,2,2,2,2,4,4,4,4,2,2,2,2,2,2,2,2,2,2,2,2,2,4,4,4,2,2,2,2,0,0,0,2,2,2,1,2,2,2,2,4,2,2,2,1,2,2,2,2,2,2,2,2,2,2,2,0,0,0,1,2,2,1,2,2,1,2,2,2,2,2,2,3,2,2,2,2,2,1,2,2,2,2,2,3,2,2,2,2,1,2,2,2,2,3,2,2,2,2,2,4,4,4,3,2,2,2,2,2,2,2,0,0,0,1,2,2,2,2,2,2,2,4,2,2,2,2,2,3,2,2,2,2,2,1,2,2,2,2,2,0,0,0,0,1,2,2,2,1,2,2,2,1,2,2,2,2,2,3,2,2,2,1,2,2,2,2,3,2,2,2,2,4,4,3,3,2,2,0,1,1,2,2,2,2,2,0,0,0,0,1,2,2,2,1,2,2,4,3,3,2,2,2,0,1,1,1,2,2,2,2,2,1,2,2,2,3,2,2,2,2,2,2,4,4,3,3,2,2,2,2,2,2,0,0,0,0,1,2,2,2,1,2,2,2,2,3,2,2,2,2,1,2,2,2,1,1,1,2,2,2,2,1,2,3,2,0,0,0,0,0,1,2,2,2,2,2,2,2,4,4,4,3,3,2,2,2,2,2,2,0,0,1,2,2,2,2,4,4,2,2,2,2,0,1,1,2,2,2,2,2,2,2,2,2,0,0,0,0,2,2,2,1,2,2,2,2,2,2,2,3,3,3,3,3,2,2,2,1,2,2,2,2,2,3,2,2,2,2,0,0,0,1,2,2,2,2,2,4,4,4,3,3,2,2,2,2,2,1,2,2,2,4,4,2,2,3,2,2,2,2,2,0,2,2,2,2,2,2,2,2,2,2,2,0,0,0,1,1,2,2,2,1,2,2,2,4,4,4,3,2,2,2,2,2,2,2,2,1,1,2,2,2,2,2,2,2,2,4,4,4,2,2,4,4,2,2,2,2,2,0,0,0,2,2,2,2,1,2,2,2,3,3,2,2,2,1,2,2,2,2,3,2,2,2,2,2,2,1,1,2,2,2,3,3,3,2,2,2,2,2,2,2,2,1,2,2,2,2,2,2,0,0,0,1,1,2,2,2,2,2,1,2,2,2,1,2,2,2,2,2,3,2,2,2,0,0,2,2,2,2,4,4,3,2,2,2,2,2,1,2,2,1,2,2,3,2,2,2,3,2,2,2,2,0,0,0,0,0,2,2,2,2,4,2,2,3,2,2,2,2,2,0,1,2,2,2,2,2,1,2,2,2,3,2,2,1,2,2,2,2,2,2,3,2,2,2,2,2,2,4,4,3,2,2,3,2,2,2,2,0,1,2,2,2,2,1,2,2,1,2,2,2,2,2,3,2,2,2,2,4,4,3,2,2,2,0,0,1,1,2,2,2,1,2,2,2,2,2,2,2,2,2,4,4,4,4,1,2,2,2,2,2,1,2,2,2,3,2,2,2,2,2,2,2,2,0,0,2,2,4,3,3,2,2,2,2,1,2,2,2,2,2,2,2,2,2,2,2,2,0,0,1,1,2,2,2,2,1,2,2,2,1,2,2,2,3,2,2,2,2,2,2,2,1,2,2,2,3,2,2,2,2,2,2,2,2,2,2]\r\n",
        "Test_images = []\r\n",
        "Test_labels = [2,2,2,0,1,2,2,2,2,2,4,3,4,2,2,1,2,2,2,4,1,1,2,2,2,2,2,0,0,0,2,2,1,2,2,2,4,4,3,2,2,2,3,2,2,2,1,2,2,2,0,2,2,2,4,3,3,2,2,3,2,2,2,1,2,2,2,2,2,2,0,0,1,2,1,2,2,2,1,2,2,2,2,2,3,2,2,2,0,0,2,2,4,4,3,2,2,2,2,4,4,4,3,3,3,2,2,1,2,2,2,0,0,0,2,2,1,2,2,3,2,2,4,4,2,2,2,0,0,0,1,1,2,2,2,2,2,4,4,4,3,2,2,2,3,2,2,2,2,1,2,2,3,2,2,2,1,2,2,2,2,2,2,4,4,4,3,2,2,2,1,2,2,2,3,2,2,2,1,1,1,2,2,2,0,1,1,2,2,1,2,2,2,0,0,0,0,2,2,1,2,2,2,4,4,3,3,2,2,2,2,1,2,2,2,3,2,2,2,2,2,2,2,4,4,4,4,4,3,3,2,2,1,2,2,2,2,2,4,4,4,4,2,2,0,1,1,2,1,2,2,2,2,1,2,2,2,2,0,1,1,2,1,2,2,2,1,2,2,2,3,2,2,2,2,4,4,3,2,2,2,0,0,1,1,2,1,2,2,2,2,2,2,4,4,4,4,3,2,2,2,2,2,1,1,2,2,2,3,2,2,2,2,2,0,0,0,0,1,2,2,2,1,2,2,2,3,2,2,2,1,2,2,4,4,4,3,3,2,2,2,2,0,0,1,1,2,2,2,2,2,4,3,3,3,2,2,2,0,0,1,1,1,2,2,2,2,0,0,0,1,2,2,2,4,4,4,3,2,2,2,1,2,2,3,2,2,2,2,2,4,4,4,4,2,2,2,2,4,4,4,4,2,1,2,1,2,2,3,2,2,2,1,1,3,2,2,2,1,2,2,2,0,0,0,1,2,1,2,2,1,2,2,3,2,2,2,2,0,1,1,2,2,1,2,2,1,2,2,2,3,2,2,2,2,2]\r\n",
        "\r\n",
        "Train_dir_name = \"/content/drive/My Drive/train\"\r\n",
        "Test_dir_name = \"/content/drive/My Drive/test\"\r\n",
        "Train_files = os.listdir(Train_dir_name) \r\n",
        "Test_files = os.listdir(Test_dir_name)\r\n",
        "for Train_file in Train_files:\r\n",
        "    photo = np.array(Image.open(os.path.join(Train_dir_name, Train_file)))\r\n",
        "    Train_images.append(photo)\r\n",
        "for Test_file in Test_files:\r\n",
        "    photo = np.array(Image.open(os.path.join(Test_dir_name, Test_file)))\r\n",
        "    Test_images.append(photo)"
      ],
      "execution_count": 4,
      "outputs": []
    },
    {
      "cell_type": "code",
      "metadata": {
        "colab": {
          "base_uri": "https://localhost:8080/"
        },
        "id": "2NGfBEEKRZDv",
        "outputId": "08c9e85f-06a3-41cc-8006-3cfa8d065390"
      },
      "source": [
        "# データの配列化\r\n",
        "Train_images = np.array(Train_images)\r\n",
        "Train_labels = np.array(Train_labels)\r\n",
        "Test_images = np.array(Test_images)\r\n",
        "Test_labels = np.array(Test_labels)\r\n",
        "print(Train_images.shape)\r\n",
        "print(Train_labels.shape)\r\n",
        "print(Test_images.shape)\r\n",
        "print(Test_labels.shape)\r\n",
        "\r\n",
        "# データセットの画像の前処理\r\n",
        "Train_images = Train_images.astype('float32')/255.0\r\n",
        "Test_images = Test_images.astype('float32')/255.0\r\n",
        "\r\n",
        "# データセットの画像の前処理後のシェイプの確認\r\n",
        "print(Train_images.shape)\r\n",
        "print(Test_images.shape)\r\n",
        "\r\n",
        "# データセットのラベルの前処理\r\n",
        "Train_labels = to_categorical(Train_labels, 5)\r\n",
        "Test_labels = to_categorical(Test_labels, 5)\r\n",
        "\r\n",
        "# データセットのラベルの前処理後のシェイプの確認\r\n",
        "print(Train_labels.shape)\r\n",
        "print(Test_labels.shape)"
      ],
      "execution_count": 5,
      "outputs": [
        {
          "output_type": "stream",
          "text": [
            "(1387, 60, 120, 3)\n",
            "(1387,)\n",
            "(456, 60, 120, 3)\n",
            "(456,)\n",
            "(1387, 60, 120, 3)\n",
            "(456, 60, 120, 3)\n",
            "(1387, 5)\n",
            "(456, 5)\n"
          ],
          "name": "stdout"
        }
      ]
    },
    {
      "cell_type": "code",
      "metadata": {
        "id": "u9QwdOOZjTsq",
        "colab": {
          "base_uri": "https://localhost:8080/"
        },
        "outputId": "c892031a-7c94-45f7-d9c3-3b544ebb0e96"
      },
      "source": [
        "# データセットのシェイプの確認\n",
        "print(train_images.shape)\n",
        "print(train_labels.shape)\n",
        "print(test_images.shape)\n",
        "print(test_labels.shape)"
      ],
      "execution_count": null,
      "outputs": [
        {
          "output_type": "stream",
          "text": [
            "(50000, 32, 32, 3)\n",
            "(50000, 1)\n",
            "(10000, 32, 32, 3)\n",
            "(10000, 1)\n"
          ],
          "name": "stdout"
        }
      ]
    },
    {
      "cell_type": "code",
      "metadata": {
        "id": "_wOc027IjTsu",
        "colab": {
          "base_uri": "https://localhost:8080/",
          "height": 199
        },
        "outputId": "2b916bc2-2d72-494e-fe77-41292c3fd077"
      },
      "source": [
        "# データセットの画像の確認\n",
        "for i in range(10):\n",
        "    plt.subplot(2, 5, i+1)\n",
        "    plt.imshow(Train_images[i])\n",
        "plt.show()"
      ],
      "execution_count": 6,
      "outputs": [
        {
          "output_type": "display_data",
          "data": {
            "image/png": "[encoded data removed]",
            "text/plain": [
              "<Figure size 432x288 with 10 Axes>"
            ]
          },
          "metadata": {
            "tags": [],
            "needs_background": "light"
          }
        }
      ]
    },
    {
      "cell_type": "code",
      "metadata": {
        "id": "MBdUqsVdjTsx",
        "colab": {
          "base_uri": "https://localhost:8080/"
        },
        "outputId": "88f38f6f-1191-4595-d2aa-0c22c44cec31"
      },
      "source": [
        "tttgtt# データセットのラベルの確認\n",
        "print(Train_labels[0:10])"
      ],
      "execution_count": null,
      "outputs": [
        {
          "output_type": "stream",
          "text": [
            "[[1. 0. 0. 0. 0.]\n",
            " [1. 0. 0. 0. 0.]\n",
            " [1. 0. 0. 0. 0.]\n",
            " [0. 1. 0. 0. 0.]\n",
            " [0. 1. 0. 0. 0.]\n",
            " [0. 0. 1. 0. 0.]\n",
            " [0. 0. 1. 0. 0.]\n",
            " [0. 0. 1. 0. 0.]\n",
            " [0. 0. 1. 0. 0.]\n",
            " [0. 0. 1. 0. 0.]]\n"
          ],
          "name": "stdout"
        }
      ]
    },
    {
      "cell_type": "code",
      "metadata": {
        "id": "cpc5kOGMjTs2",
        "colab": {
          "base_uri": "https://localhost:8080/"
        },
        "outputId": "1548cb01-35ed-4c9a-fcdd-ddea3aa71610"
      },
      "source": [
        "# データセットの前処理後のシェイプの確認\n",
        "print(train_images.shape)\n",
        "print(train_labels.shape)\n",
        "print(test_images.shape)\n",
        "print(test_labels.shape)"
      ],
      "execution_count": null,
      "outputs": [
        {
          "output_type": "stream",
          "text": [
            "(50000, 32, 32, 3)\n",
            "(50000, 10)\n",
            "(10000, 32, 32, 3)\n",
            "(10000, 10)\n"
          ],
          "name": "stdout"
        }
      ]
    },
    {
      "cell_type": "code",
      "metadata": {
        "id": "IJvwrc0zjTs5"
      },
      "source": [
        "# 畳み込み層の生成\n",
        "def conv(filters, kernel_size, strides=1):\n",
        "    return Conv2D(filters, kernel_size, strides=strides, padding='same', use_bias=False,\n",
        "        kernel_initializer='he_normal', kernel_regularizer=l2(0.0001))"
      ],
      "execution_count": 7,
      "outputs": []
    },
    {
      "cell_type": "code",
      "metadata": {
        "id": "dkmZ7aYhjTs7"
      },
      "source": [
        "# 残差ブロックAの生成\n",
        "def first_residual_unit(filters, strides):\n",
        "    def f(x):\n",
        "        # →BN→ReLU\n",
        "        x = BatchNormalization()(x)\n",
        "        b = Activation('relu')(x)\n",
        "\n",
        "        # 畳み込み層→BN→ReLU\n",
        "        x = conv(filters // 4, 1, strides)(b)\n",
        "        x = BatchNormalization()(x)\n",
        "        x = Activation('relu')(x)\n",
        "        \n",
        "        # 畳み込み層→BN→ReLU\n",
        "        x = conv(filters // 4, 3)(x)\n",
        "        x = BatchNormalization()(x)\n",
        "        x = Activation('relu')(x)\n",
        "\n",
        "        # 畳み込み層→\n",
        "        x = conv(filters, 1)(x)\n",
        "\n",
        "        # ショートカットのシェイプサイズを調整\n",
        "        sc = conv(filters, 1, strides)(b)\n",
        "\n",
        "        # Add\n",
        "        return Add()([x, sc])\n",
        "    return f"
      ],
      "execution_count": 8,
      "outputs": []
    },
    {
      "cell_type": "code",
      "metadata": {
        "id": "_-YYp8YKjTs8"
      },
      "source": [
        "# 残差ブロックBの生成\n",
        "def residual_unit(filters):\n",
        "    def f(x):\n",
        "        sc = x\n",
        "        \n",
        "        # →BN→ReLU\n",
        "        x = BatchNormalization()(x)\n",
        "        x = Activation('relu')(x)\n",
        "        \n",
        "        # 畳み込み層→BN→ReLU\n",
        "        x = conv(filters // 4, 1)(x)\n",
        "        x = BatchNormalization()(x)\n",
        "        x = Activation('relu')(x)\n",
        "        \n",
        "        # 畳み込み層→BN→ReLU\n",
        "        x = conv(filters // 4, 3)(x)\n",
        "        x = BatchNormalization()(x)\n",
        "        x = Activation('relu')(x)\n",
        "        \n",
        "        # 畳み込み層→\n",
        "        x = conv(filters, 1)(x)\n",
        "\n",
        "        # Add\n",
        "        return Add()([x, sc])\n",
        "    return f"
      ],
      "execution_count": 9,
      "outputs": []
    },
    {
      "cell_type": "code",
      "metadata": {
        "id": "owofhhAVjTs-"
      },
      "source": [
        "# 残差ブロックAと残差ブロックB x 17の生成\n",
        "def residual_block(filters, strides, unit_size):\n",
        "    def f(x):\n",
        "        x = first_residual_unit(filters, strides)(x)\n",
        "        for i in range(unit_size-1):\n",
        "            x = residual_unit(filters)(x)\n",
        "        return x\n",
        "    return f"
      ],
      "execution_count": 10,
      "outputs": []
    },
    {
      "cell_type": "code",
      "metadata": {
        "id": "MtfJebNTjTtA"
      },
      "source": [
        "# 入力データのシェイプ\n",
        "input = Input(shape=(60,120, 3))\n",
        "\n",
        "# 畳み込み層\n",
        "x = conv(16, 3)(input)\n",
        "\n",
        "# 残差ブロック x 54\n",
        "x = residual_block(64, 1, 18)(x)\n",
        "x = residual_block(128, 2, 18)(x)\n",
        "x = residual_block(256, 2, 18)(x)\n",
        "\n",
        "# →BN→ReLU\n",
        "x = BatchNormalization()(x)\n",
        "x = Activation('relu')(x)\n",
        "\n",
        "# プーリング層\n",
        "x = GlobalAveragePooling2D()(x)\n",
        "\n",
        "# 全結合層\n",
        "output = Dense(5, activation='softmax', kernel_regularizer=l2(0.0001))(x)\n",
        "\n",
        "# モデルの作成\n",
        "model = Model(inputs=input, outputs=output)"
      ],
      "execution_count": 11,
      "outputs": []
    },
    {
      "cell_type": "code",
      "metadata": {
        "id": "UMu2_s5SjTtC"
      },
      "source": [
        "# コンパイル\n",
        "model.compile(loss='categorical_crossentropy', optimizer=SGD(momentum=0.9), metrics=['acc'])"
      ],
      "execution_count": 12,
      "outputs": []
    },
    {
      "cell_type": "code",
      "metadata": {
        "id": "YhFivbrSiv_n",
        "outputId": "c76ed6ae-5207-47f2-aa02-02f87fb74cb1",
        "colab": {
          "base_uri": "https://localhost:8080/"
        }
      },
      "source": [
        "print(Test_labels)"
      ],
      "execution_count": 69,
      "outputs": [
        {
          "output_type": "stream",
          "text": [
            "[[0. 0. 1. 0. 0.]\n",
            " [0. 0. 1. 0. 0.]\n",
            " [0. 0. 1. 0. 0.]\n",
            " ...\n",
            " [0. 0. 1. 0. 0.]\n",
            " [0. 0. 1. 0. 0.]\n",
            " [0. 0. 1. 0. 0.]]\n"
          ],
          "name": "stdout"
        }
      ]
    },
    {
      "cell_type": "code",
      "metadata": {
        "id": "HMZ2DdngjTtD"
      },
      "source": [
        "# ImageDataGeneratorの準備\n",
        "train_gen  = ImageDataGenerator(\n",
        "    featurewise_center=True, \n",
        "    featurewise_std_normalization=True,\n",
        "    width_shift_range=0.125, \n",
        "    height_shift_range=0.125, \n",
        "    horizontal_flip=True)\n",
        "test_gen = ImageDataGenerator(\n",
        "    featurewise_center=True, \n",
        "    featurewise_std_normalization=True)\n",
        "\n",
        "# データセット全体の統計量を予め計算\n",
        "for data in (train_gen, test_gen):\n",
        "    data.fit(Train_images)"
      ],
      "execution_count": 13,
      "outputs": []
    },
    {
      "cell_type": "code",
      "metadata": {
        "id": "E6bcQm0ZjTtF"
      },
      "source": [
        "# LearningRateSchedulerの準備\n",
        "def step_decay(epoch):\n",
        "    x = 0.1\n",
        "    if epoch >= 80: x = 0.01\n",
        "    if epoch >= 120: x = 0.001\n",
        "    return x\n",
        "lr_decay = LearningRateScheduler(step_decay)"
      ],
      "execution_count": 14,
      "outputs": []
    },
    {
      "cell_type": "code",
      "metadata": {
        "id": "PKssTyfXjTtG",
        "colab": {
          "base_uri": "https://localhost:8080/"
        },
        "outputId": "41fde4cd-3c93-460f-af10-1b615db8776d"
      },
      "source": [
        "# 学習\n",
        "batch_size = 60\n",
        "history = model.fit_generator(\n",
        "    train_gen.flow(Train_images, Train_labels, batch_size=batch_size),\n",
        "    epochs=50,\n",
        "    steps_per_epoch=Train_images.shape[0] // batch_size,\n",
        "    validation_data=test_gen.flow(Test_images, Test_labels, batch_size=batch_size),\n",
        "    validation_steps=Test_images.shape[0] // batch_size,\n",
        "    callbacks=[lr_decay])"
      ],
      "execution_count": 15,
      "outputs": [
        {
          "output_type": "stream",
          "text": [
            "/usr/local/lib/python3.6/dist-packages/tensorflow/python/keras/engine/training.py:1844: UserWarning: `Model.fit_generator` is deprecated and will be removed in a future version. Please use `Model.fit`, which supports generators.\n",
            "  warnings.warn('`Model.fit_generator` is deprecated and '\n"
          ],
          "name": "stderr"
        },
        {
          "output_type": "stream",
          "text": [
            "Epoch 1/50\n",
            "23/23 [==============================] - 41s 938ms/step - loss: 3.8528 - acc: 0.6185 - val_loss: 72159997198336.0000 - val_acc: 0.1167\n",
            "Epoch 2/50\n",
            "23/23 [==============================] - 19s 813ms/step - loss: 3.7469 - acc: 0.6731 - val_loss: 7217317376.0000 - val_acc: 0.0881\n",
            "Epoch 3/50\n",
            "23/23 [==============================] - 19s 813ms/step - loss: 3.7542 - acc: 0.6736 - val_loss: 5070449.0000 - val_acc: 0.0881\n",
            "Epoch 4/50\n",
            "23/23 [==============================] - 19s 817ms/step - loss: 3.7198 - acc: 0.6722 - val_loss: 56111.7109 - val_acc: 0.0833\n",
            "Epoch 5/50\n",
            "23/23 [==============================] - 19s 825ms/step - loss: 3.6896 - acc: 0.6753 - val_loss: 3181.3672 - val_acc: 0.0905\n",
            "Epoch 6/50\n",
            "23/23 [==============================] - 19s 828ms/step - loss: 3.6673 - acc: 0.6758 - val_loss: 290.2151 - val_acc: 0.0786\n",
            "Epoch 7/50\n",
            "23/23 [==============================] - 19s 832ms/step - loss: 3.6469 - acc: 0.6747 - val_loss: 15.6680 - val_acc: 0.1190\n",
            "Epoch 8/50\n",
            "23/23 [==============================] - 19s 834ms/step - loss: 3.6308 - acc: 0.6739 - val_loss: 6.8137 - val_acc: 0.5405\n",
            "Epoch 9/50\n",
            "23/23 [==============================] - 20s 866ms/step - loss: 3.5562 - acc: 0.6882 - val_loss: 6.4661 - val_acc: 0.5857\n",
            "Epoch 10/50\n",
            "23/23 [==============================] - 19s 839ms/step - loss: 3.5249 - acc: 0.6975 - val_loss: 8.4255 - val_acc: 0.1333\n",
            "Epoch 11/50\n",
            "23/23 [==============================] - 19s 843ms/step - loss: 3.5206 - acc: 0.6831 - val_loss: 4.0928 - val_acc: 0.5476\n",
            "Epoch 12/50\n",
            "23/23 [==============================] - 20s 847ms/step - loss: 3.5303 - acc: 0.6682 - val_loss: 3.7126 - val_acc: 0.5833\n",
            "Epoch 13/50\n",
            "23/23 [==============================] - 19s 846ms/step - loss: 3.4755 - acc: 0.6843 - val_loss: 3.7668 - val_acc: 0.5857\n",
            "Epoch 14/50\n",
            "23/23 [==============================] - 20s 881ms/step - loss: 3.4593 - acc: 0.6829 - val_loss: 3.6510 - val_acc: 0.5857\n",
            "Epoch 15/50\n",
            "23/23 [==============================] - 20s 851ms/step - loss: 3.4526 - acc: 0.6752 - val_loss: 3.6695 - val_acc: 0.5714\n",
            "Epoch 16/50\n",
            "23/23 [==============================] - 20s 850ms/step - loss: 3.3641 - acc: 0.7010 - val_loss: 3.5769 - val_acc: 0.5881\n",
            "Epoch 17/50\n",
            "23/23 [==============================] - 20s 852ms/step - loss: 3.3865 - acc: 0.6854 - val_loss: 3.5621 - val_acc: 0.5857\n",
            "Epoch 18/50\n",
            "23/23 [==============================] - 20s 853ms/step - loss: 3.3633 - acc: 0.6843 - val_loss: 3.5299 - val_acc: 0.5929\n",
            "Epoch 19/50\n",
            "23/23 [==============================] - 20s 853ms/step - loss: 3.3496 - acc: 0.6786 - val_loss: 3.5244 - val_acc: 0.5810\n",
            "Epoch 20/50\n",
            "23/23 [==============================] - 20s 854ms/step - loss: 3.3366 - acc: 0.6864 - val_loss: 3.4957 - val_acc: 0.5929\n",
            "Epoch 21/50\n",
            "23/23 [==============================] - 20s 858ms/step - loss: 3.3400 - acc: 0.6666 - val_loss: 3.4646 - val_acc: 0.5976\n",
            "Epoch 22/50\n",
            "23/23 [==============================] - 20s 856ms/step - loss: 3.3216 - acc: 0.6644 - val_loss: 3.4595 - val_acc: 0.5905\n",
            "Epoch 23/50\n",
            "23/23 [==============================] - 20s 856ms/step - loss: 3.2713 - acc: 0.6817 - val_loss: 3.4528 - val_acc: 0.5810\n",
            "Epoch 24/50\n",
            "23/23 [==============================] - 20s 856ms/step - loss: 3.2413 - acc: 0.6862 - val_loss: 3.4233 - val_acc: 0.5810\n",
            "Epoch 25/50\n",
            "23/23 [==============================] - 20s 857ms/step - loss: 3.1933 - acc: 0.6971 - val_loss: 3.4300 - val_acc: 0.5786\n",
            "Epoch 26/50\n",
            "23/23 [==============================] - 20s 857ms/step - loss: 3.1925 - acc: 0.6860 - val_loss: 3.3625 - val_acc: 0.5952\n",
            "Epoch 27/50\n",
            "23/23 [==============================] - 20s 859ms/step - loss: 3.2162 - acc: 0.6672 - val_loss: 3.3918 - val_acc: 0.5762\n",
            "Epoch 28/50\n",
            "23/23 [==============================] - 20s 857ms/step - loss: 3.1704 - acc: 0.6772 - val_loss: 3.3518 - val_acc: 0.5929\n",
            "Epoch 29/50\n",
            "23/23 [==============================] - 20s 859ms/step - loss: 3.1389 - acc: 0.6854 - val_loss: 3.3624 - val_acc: 0.5738\n",
            "Epoch 30/50\n",
            "23/23 [==============================] - 20s 861ms/step - loss: 3.0900 - acc: 0.6954 - val_loss: 3.3060 - val_acc: 0.5857\n",
            "Epoch 31/50\n",
            "23/23 [==============================] - 20s 862ms/step - loss: 3.1120 - acc: 0.6815 - val_loss: 3.2942 - val_acc: 0.5857\n",
            "Epoch 32/50\n",
            "23/23 [==============================] - 20s 892ms/step - loss: 3.0670 - acc: 0.6888 - val_loss: 3.2523 - val_acc: 0.5952\n",
            "Epoch 33/50\n",
            "23/23 [==============================] - 20s 859ms/step - loss: 3.0969 - acc: 0.6672 - val_loss: 3.2379 - val_acc: 0.5929\n",
            "Epoch 34/50\n",
            "23/23 [==============================] - 20s 858ms/step - loss: 3.1004 - acc: 0.6563 - val_loss: 3.2709 - val_acc: 0.5714\n",
            "Epoch 35/50\n",
            "23/23 [==============================] - 20s 858ms/step - loss: 3.0001 - acc: 0.6926 - val_loss: 3.2293 - val_acc: 0.5786\n",
            "Epoch 36/50\n",
            "23/23 [==============================] - 20s 860ms/step - loss: 2.9860 - acc: 0.6940 - val_loss: 3.2197 - val_acc: 0.5833\n",
            "Epoch 37/50\n",
            "23/23 [==============================] - 20s 860ms/step - loss: 2.9855 - acc: 0.6839 - val_loss: 3.2408 - val_acc: 0.5786\n",
            "Epoch 38/50\n",
            "23/23 [==============================] - 20s 860ms/step - loss: 2.9739 - acc: 0.6803 - val_loss: 3.1892 - val_acc: 0.5762\n",
            "Epoch 39/50\n",
            "23/23 [==============================] - 20s 859ms/step - loss: 2.9764 - acc: 0.6722 - val_loss: 3.2214 - val_acc: 0.5881\n",
            "Epoch 40/50\n",
            "23/23 [==============================] - 20s 861ms/step - loss: 2.9479 - acc: 0.6780 - val_loss: 3.1441 - val_acc: 0.5857\n",
            "Epoch 41/50\n",
            "23/23 [==============================] - 20s 894ms/step - loss: 2.9752 - acc: 0.6613 - val_loss: 3.1380 - val_acc: 0.5833\n",
            "Epoch 42/50\n",
            "23/23 [==============================] - 20s 860ms/step - loss: 2.8814 - acc: 0.6878 - val_loss: 3.0837 - val_acc: 0.5952\n",
            "Epoch 43/50\n",
            "23/23 [==============================] - 20s 860ms/step - loss: 2.8285 - acc: 0.7060 - val_loss: 3.0594 - val_acc: 0.5952\n",
            "Epoch 44/50\n",
            "23/23 [==============================] - 20s 857ms/step - loss: 2.8879 - acc: 0.6697 - val_loss: 3.0783 - val_acc: 0.5929\n",
            "Epoch 45/50\n",
            "23/23 [==============================] - 20s 859ms/step - loss: 2.8151 - acc: 0.6956 - val_loss: 3.0717 - val_acc: 0.5738\n",
            "Epoch 46/50\n",
            "23/23 [==============================] - 20s 857ms/step - loss: 2.8764 - acc: 0.6621 - val_loss: 3.0939 - val_acc: 0.5881\n",
            "Epoch 47/50\n",
            "23/23 [==============================] - 20s 857ms/step - loss: 2.8693 - acc: 0.6645 - val_loss: 3.0700 - val_acc: 0.5786\n",
            "Epoch 48/50\n",
            "23/23 [==============================] - 20s 858ms/step - loss: 2.8043 - acc: 0.6808 - val_loss: 3.0453 - val_acc: 0.5833\n",
            "Epoch 49/50\n",
            "23/23 [==============================] - 20s 858ms/step - loss: 2.7905 - acc: 0.6778 - val_loss: 3.0203 - val_acc: 0.5881\n",
            "Epoch 50/50\n",
            "23/23 [==============================] - 20s 857ms/step - loss: 2.7466 - acc: 0.6912 - val_loss: 3.0525 - val_acc: 0.5881\n"
          ],
          "name": "stdout"
        }
      ]
    },
    {
      "cell_type": "code",
      "metadata": {
        "id": "Q29Plen_jTtJ"
      },
      "source": [
        "# モデルの保存\n",
        "model.save('resnet.h5')"
      ],
      "execution_count": 16,
      "outputs": []
    },
    {
      "cell_type": "code",
      "metadata": {
        "id": "cGmfZyXFfnsU",
        "outputId": "e474c2fa-3914-40fa-d8a2-f76444c34799",
        "colab": {
          "base_uri": "https://localhost:8080/"
        }
      },
      "source": [
        "score = model.evaluate(Test_images, Test_labels, verbose=1)\r\n",
        "print('loss=',score[0])\r\n",
        "print('accuracy=',score[1])"
      ],
      "execution_count": 81,
      "outputs": [
        {
          "output_type": "stream",
          "text": [
            "15/15 [==============================] - 2s 109ms/step - loss: 2.9749 - acc: 0.5855\n",
            "loss= 2.974949598312378\n",
            "accuracy= 0.5855262875556946\n"
          ],
          "name": "stdout"
        }
      ]
    },
    {
      "cell_type": "code",
      "metadata": {
        "id": "_lAKUz3tjTtM",
        "colab": {
          "base_uri": "https://localhost:8080/",
          "height": 279
        },
        "outputId": "d2e83867-d6c7-46fc-f98d-324850c8a1ee"
      },
      "source": [
        "# グラフの表示\n",
        "plt.plot(history.history['acc'], label='acc')\n",
        "plt.plot(history.history['val_acc'], label='val_acc')\n",
        "plt.ylabel('accuracy')\n",
        "plt.xlabel('epoch')\n",
        "plt.legend(loc='best')\n",
        "plt.show()"
      ],
      "execution_count": 17,
      "outputs": [
        {
          "output_type": "display_data",
          "data": {
            "image/png": "[encoded data removed]",
            "text/plain": [
              "<Figure size 432x288 with 1 Axes>"
            ]
          },
          "metadata": {
            "tags": [],
            "needs_background": "light"
          }
        }
      ]
    },
    {
      "cell_type": "code",
      "metadata": {
        "id": "A4oTfa8kgMaZ",
        "outputId": "c4b415cc-f44b-4e30-e108-307136fa61f8",
        "colab": {
          "base_uri": "https://localhost:8080/"
        }
      },
      "source": [
        "import numpy as np\r\n",
        "from sklearn.metrics import confusion_matrix\r\n",
        "\r\n",
        "test_labels =[2,2,2,0,1,2,2,2,2,2,4,3,4,2,2,1,2,2,2,4,1,1,2,2,2,2,2,0,0,0,2,2,1,2,2,2,4,4,3,2,2,2,3,2,2,2,1,2,2,2,0,2,2,2,4,3,3,2,2,3,2,2,2,1,2,2,2,2,2,2,0,0,1,2,1,2,2,2,1,2,2,2,2,2,3,2,2,2,0,0,2,2,4,4,3,2,2,2,2,4,4,4,3,3,3,2,2,1,2,2,2,0,0,0,2,2,1,2,2,3,2,2,4,4,2,2,2,0,0,0,1,1,2,2,2,2,2,4,4,4,3,2,2,2,3,2,2,2,2,1,2,2,3,2,2,2,1,2,2,2,2,2,2,4,4,4,3,2,2,2,1,2,2,2,3,2,2,2,1,1,1,2,2,2,0,1,1,2,2,1,2,2,2,0,0,0,0,2,2,1,2,2,2,4,4,3,3,2,2,2,2,1,2,2,2,3,2,2,2,2,2,2,2,4,4,4,4,4,3,3,2,2,1,2,2,2,2,2,4,4,4,4,2,2,0,1,1,2,1,2,2,2,2,1,2,2,2,2,0,1,1,2,1,2,2,2,1,2,2,2,3,2,2,2,2,4,4,3,2,2,2,0,0,1,1,2,1,2,2,2,2,2,2,4,4,4,4,3,2,2,2,2,2,1,1,2,2,2,3,2,2,2,2,2,0,0,0,0,1,2,2,2,1,2,2,2,3,2,2,2,1,2,2,4,4,4,3,3,2,2,2,2,0,0,1,1,2,2,2,2,2,4,3,3,3,2,2,2,0,0,1,1,1,2,2,2,2,0,0,0,1,2,2,2,4,4,4,3,2,2,2,1,2,2,3,2,2,2,2,2,4,4,4,4,2,2,2,2,4,4,4,4,2,1,2,1,2,2,3,2,2,2,1,1,3,2,2,2,1,2,2,2,0,0,0,1,2,1,2,2,1,2,2,3,2,2,2,2,0,1,1,2,2,1,2,2,1,2,2,2,3,2,2,2,2,2]\r\n",
        "\r\n",
        "predict_prob=model.predict(Test_images)\r\n",
        "lista =  predict_prob.tolist()\r\n",
        "predict_classes=np.argmax(lista,axis=1)\r\n",
        "\r\n",
        "true_classes = test_labels\r\n",
        "print(confusion_matrix(true_classes,predict_classes))\r\n",
        "print(type(lista))\r\n",
        "lista =  predict_prob.tolist()\r\n"
      ],
      "execution_count": 86,
      "outputs": [
        {
          "output_type": "stream",
          "text": [
            "[[  0   0  39   0   0]\n",
            " [  0   0  61   0   0]\n",
            " [  0   0 267   0   0]\n",
            " [  0   0  38   0   0]\n",
            " [  0   0  51   0   0]]\n",
            "<class 'list'>\n"
          ],
          "name": "stdout"
        }
      ]
    },
    {
      "cell_type": "code",
      "metadata": {
        "id": "MBkjh0yojTtO",
        "colab": {
          "base_uri": "https://localhost:8080/"
        },
        "outputId": "dabeb301-b0b5-41b2-acbd-2979fd0e4442"
      },
      "source": [
        "# 評価\n",
        "batch_size = 128\n",
        "test_loss, test_acc = model.evaluate_generator(\n",
        "    test_gen.flow(Test_images, Test_labels, batch_size=batch_size),\n",
        "    steps=10)\n",
        "print('loss: {:.3f}\\nacc: {:.3f}'.format(test_loss, test_acc ))"
      ],
      "execution_count": 19,
      "outputs": [
        {
          "output_type": "stream",
          "text": [
            "/usr/local/lib/python3.6/dist-packages/tensorflow/python/keras/engine/training.py:1877: UserWarning: `Model.evaluate_generator` is deprecated and will be removed in a future version. Please use `Model.evaluate`, which supports generators.\n",
            "  warnings.warn('`Model.evaluate_generator` is deprecated and '\n"
          ],
          "name": "stderr"
        },
        {
          "output_type": "stream",
          "text": [
            "WARNING:tensorflow:Your input ran out of data; interrupting training. Make sure that your dataset or generator can generate at least `steps_per_epoch * epochs` batches (in this case, 10 batches). You may need to use the repeat() function when building your dataset.\n",
            "loss: 3.058\n",
            "acc: 0.586\n"
          ],
          "name": "stdout"
        }
      ]
    },
    {
      "cell_type": "code",
      "metadata": {
        "id": "-CQQXl-kjTtP",
        "colab": {
          "base_uri": "https://localhost:8080/",
          "height": 370
        },
        "outputId": "8329a44b-e25b-4027-e7f6-dd5b622239de"
      },
      "source": [
        "# 推論する画像の表示\n",
        "for i in range(10):\n",
        "    plt.subplot(2, 5, i+1)\n",
        "    plt.imshow(Test_images[i])\n",
        "plt.show()\n",
        "\n",
        "# 推論したラベルの表示\n",
        "test_predictions = model.predict_generator(\n",
        "    test_gen.flow(test_images[0:10], shuffle = False, batch_size=1),\n",
        "    steps=10)\n",
        "test_predictions = np.argmax(test_predictions, axis=1)\n",
        "labels = ['airplane', 'automobile', 'bird', 'cat', 'deer', \n",
        "        'dog', 'frog', 'horse', 'ship', 'truck']\n",
        "print([labels[n] for n in test_predictions])"
      ],
      "execution_count": 31,
      "outputs": [
        {
          "output_type": "error",
          "ename": "NameError",
          "evalue": "ignored",
          "traceback": [
            "\u001b[0;31m---------------------------------------------------------------------------\u001b[0m",
            "\u001b[0;31mNameError\u001b[0m                                 Traceback (most recent call last)",
            "\u001b[0;32m<ipython-input-31-3d650e998cbf>\u001b[0m in \u001b[0;36m<module>\u001b[0;34m()\u001b[0m\n\u001b[1;32m      2\u001b[0m \u001b[0;32mfor\u001b[0m \u001b[0mi\u001b[0m \u001b[0;32min\u001b[0m \u001b[0mrange\u001b[0m\u001b[0;34m(\u001b[0m\u001b[0;36m10\u001b[0m\u001b[0;34m)\u001b[0m\u001b[0;34m:\u001b[0m\u001b[0;34m\u001b[0m\u001b[0;34m\u001b[0m\u001b[0m\n\u001b[1;32m      3\u001b[0m     \u001b[0mplt\u001b[0m\u001b[0;34m.\u001b[0m\u001b[0msubplot\u001b[0m\u001b[0;34m(\u001b[0m\u001b[0;36m2\u001b[0m\u001b[0;34m,\u001b[0m \u001b[0;36m5\u001b[0m\u001b[0;34m,\u001b[0m \u001b[0mi\u001b[0m\u001b[0;34m+\u001b[0m\u001b[0;36m1\u001b[0m\u001b[0;34m)\u001b[0m\u001b[0;34m\u001b[0m\u001b[0;34m\u001b[0m\u001b[0m\n\u001b[0;32m----> 4\u001b[0;31m     \u001b[0mplt\u001b[0m\u001b[0;34m.\u001b[0m\u001b[0mimshow\u001b[0m\u001b[0;34m(\u001b[0m\u001b[0mtest_images\u001b[0m\u001b[0;34m[\u001b[0m\u001b[0mi\u001b[0m\u001b[0;34m]\u001b[0m\u001b[0;34m)\u001b[0m\u001b[0;34m\u001b[0m\u001b[0;34m\u001b[0m\u001b[0m\n\u001b[0m\u001b[1;32m      5\u001b[0m \u001b[0mplt\u001b[0m\u001b[0;34m.\u001b[0m\u001b[0mshow\u001b[0m\u001b[0;34m(\u001b[0m\u001b[0;34m)\u001b[0m\u001b[0;34m\u001b[0m\u001b[0;34m\u001b[0m\u001b[0m\n\u001b[1;32m      6\u001b[0m \u001b[0;34m\u001b[0m\u001b[0m\n",
            "\u001b[0;31mNameError\u001b[0m: name 'test_images' is not defined"
          ]
        },
        {
          "output_type": "display_data",
          "data": {
            "image/png": "[encoded data removed]",
            "text/plain": [
              "<Figure size 432x288 with 1 Axes>"
            ]
          },
          "metadata": {
            "tags": [],
            "needs_background": "light"
          }
        }
      ]
    },
    {
      "cell_type": "code",
      "metadata": {
        "colab": {
          "base_uri": "https://localhost:8080/",
          "height": 372
        },
        "id": "75JdQErecwxQ",
        "outputId": "28211dbf-a387-46de-e2c5-f8ad4cd759d1"
      },
      "source": [
        "# Plot non-normalized confusion matrix\r\n",
        "titles_options = [(\"Confusion matrix, without normalization\", None),\r\n",
        "                  (\"Normalized confusion matrix\", 'true')]\r\n",
        "for title, normalize in titles_options:\r\n",
        "    disp = plot_confusion_matrix(history, Test_images, Test_labels,\r\n",
        "                                 cmap=plt.cm.Blues,\r\n",
        "                                 normalize=normalize)\r\n",
        "    disp.ax_.set_title(title)\r\n",
        "\r\n",
        "    print(title)\r\n",
        "    print(disp.confusion_matrix)\r\n",
        "\r\n",
        "plt.show()"
      ],
      "execution_count": 45,
      "outputs": [
        {
          "output_type": "error",
          "ename": "ValueError",
          "evalue": "ignored",
          "traceback": [
            "\u001b[0;31m---------------------------------------------------------------------------\u001b[0m",
            "\u001b[0;31mValueError\u001b[0m                                Traceback (most recent call last)",
            "\u001b[0;32m<ipython-input-45-1ff716eff808>\u001b[0m in \u001b[0;36m<module>\u001b[0;34m()\u001b[0m\n\u001b[1;32m      5\u001b[0m     disp = plot_confusion_matrix(history, Test_images, Test_labels,\n\u001b[1;32m      6\u001b[0m                                  \u001b[0mcmap\u001b[0m\u001b[0;34m=\u001b[0m\u001b[0mplt\u001b[0m\u001b[0;34m.\u001b[0m\u001b[0mcm\u001b[0m\u001b[0;34m.\u001b[0m\u001b[0mBlues\u001b[0m\u001b[0;34m,\u001b[0m\u001b[0;34m\u001b[0m\u001b[0;34m\u001b[0m\u001b[0m\n\u001b[0;32m----> 7\u001b[0;31m                                  normalize=normalize)\n\u001b[0m\u001b[1;32m      8\u001b[0m     \u001b[0mdisp\u001b[0m\u001b[0;34m.\u001b[0m\u001b[0max_\u001b[0m\u001b[0;34m.\u001b[0m\u001b[0mset_title\u001b[0m\u001b[0;34m(\u001b[0m\u001b[0mtitle\u001b[0m\u001b[0;34m)\u001b[0m\u001b[0;34m\u001b[0m\u001b[0;34m\u001b[0m\u001b[0m\n\u001b[1;32m      9\u001b[0m \u001b[0;34m\u001b[0m\u001b[0m\n",
            "\u001b[0;32m/usr/local/lib/python3.6/dist-packages/sklearn/metrics/_plot/confusion_matrix.py\u001b[0m in \u001b[0;36mplot_confusion_matrix\u001b[0;34m(estimator, X, y_true, labels, sample_weight, normalize, display_labels, include_values, xticks_rotation, values_format, cmap, ax)\u001b[0m\n\u001b[1;32m    181\u001b[0m \u001b[0;34m\u001b[0m\u001b[0m\n\u001b[1;32m    182\u001b[0m     \u001b[0;32mif\u001b[0m \u001b[0;32mnot\u001b[0m \u001b[0mis_classifier\u001b[0m\u001b[0;34m(\u001b[0m\u001b[0mestimator\u001b[0m\u001b[0;34m)\u001b[0m\u001b[0;34m:\u001b[0m\u001b[0;34m\u001b[0m\u001b[0;34m\u001b[0m\u001b[0m\n\u001b[0;32m--> 183\u001b[0;31m         \u001b[0;32mraise\u001b[0m \u001b[0mValueError\u001b[0m\u001b[0;34m(\u001b[0m\u001b[0;34m\"plot_confusion_matrix only supports classifiers\"\u001b[0m\u001b[0;34m)\u001b[0m\u001b[0;34m\u001b[0m\u001b[0;34m\u001b[0m\u001b[0m\n\u001b[0m\u001b[1;32m    184\u001b[0m \u001b[0;34m\u001b[0m\u001b[0m\n\u001b[1;32m    185\u001b[0m     \u001b[0my_pred\u001b[0m \u001b[0;34m=\u001b[0m \u001b[0mestimator\u001b[0m\u001b[0;34m.\u001b[0m\u001b[0mpredict\u001b[0m\u001b[0;34m(\u001b[0m\u001b[0mX\u001b[0m\u001b[0;34m)\u001b[0m\u001b[0;34m\u001b[0m\u001b[0;34m\u001b[0m\u001b[0m\n",
            "\u001b[0;31mValueError\u001b[0m: plot_confusion_matrix only supports classifiers"
          ]
        }
      ]
    },
    {
      "cell_type": "code",
      "metadata": {
        "id": "SQXypn4riaX6",
        "outputId": "4177bc4f-e6f7-49e8-f44b-f4050f2231ec",
        "colab": {
          "base_uri": "https://localhost:8080/"
        }
      },
      "source": [
        "import numpy as np\r\n",
        "from sklearn.metrics import confusion_matrix\r\n",
        "\r\n",
        "predict_prob=model.predict(Test_images)\r\n",
        "predict_classes=np.argmax(predict_prob,axis=1)\r\n",
        "\r\n",
        "#predict_classes = model.predict_classes(Test_images)\r\n",
        "true_classes = Train_labels\r\n",
        "#print(confusion_matrix(predict_prob, predict_classes))\r\n",
        "print(predict_prob.shape)\r\n",
        "print(Test_labels.shape)"
      ],
      "execution_count": 53,
      "outputs": [
        {
          "output_type": "stream",
          "text": [
            "(456, 5)\n",
            "(456, 5)\n"
          ],
          "name": "stdout"
        }
      ]
    },
    {
      "cell_type": "code",
      "metadata": {
        "id": "aFCz-d08oyYa"
      },
      "source": [
        "import pandas as pd\r\n",
        "import seaborn as sn\r\n",
        "from sklearn.metrics import confusion_matrix\r\n",
        "import matplotlib.pyplot as plt\r\n",
        " \r\n",
        "def print_cmx(y_true, y_pred):\r\n",
        "    labels = sorted(list(set(y_true)))\r\n",
        "    cmx_data = confusion_matrix(y_true, y_pred, labels=labels)\r\n",
        "    \r\n",
        "    df_cmx = pd.DataFrame(cmx_data, index=labels, columns=labels)\r\n",
        " \r\n",
        "    plt.figure(figsize = (12,7))\r\n",
        "    sn.heatmap(df_cmx, annot=True, fmt='g' ,square = True)\r\n",
        "    plt.show()\r\n",
        " "
      ],
      "execution_count": 76,
      "outputs": []
    },
    {
      "cell_type": "code",
      "metadata": {
        "id": "y3pZlmc9R_td",
        "outputId": "58135acb-2b59-4262-8d87-3cdb40abca09",
        "colab": {
          "base_uri": "https://localhost:8080/",
          "height": 428
        }
      },
      "source": [
        "print_cmx(true_classes, predict_classes)"
      ],
      "execution_count": 77,
      "outputs": [
        {
          "output_type": "display_data",
          "data": {
            "image/png": "[encoded data removed]",
            "text/plain": [
              "<Figure size 864x504 with 2 Axes>"
            ]
          },
          "metadata": {
            "tags": [],
            "needs_background": "light"
          }
        }
      ]
    }
  ]
}